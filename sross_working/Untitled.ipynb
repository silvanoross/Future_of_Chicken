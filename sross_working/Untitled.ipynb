{
 "cells": [
  {
   "cell_type": "code",
   "execution_count": null,
   "id": "b256cb5b-73fa-4cc1-983c-73d16758457d",
   "metadata": {},
   "outputs": [],
   "source": [
    "model = xgb.fit()\n"
   ]
  },
  {
   "cell_type": "code",
   "execution_count": null,
   "id": "43c59ba4-3ecf-48f5-9e46-e0f3deb62e0a",
   "metadata": {},
   "outputs": [],
   "source": [
    "days_to_predict = 12\n",
    "\n",
    "# concat x and prediction together\n",
    "for month in range(0, days_to_predict):\n",
    "    current_pct_return = df[-1]['price'] / df[-2]['price']\n",
    "    X = [day_of_year, month, current_pct_return]\n",
    "    prediciton = model.predict(X)\n",
    "    df = pd.concat([df, prediction])"
   ]
  },
  {
   "cell_type": "code",
   "execution_count": null,
   "id": "77af4879-23ce-4415-83f6-61a29d79b1f8",
   "metadata": {},
   "outputs": [],
   "source": []
  },
  {
   "cell_type": "code",
   "execution_count": null,
   "id": "44a5c2c9-693d-47af-b202-e5c2dbc295d8",
   "metadata": {},
   "outputs": [],
   "source": []
  }
 ],
 "metadata": {
  "kernelspec": {
   "display_name": "Python (dev)",
   "language": "python",
   "name": "dev"
  },
  "language_info": {
   "codemirror_mode": {
    "name": "ipython",
    "version": 3
   },
   "file_extension": ".py",
   "mimetype": "text/x-python",
   "name": "python",
   "nbconvert_exporter": "python",
   "pygments_lexer": "ipython3",
   "version": "3.7.13"
  }
 },
 "nbformat": 4,
 "nbformat_minor": 5
}
