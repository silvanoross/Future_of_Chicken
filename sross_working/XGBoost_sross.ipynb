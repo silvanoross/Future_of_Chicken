{
 "cells": [
  {
   "cell_type": "markdown",
   "id": "1501a995-bab5-4c4f-b61b-02cbd00b1799",
   "metadata": {},
   "source": [
    "# Meat Predictor\n",
    "\n",
    "Show overview of chicken prices visualizing averages based on month and year\n",
    "\n",
    "Use a linear regression model from XGBoost to predict historical meat prices\n",
    "\n",
    "Next analyze the model for different statistical metrics\n",
    "\n",
    "Finally create a dataframe with future data for 1, 5 and 10 years and make predictions for each month"
   ]
  },
  {
   "cell_type": "markdown",
   "id": "424ea507-14a4-4226-af0a-faefa06b96fb",
   "metadata": {},
   "source": [
    "### Create Dataframe of Chicken Prices, SMA short and Long finally visualizing chicken prices based on month"
   ]
  },
  {
   "cell_type": "code",
   "execution_count": 78,
   "id": "0417e88e-fed0-422a-9ed1-2c6fa2f0d425",
   "metadata": {},
   "outputs": [],
   "source": [
    "# Import dependencies\n",
    "import math\n",
    "from datetime import timedelta\n",
    "import pandas as pd\n",
    "from pandas.tseries.offsets import DateOffset\n",
    "import numpy as np\n",
    "from pathlib import Path\n",
    "import xgboost as xgb\n",
    "import pickle\n",
    "import os\n",
    "import hvplot.pandas\n",
    "from sklearn.preprocessing import StandardScaler\n",
    "from sklearn.model_selection import train_test_split, cross_val_score\n",
    "from sklearn.metrics import classification_report, explained_variance_score, mean_absolute_error, mean_squared_error, r2_score\n",
    "from sklearn.model_selection import RepeatedKFold\n",
    "from imblearn.over_sampling import RandomOverSampler\n",
    "import prophet\n",
    "\n",
    "%matplotlib inline"
   ]
  },
  {
   "cell_type": "code",
   "execution_count": 79,
   "id": "1ba7adfe-66af-4e62-bd67-afefa267d87a",
   "metadata": {},
   "outputs": [
    {
     "data": {
      "text/html": [
       "<div>\n",
       "<style scoped>\n",
       "    .dataframe tbody tr th:only-of-type {\n",
       "        vertical-align: middle;\n",
       "    }\n",
       "\n",
       "    .dataframe tbody tr th {\n",
       "        vertical-align: top;\n",
       "    }\n",
       "\n",
       "    .dataframe thead th {\n",
       "        text-align: right;\n",
       "    }\n",
       "</style>\n",
       "<table border=\"1\" class=\"dataframe\">\n",
       "  <thead>\n",
       "    <tr style=\"text-align: right;\">\n",
       "      <th></th>\n",
       "      <th>Month</th>\n",
       "      <th>Chicken Price</th>\n",
       "      <th>Chicken Price Change</th>\n",
       "      <th>Lamb Price</th>\n",
       "      <th>Lamb Price Change</th>\n",
       "      <th>Pork Price</th>\n",
       "      <th>Pork Price Change</th>\n",
       "      <th>Beef Price</th>\n",
       "      <th>Beef Price Change</th>\n",
       "    </tr>\n",
       "  </thead>\n",
       "  <tbody>\n",
       "    <tr>\n",
       "      <th>0</th>\n",
       "      <td>Sep 1992</td>\n",
       "      <td>1.08</td>\n",
       "      <td>-</td>\n",
       "      <td>2.80</td>\n",
       "      <td>-</td>\n",
       "      <td>53.85</td>\n",
       "      <td>-</td>\n",
       "      <td>2.44</td>\n",
       "      <td>-</td>\n",
       "    </tr>\n",
       "    <tr>\n",
       "      <th>1</th>\n",
       "      <td>Oct 1992</td>\n",
       "      <td>1.06</td>\n",
       "      <td>-1.85%</td>\n",
       "      <td>2.52</td>\n",
       "      <td>-10.00%</td>\n",
       "      <td>53.76</td>\n",
       "      <td>-0.17%</td>\n",
       "      <td>2.50</td>\n",
       "      <td>2.46%</td>\n",
       "    </tr>\n",
       "    <tr>\n",
       "      <th>2</th>\n",
       "      <td>Nov 1992</td>\n",
       "      <td>1.09</td>\n",
       "      <td>2.83%</td>\n",
       "      <td>2.55</td>\n",
       "      <td>1.19%</td>\n",
       "      <td>56.06</td>\n",
       "      <td>4.28%</td>\n",
       "      <td>2.54</td>\n",
       "      <td>1.60%</td>\n",
       "    </tr>\n",
       "    <tr>\n",
       "      <th>3</th>\n",
       "      <td>Dec 1992</td>\n",
       "      <td>1.09</td>\n",
       "      <td>0.00%</td>\n",
       "      <td>2.72</td>\n",
       "      <td>6.67%</td>\n",
       "      <td>53.17</td>\n",
       "      <td>-5.16%</td>\n",
       "      <td>2.54</td>\n",
       "      <td>0.00%</td>\n",
       "    </tr>\n",
       "    <tr>\n",
       "      <th>4</th>\n",
       "      <td>Jan 1993</td>\n",
       "      <td>1.11</td>\n",
       "      <td>1.83%</td>\n",
       "      <td>2.69</td>\n",
       "      <td>-1.10%</td>\n",
       "      <td>59.14</td>\n",
       "      <td>11.23%</td>\n",
       "      <td>2.35</td>\n",
       "      <td>-7.48%</td>\n",
       "    </tr>\n",
       "  </tbody>\n",
       "</table>\n",
       "</div>"
      ],
      "text/plain": [
       "      Month  Chicken Price Chicken Price Change  Lamb Price Lamb Price Change  \\\n",
       "0  Sep 1992           1.08                    -        2.80                 -   \n",
       "1  Oct 1992           1.06               -1.85%        2.52           -10.00%   \n",
       "2  Nov 1992           1.09                2.83%        2.55             1.19%   \n",
       "3  Dec 1992           1.09                0.00%        2.72             6.67%   \n",
       "4  Jan 1993           1.11                1.83%        2.69            -1.10%   \n",
       "\n",
       "   Pork Price Pork Price Change  Beef Price Beef Price Change  \n",
       "0       53.85                 -        2.44                 -  \n",
       "1       53.76            -0.17%        2.50             2.46%  \n",
       "2       56.06             4.28%        2.54             1.60%  \n",
       "3       53.17            -5.16%        2.54             0.00%  \n",
       "4       59.14            11.23%        2.35            -7.48%  "
      ]
     },
     "execution_count": 79,
     "metadata": {},
     "output_type": "execute_result"
    }
   ],
   "source": [
    "# Read meat prices into dataframe\n",
    "csv_path = Path('../resources/historic_meat_prices.csv')\n",
    "\n",
    "historic_meat_prices_df = pd.read_csv(csv_path)\n",
    "historic_meat_prices_df.head()"
   ]
  },
  {
   "cell_type": "code",
   "execution_count": 80,
   "id": "f0025b92-2faa-44f9-a0f4-b49f7eca4bca",
   "metadata": {},
   "outputs": [
    {
     "data": {
      "text/html": [
       "<div>\n",
       "<style scoped>\n",
       "    .dataframe tbody tr th:only-of-type {\n",
       "        vertical-align: middle;\n",
       "    }\n",
       "\n",
       "    .dataframe tbody tr th {\n",
       "        vertical-align: top;\n",
       "    }\n",
       "\n",
       "    .dataframe thead th {\n",
       "        text-align: right;\n",
       "    }\n",
       "</style>\n",
       "<table border=\"1\" class=\"dataframe\">\n",
       "  <thead>\n",
       "    <tr style=\"text-align: right;\">\n",
       "      <th></th>\n",
       "      <th>Month</th>\n",
       "      <th>Chicken Price</th>\n",
       "    </tr>\n",
       "  </thead>\n",
       "  <tbody>\n",
       "    <tr>\n",
       "      <th>0</th>\n",
       "      <td>Sep 1992</td>\n",
       "      <td>1.08</td>\n",
       "    </tr>\n",
       "    <tr>\n",
       "      <th>1</th>\n",
       "      <td>Oct 1992</td>\n",
       "      <td>1.06</td>\n",
       "    </tr>\n",
       "    <tr>\n",
       "      <th>2</th>\n",
       "      <td>Nov 1992</td>\n",
       "      <td>1.09</td>\n",
       "    </tr>\n",
       "    <tr>\n",
       "      <th>3</th>\n",
       "      <td>Dec 1992</td>\n",
       "      <td>1.09</td>\n",
       "    </tr>\n",
       "    <tr>\n",
       "      <th>4</th>\n",
       "      <td>Jan 1993</td>\n",
       "      <td>1.11</td>\n",
       "    </tr>\n",
       "    <tr>\n",
       "      <th>...</th>\n",
       "      <td>...</td>\n",
       "      <td>...</td>\n",
       "    </tr>\n",
       "    <tr>\n",
       "      <th>356</th>\n",
       "      <td>May 2022</td>\n",
       "      <td>3.70</td>\n",
       "    </tr>\n",
       "    <tr>\n",
       "      <th>357</th>\n",
       "      <td>Jun 2022</td>\n",
       "      <td>3.67</td>\n",
       "    </tr>\n",
       "    <tr>\n",
       "      <th>358</th>\n",
       "      <td>Jul 2022</td>\n",
       "      <td>3.54</td>\n",
       "    </tr>\n",
       "    <tr>\n",
       "      <th>359</th>\n",
       "      <td>Aug 2022</td>\n",
       "      <td>3.32</td>\n",
       "    </tr>\n",
       "    <tr>\n",
       "      <th>360</th>\n",
       "      <td>Sep 2022</td>\n",
       "      <td>3.31</td>\n",
       "    </tr>\n",
       "  </tbody>\n",
       "</table>\n",
       "<p>361 rows × 2 columns</p>\n",
       "</div>"
      ],
      "text/plain": [
       "        Month  Chicken Price\n",
       "0    Sep 1992           1.08\n",
       "1    Oct 1992           1.06\n",
       "2    Nov 1992           1.09\n",
       "3    Dec 1992           1.09\n",
       "4    Jan 1993           1.11\n",
       "..        ...            ...\n",
       "356  May 2022           3.70\n",
       "357  Jun 2022           3.67\n",
       "358  Jul 2022           3.54\n",
       "359  Aug 2022           3.32\n",
       "360  Sep 2022           3.31\n",
       "\n",
       "[361 rows x 2 columns]"
      ]
     },
     "execution_count": 80,
     "metadata": {},
     "output_type": "execute_result"
    }
   ],
   "source": [
    "# slice DataFrame for only chicken prices\n",
    "chicken_df = historic_meat_prices_df.loc[:, ['Month', 'Chicken Price']]\n",
    "chicken_df"
   ]
  },
  {
   "cell_type": "code",
   "execution_count": 81,
   "id": "09dc13d7-08cb-48f5-bece-a88b60f687c2",
   "metadata": {},
   "outputs": [
    {
     "data": {
      "text/plain": [
       "Month             object\n",
       "Chicken Price    float64\n",
       "dtype: object"
      ]
     },
     "execution_count": 81,
     "metadata": {},
     "output_type": "execute_result"
    }
   ],
   "source": [
    "# Get dytpes\n",
    "chicken_df.dtypes"
   ]
  },
  {
   "cell_type": "code",
   "execution_count": 82,
   "id": "db00a031-50ed-4671-adb6-50b54e6111fb",
   "metadata": {},
   "outputs": [
    {
     "data": {
      "text/html": [
       "<div>\n",
       "<style scoped>\n",
       "    .dataframe tbody tr th:only-of-type {\n",
       "        vertical-align: middle;\n",
       "    }\n",
       "\n",
       "    .dataframe tbody tr th {\n",
       "        vertical-align: top;\n",
       "    }\n",
       "\n",
       "    .dataframe thead th {\n",
       "        text-align: right;\n",
       "    }\n",
       "</style>\n",
       "<table border=\"1\" class=\"dataframe\">\n",
       "  <thead>\n",
       "    <tr style=\"text-align: right;\">\n",
       "      <th></th>\n",
       "      <th>Month</th>\n",
       "      <th>Chicken Price</th>\n",
       "    </tr>\n",
       "  </thead>\n",
       "  <tbody>\n",
       "    <tr>\n",
       "      <th>0</th>\n",
       "      <td>1992-09-01</td>\n",
       "      <td>1.08</td>\n",
       "    </tr>\n",
       "    <tr>\n",
       "      <th>1</th>\n",
       "      <td>1992-10-01</td>\n",
       "      <td>1.06</td>\n",
       "    </tr>\n",
       "    <tr>\n",
       "      <th>2</th>\n",
       "      <td>1992-11-01</td>\n",
       "      <td>1.09</td>\n",
       "    </tr>\n",
       "    <tr>\n",
       "      <th>3</th>\n",
       "      <td>1992-12-01</td>\n",
       "      <td>1.09</td>\n",
       "    </tr>\n",
       "    <tr>\n",
       "      <th>4</th>\n",
       "      <td>1993-01-01</td>\n",
       "      <td>1.11</td>\n",
       "    </tr>\n",
       "  </tbody>\n",
       "</table>\n",
       "</div>"
      ],
      "text/plain": [
       "       Month  Chicken Price\n",
       "0 1992-09-01           1.08\n",
       "1 1992-10-01           1.06\n",
       "2 1992-11-01           1.09\n",
       "3 1992-12-01           1.09\n",
       "4 1993-01-01           1.11"
      ]
     },
     "execution_count": 82,
     "metadata": {},
     "output_type": "execute_result"
    }
   ],
   "source": [
    "# change Month into datetime object\n",
    "chicken_df['Month'] = pd.to_datetime(chicken_df['Month'], format='%b %Y')\n",
    "chicken_df.head()"
   ]
  },
  {
   "cell_type": "code",
   "execution_count": 83,
   "id": "e6959c6a-e67e-463c-a498-88e009cd4440",
   "metadata": {},
   "outputs": [
    {
     "data": {
      "text/plain": [
       "Month            datetime64[ns]\n",
       "Chicken Price           float64\n",
       "dtype: object"
      ]
     },
     "execution_count": 83,
     "metadata": {},
     "output_type": "execute_result"
    }
   ],
   "source": [
    "# Check dtypes\n",
    "chicken_df.dtypes"
   ]
  },
  {
   "cell_type": "code",
   "execution_count": null,
   "id": "ccd051ae-5261-48a0-b531-712124b3ddd0",
   "metadata": {},
   "outputs": [],
   "source": []
  },
  {
   "cell_type": "code",
   "execution_count": 84,
   "id": "57c421ab-78d8-4636-9637-cc01c56a4758",
   "metadata": {},
   "outputs": [
    {
     "data": {
      "text/html": [
       "<div>\n",
       "<style scoped>\n",
       "    .dataframe tbody tr th:only-of-type {\n",
       "        vertical-align: middle;\n",
       "    }\n",
       "\n",
       "    .dataframe tbody tr th {\n",
       "        vertical-align: top;\n",
       "    }\n",
       "\n",
       "    .dataframe thead th {\n",
       "        text-align: right;\n",
       "    }\n",
       "</style>\n",
       "<table border=\"1\" class=\"dataframe\">\n",
       "  <thead>\n",
       "    <tr style=\"text-align: right;\">\n",
       "      <th></th>\n",
       "      <th>Date</th>\n",
       "      <th>Chicken Price</th>\n",
       "    </tr>\n",
       "  </thead>\n",
       "  <tbody>\n",
       "    <tr>\n",
       "      <th>0</th>\n",
       "      <td>1992-09-01</td>\n",
       "      <td>1.08</td>\n",
       "    </tr>\n",
       "    <tr>\n",
       "      <th>1</th>\n",
       "      <td>1992-10-01</td>\n",
       "      <td>1.06</td>\n",
       "    </tr>\n",
       "    <tr>\n",
       "      <th>2</th>\n",
       "      <td>1992-11-01</td>\n",
       "      <td>1.09</td>\n",
       "    </tr>\n",
       "    <tr>\n",
       "      <th>3</th>\n",
       "      <td>1992-12-01</td>\n",
       "      <td>1.09</td>\n",
       "    </tr>\n",
       "    <tr>\n",
       "      <th>4</th>\n",
       "      <td>1993-01-01</td>\n",
       "      <td>1.11</td>\n",
       "    </tr>\n",
       "  </tbody>\n",
       "</table>\n",
       "</div>"
      ],
      "text/plain": [
       "        Date  Chicken Price\n",
       "0 1992-09-01           1.08\n",
       "1 1992-10-01           1.06\n",
       "2 1992-11-01           1.09\n",
       "3 1992-12-01           1.09\n",
       "4 1993-01-01           1.11"
      ]
     },
     "execution_count": 84,
     "metadata": {},
     "output_type": "execute_result"
    }
   ],
   "source": [
    "# Rename Month to Date\n",
    "chicken_df = chicken_df.rename(columns={'Month': 'Date'})\n",
    "chicken_df.head()"
   ]
  },
  {
   "cell_type": "code",
   "execution_count": 85,
   "id": "3797fb64-484a-41e8-816a-55361aa66dc7",
   "metadata": {},
   "outputs": [
    {
     "data": {
      "text/html": [
       "<div>\n",
       "<style scoped>\n",
       "    .dataframe tbody tr th:only-of-type {\n",
       "        vertical-align: middle;\n",
       "    }\n",
       "\n",
       "    .dataframe tbody tr th {\n",
       "        vertical-align: top;\n",
       "    }\n",
       "\n",
       "    .dataframe thead th {\n",
       "        text-align: right;\n",
       "    }\n",
       "</style>\n",
       "<table border=\"1\" class=\"dataframe\">\n",
       "  <thead>\n",
       "    <tr style=\"text-align: right;\">\n",
       "      <th></th>\n",
       "      <th>Chicken Price</th>\n",
       "    </tr>\n",
       "    <tr>\n",
       "      <th>Date</th>\n",
       "      <th></th>\n",
       "    </tr>\n",
       "  </thead>\n",
       "  <tbody>\n",
       "    <tr>\n",
       "      <th>1992-09-01</th>\n",
       "      <td>1.08</td>\n",
       "    </tr>\n",
       "    <tr>\n",
       "      <th>1992-10-01</th>\n",
       "      <td>1.06</td>\n",
       "    </tr>\n",
       "    <tr>\n",
       "      <th>1992-11-01</th>\n",
       "      <td>1.09</td>\n",
       "    </tr>\n",
       "    <tr>\n",
       "      <th>1992-12-01</th>\n",
       "      <td>1.09</td>\n",
       "    </tr>\n",
       "    <tr>\n",
       "      <th>1993-01-01</th>\n",
       "      <td>1.11</td>\n",
       "    </tr>\n",
       "    <tr>\n",
       "      <th>...</th>\n",
       "      <td>...</td>\n",
       "    </tr>\n",
       "    <tr>\n",
       "      <th>2022-05-01</th>\n",
       "      <td>3.70</td>\n",
       "    </tr>\n",
       "    <tr>\n",
       "      <th>2022-06-01</th>\n",
       "      <td>3.67</td>\n",
       "    </tr>\n",
       "    <tr>\n",
       "      <th>2022-07-01</th>\n",
       "      <td>3.54</td>\n",
       "    </tr>\n",
       "    <tr>\n",
       "      <th>2022-08-01</th>\n",
       "      <td>3.32</td>\n",
       "    </tr>\n",
       "    <tr>\n",
       "      <th>2022-09-01</th>\n",
       "      <td>3.31</td>\n",
       "    </tr>\n",
       "  </tbody>\n",
       "</table>\n",
       "<p>361 rows × 1 columns</p>\n",
       "</div>"
      ],
      "text/plain": [
       "            Chicken Price\n",
       "Date                     \n",
       "1992-09-01           1.08\n",
       "1992-10-01           1.06\n",
       "1992-11-01           1.09\n",
       "1992-12-01           1.09\n",
       "1993-01-01           1.11\n",
       "...                   ...\n",
       "2022-05-01           3.70\n",
       "2022-06-01           3.67\n",
       "2022-07-01           3.54\n",
       "2022-08-01           3.32\n",
       "2022-09-01           3.31\n",
       "\n",
       "[361 rows x 1 columns]"
      ]
     },
     "execution_count": 85,
     "metadata": {},
     "output_type": "execute_result"
    }
   ],
   "source": [
    "# Set index as Month\n",
    "chicken_df = chicken_df.set_index(['Date'])\n",
    "\n",
    "chicken_df"
   ]
  },
  {
   "cell_type": "code",
   "execution_count": 86,
   "id": "4579991a-456d-47cf-8402-e54ae6653c48",
   "metadata": {},
   "outputs": [
    {
     "data": {
      "text/html": [
       "<div>\n",
       "<style scoped>\n",
       "    .dataframe tbody tr th:only-of-type {\n",
       "        vertical-align: middle;\n",
       "    }\n",
       "\n",
       "    .dataframe tbody tr th {\n",
       "        vertical-align: top;\n",
       "    }\n",
       "\n",
       "    .dataframe thead th {\n",
       "        text-align: right;\n",
       "    }\n",
       "</style>\n",
       "<table border=\"1\" class=\"dataframe\">\n",
       "  <thead>\n",
       "    <tr style=\"text-align: right;\">\n",
       "      <th></th>\n",
       "      <th>Chicken Price</th>\n",
       "      <th>pct_change</th>\n",
       "    </tr>\n",
       "    <tr>\n",
       "      <th>Date</th>\n",
       "      <th></th>\n",
       "      <th></th>\n",
       "    </tr>\n",
       "  </thead>\n",
       "  <tbody>\n",
       "    <tr>\n",
       "      <th>1992-10-01</th>\n",
       "      <td>1.06</td>\n",
       "      <td>-0.018519</td>\n",
       "    </tr>\n",
       "    <tr>\n",
       "      <th>1992-11-01</th>\n",
       "      <td>1.09</td>\n",
       "      <td>0.028302</td>\n",
       "    </tr>\n",
       "    <tr>\n",
       "      <th>1992-12-01</th>\n",
       "      <td>1.09</td>\n",
       "      <td>0.000000</td>\n",
       "    </tr>\n",
       "    <tr>\n",
       "      <th>1993-01-01</th>\n",
       "      <td>1.11</td>\n",
       "      <td>0.018349</td>\n",
       "    </tr>\n",
       "    <tr>\n",
       "      <th>1993-02-01</th>\n",
       "      <td>1.13</td>\n",
       "      <td>0.018018</td>\n",
       "    </tr>\n",
       "  </tbody>\n",
       "</table>\n",
       "</div>"
      ],
      "text/plain": [
       "            Chicken Price  pct_change\n",
       "Date                                 \n",
       "1992-10-01           1.06   -0.018519\n",
       "1992-11-01           1.09    0.028302\n",
       "1992-12-01           1.09    0.000000\n",
       "1993-01-01           1.11    0.018349\n",
       "1993-02-01           1.13    0.018018"
      ]
     },
     "execution_count": 86,
     "metadata": {},
     "output_type": "execute_result"
    }
   ],
   "source": [
    "# Create daily percent change\n",
    "chicken_df['pct_change'] = chicken_df['Chicken Price'].pct_change()\n",
    "\n",
    "# drop nan values\n",
    "chicken_df = chicken_df.dropna()\n",
    "\n",
    "# Review Data Frame\n",
    "chicken_df.head()"
   ]
  },
  {
   "cell_type": "code",
   "execution_count": 87,
   "id": "cbe4edae-17a6-4ba4-855f-b2d62da4eba2",
   "metadata": {},
   "outputs": [
    {
     "data": {},
     "metadata": {},
     "output_type": "display_data"
    },
    {
     "data": {
      "application/vnd.holoviews_exec.v0+json": "",
      "text/html": [
       "<div id='2812'>\n",
       "  <div class=\"bk-root\" id=\"d437237e-1183-4cb7-a3a9-ca92dd4c2b78\" data-root-id=\"2812\"></div>\n",
       "</div>\n",
       "<script type=\"application/javascript\">(function(root) {\n",
       "  function embed_document(root) {\n",
       "    var docs_json = {\"fe576475-98cf-4f30-a8f6-e2f4a0d3bf12\":{\"defs\":[{\"extends\":null,\"module\":null,\"name\":\"ReactiveHTML1\",\"overrides\":[],\"properties\":[]},{\"extends\":null,\"module\":null,\"name\":\"FlexBox1\",\"overrides\":[],\"properties\":[{\"default\":\"flex-start\",\"kind\":null,\"name\":\"align_content\"},{\"default\":\"flex-start\",\"kind\":null,\"name\":\"align_items\"},{\"default\":\"row\",\"kind\":null,\"name\":\"flex_direction\"},{\"default\":\"wrap\",\"kind\":null,\"name\":\"flex_wrap\"},{\"default\":\"flex-start\",\"kind\":null,\"name\":\"justify_content\"}]},{\"extends\":null,\"module\":null,\"name\":\"GridStack1\",\"overrides\":[],\"properties\":[{\"default\":\"warn\",\"kind\":null,\"name\":\"mode\"},{\"default\":null,\"kind\":null,\"name\":\"ncols\"},{\"default\":null,\"kind\":null,\"name\":\"nrows\"},{\"default\":true,\"kind\":null,\"name\":\"allow_resize\"},{\"default\":true,\"kind\":null,\"name\":\"allow_drag\"},{\"default\":[],\"kind\":null,\"name\":\"state\"}]},{\"extends\":null,\"module\":null,\"name\":\"click1\",\"overrides\":[],\"properties\":[{\"default\":\"\",\"kind\":null,\"name\":\"terminal_output\"},{\"default\":\"\",\"kind\":null,\"name\":\"debug_name\"},{\"default\":0,\"kind\":null,\"name\":\"clears\"}]},{\"extends\":null,\"module\":null,\"name\":\"NotificationAreaBase1\",\"overrides\":[],\"properties\":[{\"default\":\"bottom-right\",\"kind\":null,\"name\":\"position\"},{\"default\":0,\"kind\":null,\"name\":\"_clear\"}]},{\"extends\":null,\"module\":null,\"name\":\"NotificationArea1\",\"overrides\":[],\"properties\":[{\"default\":[],\"kind\":null,\"name\":\"notifications\"},{\"default\":\"bottom-right\",\"kind\":null,\"name\":\"position\"},{\"default\":0,\"kind\":null,\"name\":\"_clear\"},{\"default\":[{\"background\":\"#ffc107\",\"icon\":{\"className\":\"fas fa-exclamation-triangle\",\"color\":\"white\",\"tagName\":\"i\"},\"type\":\"warning\"},{\"background\":\"#007bff\",\"icon\":{\"className\":\"fas fa-info-circle\",\"color\":\"white\",\"tagName\":\"i\"},\"type\":\"info\"}],\"kind\":null,\"name\":\"types\"}]},{\"extends\":null,\"module\":null,\"name\":\"Notification\",\"overrides\":[],\"properties\":[{\"default\":null,\"kind\":null,\"name\":\"background\"},{\"default\":3000,\"kind\":null,\"name\":\"duration\"},{\"default\":null,\"kind\":null,\"name\":\"icon\"},{\"default\":\"\",\"kind\":null,\"name\":\"message\"},{\"default\":null,\"kind\":null,\"name\":\"notification_type\"},{\"default\":false,\"kind\":null,\"name\":\"_destroyed\"}]},{\"extends\":null,\"module\":null,\"name\":\"TemplateActions1\",\"overrides\":[],\"properties\":[{\"default\":0,\"kind\":null,\"name\":\"open_modal\"},{\"default\":0,\"kind\":null,\"name\":\"close_modal\"}]},{\"extends\":null,\"module\":null,\"name\":\"MaterialTemplateActions1\",\"overrides\":[],\"properties\":[{\"default\":0,\"kind\":null,\"name\":\"open_modal\"},{\"default\":0,\"kind\":null,\"name\":\"close_modal\"}]}],\"roots\":{\"references\":[{\"attributes\":{\"end\":3.9640000000000004,\"reset_end\":3.9640000000000004,\"reset_start\":0.796,\"start\":0.796,\"tags\":[[[\"Chicken Price\",\"Chicken Price\",null]]]},\"id\":\"2815\",\"type\":\"Range1d\"},{\"attributes\":{\"base\":60,\"mantissas\":[1,2,5,10,15,20,30],\"max_interval\":1800000.0,\"min_interval\":1000.0,\"num_minor_ticks\":0},\"id\":\"2873\",\"type\":\"AdaptiveTicker\"},{\"attributes\":{\"children\":[{\"id\":\"2813\"},{\"id\":\"2817\"},{\"id\":\"2884\"}],\"margin\":[0,0,0,0],\"name\":\"Row01978\",\"tags\":[\"embedded\"]},\"id\":\"2812\",\"type\":\"Row\"},{\"attributes\":{\"source\":{\"id\":\"2847\"}},\"id\":\"2854\",\"type\":\"CDSView\"},{\"attributes\":{},\"id\":\"2835\",\"type\":\"PanTool\"},{\"attributes\":{},\"id\":\"2857\",\"type\":\"DatetimeTickFormatter\"},{\"attributes\":{},\"id\":\"2838\",\"type\":\"ResetTool\"},{\"attributes\":{},\"id\":\"2858\",\"type\":\"AllLabels\"},{\"attributes\":{},\"id\":\"2848\",\"type\":\"Selection\"},{\"attributes\":{\"mantissas\":[1,2,5],\"max_interval\":500.0,\"num_minor_ticks\":0},\"id\":\"2872\",\"type\":\"AdaptiveTicker\"},{\"attributes\":{\"line_color\":\"#30a2da\",\"line_width\":2,\"x\":{\"field\":\"Date\"},\"y\":{\"field\":\"Chicken Price\"}},\"id\":\"2855\",\"type\":\"Line\"},{\"attributes\":{},\"id\":\"2836\",\"type\":\"WheelZoomTool\"},{\"attributes\":{\"base\":24,\"mantissas\":[1,2,4,6,8,12],\"max_interval\":43200000.0,\"min_interval\":3600000.0,\"num_minor_ticks\":0},\"id\":\"2874\",\"type\":\"AdaptiveTicker\"},{\"attributes\":{\"margin\":[5,5,5,5],\"name\":\"HSpacer01982\",\"sizing_mode\":\"stretch_width\"},\"id\":\"2813\",\"type\":\"Spacer\"},{\"attributes\":{},\"id\":\"2822\",\"type\":\"LinearScale\"},{\"attributes\":{\"callback\":null,\"formatters\":{\"@{Date}\":\"datetime\"},\"renderers\":[{\"id\":\"2853\"}],\"tags\":[\"hv_created\"],\"tooltips\":[[\"Date\",\"@{Date}{%F %T}\"],[\"Chicken Price\",\"@{Chicken_Price}\"]]},\"id\":\"2816\",\"type\":\"HoverTool\"},{\"attributes\":{\"overlay\":{\"id\":\"2839\"}},\"id\":\"2837\",\"type\":\"BoxZoomTool\"},{\"attributes\":{\"line_alpha\":0.2,\"line_color\":\"#30a2da\",\"line_width\":2,\"x\":{\"field\":\"Date\"},\"y\":{\"field\":\"Chicken Price\"}},\"id\":\"2852\",\"type\":\"Line\"},{\"attributes\":{\"data\":{\"Chicken Price\":{\"__ndarray__\":\"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\",\"dtype\":\"float64\",\"order\":\"little\",\"shape\":[360]},\"Chicken_Price\":{\"__ndarray__\":\"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\",\"dtype\":\"float64\",\"order\":\"little\",\"shape\":[360]},\"Date\":{\"__ndarray__\":\"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\",\"dtype\":\"float64\",\"order\":\"little\",\"shape\":[360]}},\"selected\":{\"id\":\"2848\"},\"selection_policy\":{\"id\":\"2869\"}},\"id\":\"2847\",\"type\":\"ColumnDataSource\"},{\"attributes\":{\"days\":[1,4,7,10,13,16,19,22,25,28]},\"id\":\"2876\",\"type\":\"DaysTicker\"},{\"attributes\":{\"coordinates\":null,\"group\":null,\"text\":\"Cost of Chicken per Pound since 1992\",\"text_color\":\"black\",\"text_font_size\":\"12pt\"},\"id\":\"2818\",\"type\":\"Title\"},{\"attributes\":{\"axis_label\":\"Date\",\"coordinates\":null,\"formatter\":{\"id\":\"2857\"},\"group\":null,\"major_label_policy\":{\"id\":\"2858\"},\"ticker\":{\"id\":\"2827\"}},\"id\":\"2826\",\"type\":\"DatetimeAxis\"},{\"attributes\":{\"line_alpha\":0.1,\"line_color\":\"#30a2da\",\"line_width\":2,\"x\":{\"field\":\"Date\"},\"y\":{\"field\":\"Chicken Price\"}},\"id\":\"2851\",\"type\":\"Line\"},{\"attributes\":{},\"id\":\"2831\",\"type\":\"BasicTicker\"},{\"attributes\":{\"months\":[0,1,2,3,4,5,6,7,8,9,10,11]},\"id\":\"2879\",\"type\":\"MonthsTicker\"},{\"attributes\":{\"num_minor_ticks\":5,\"tickers\":[{\"id\":\"2872\"},{\"id\":\"2873\"},{\"id\":\"2874\"},{\"id\":\"2875\"},{\"id\":\"2876\"},{\"id\":\"2877\"},{\"id\":\"2878\"},{\"id\":\"2879\"},{\"id\":\"2880\"},{\"id\":\"2881\"},{\"id\":\"2882\"},{\"id\":\"2883\"}]},\"id\":\"2827\",\"type\":\"DatetimeTicker\"},{\"attributes\":{\"days\":[1,8,15,22]},\"id\":\"2877\",\"type\":\"DaysTicker\"},{\"attributes\":{\"days\":[1,2,3,4,5,6,7,8,9,10,11,12,13,14,15,16,17,18,19,20,21,22,23,24,25,26,27,28,29,30,31]},\"id\":\"2875\",\"type\":\"DaysTicker\"},{\"attributes\":{\"days\":[1,15]},\"id\":\"2878\",\"type\":\"DaysTicker\"},{\"attributes\":{\"tools\":[{\"id\":\"2816\"},{\"id\":\"2834\"},{\"id\":\"2835\"},{\"id\":\"2836\"},{\"id\":\"2837\"},{\"id\":\"2838\"}]},\"id\":\"2840\",\"type\":\"Toolbar\"},{\"attributes\":{},\"id\":\"2824\",\"type\":\"LinearScale\"},{\"attributes\":{\"axis_label\":\"Chicken Price\",\"coordinates\":null,\"formatter\":{\"id\":\"2860\"},\"group\":null,\"major_label_policy\":{\"id\":\"2861\"},\"ticker\":{\"id\":\"2831\"}},\"id\":\"2830\",\"type\":\"LinearAxis\"},{\"attributes\":{\"axis\":{\"id\":\"2826\"},\"coordinates\":null,\"grid_line_color\":null,\"group\":null,\"ticker\":null},\"id\":\"2829\",\"type\":\"Grid\"},{\"attributes\":{\"months\":[0,2,4,6,8,10]},\"id\":\"2880\",\"type\":\"MonthsTicker\"},{\"attributes\":{\"axis\":{\"id\":\"2830\"},\"coordinates\":null,\"dimension\":1,\"grid_line_color\":null,\"group\":null,\"ticker\":null},\"id\":\"2833\",\"type\":\"Grid\"},{\"attributes\":{\"months\":[0,4,8]},\"id\":\"2881\",\"type\":\"MonthsTicker\"},{\"attributes\":{\"coordinates\":null,\"data_source\":{\"id\":\"2847\"},\"glyph\":{\"id\":\"2850\"},\"group\":null,\"hover_glyph\":null,\"muted_glyph\":{\"id\":\"2852\"},\"nonselection_glyph\":{\"id\":\"2851\"},\"selection_glyph\":{\"id\":\"2855\"},\"view\":{\"id\":\"2854\"}},\"id\":\"2853\",\"type\":\"GlyphRenderer\"},{\"attributes\":{},\"id\":\"2861\",\"type\":\"AllLabels\"},{\"attributes\":{\"months\":[0,6]},\"id\":\"2882\",\"type\":\"MonthsTicker\"},{\"attributes\":{\"bottom_units\":\"screen\",\"coordinates\":null,\"fill_alpha\":0.5,\"fill_color\":\"lightgrey\",\"group\":null,\"left_units\":\"screen\",\"level\":\"overlay\",\"line_alpha\":1.0,\"line_color\":\"black\",\"line_dash\":[4,4],\"line_width\":2,\"right_units\":\"screen\",\"syncable\":false,\"top_units\":\"screen\"},\"id\":\"2839\",\"type\":\"BoxAnnotation\"},{\"attributes\":{\"end\":1661990400000.0,\"reset_end\":1661990400000.0,\"reset_start\":717897600000.0,\"start\":717897600000.0,\"tags\":[[[\"Date\",\"Date\",null]]]},\"id\":\"2814\",\"type\":\"Range1d\"},{\"attributes\":{},\"id\":\"2834\",\"type\":\"SaveTool\"},{\"attributes\":{\"below\":[{\"id\":\"2826\"}],\"center\":[{\"id\":\"2829\"},{\"id\":\"2833\"}],\"height\":300,\"left\":[{\"id\":\"2830\"}],\"margin\":[5,5,5,5],\"min_border_bottom\":10,\"min_border_left\":10,\"min_border_right\":10,\"min_border_top\":10,\"renderers\":[{\"id\":\"2853\"}],\"sizing_mode\":\"fixed\",\"title\":{\"id\":\"2818\"},\"toolbar\":{\"id\":\"2840\"},\"width\":700,\"x_range\":{\"id\":\"2814\"},\"x_scale\":{\"id\":\"2822\"},\"y_range\":{\"id\":\"2815\"},\"y_scale\":{\"id\":\"2824\"}},\"id\":\"2817\",\"subtype\":\"Figure\",\"type\":\"Plot\"},{\"attributes\":{\"line_color\":\"#30a2da\",\"line_width\":2,\"x\":{\"field\":\"Date\"},\"y\":{\"field\":\"Chicken Price\"}},\"id\":\"2850\",\"type\":\"Line\"},{\"attributes\":{},\"id\":\"2869\",\"type\":\"UnionRenderers\"},{\"attributes\":{},\"id\":\"2883\",\"type\":\"YearsTicker\"},{\"attributes\":{},\"id\":\"2860\",\"type\":\"BasicTickFormatter\"},{\"attributes\":{\"margin\":[5,5,5,5],\"name\":\"HSpacer01983\",\"sizing_mode\":\"stretch_width\"},\"id\":\"2884\",\"type\":\"Spacer\"}],\"root_ids\":[\"2812\"]},\"title\":\"Bokeh Application\",\"version\":\"2.4.3\"}};\n",
       "    var render_items = [{\"docid\":\"fe576475-98cf-4f30-a8f6-e2f4a0d3bf12\",\"root_ids\":[\"2812\"],\"roots\":{\"2812\":\"d437237e-1183-4cb7-a3a9-ca92dd4c2b78\"}}];\n",
       "    root.Bokeh.embed.embed_items_notebook(docs_json, render_items);\n",
       "  }\n",
       "  if (root.Bokeh !== undefined && root.Bokeh.Panel !== undefined) {\n",
       "    embed_document(root);\n",
       "  } else {\n",
       "    var attempts = 0;\n",
       "    var timer = setInterval(function(root) {\n",
       "      if (root.Bokeh !== undefined && root.Bokeh.Panel !== undefined) {\n",
       "        clearInterval(timer);\n",
       "        embed_document(root);\n",
       "      } else if (document.readyState == \"complete\") {\n",
       "        attempts++;\n",
       "        if (attempts > 200) {\n",
       "          clearInterval(timer);\n",
       "          console.log(\"Bokeh: ERROR: Unable to run BokehJS code because BokehJS library is missing\");\n",
       "        }\n",
       "      }\n",
       "    }, 25, root)\n",
       "  }\n",
       "})(window);</script>"
      ],
      "text/plain": [
       ":Curve   [Date]   (Chicken Price)"
      ]
     },
     "execution_count": 87,
     "metadata": {
      "application/vnd.holoviews_exec.v0+json": {
       "id": "2812"
      }
     },
     "output_type": "execute_result"
    }
   ],
   "source": [
    "# Plot Price Data\n",
    "chicken_df_plot = chicken_df.hvplot.line(\n",
    "    x='Date',\n",
    "    y='Chicken Price',\n",
    "    label='Cost of Chicken per Pound since 1992',\n",
    "    shared_axes=True\n",
    ")\n",
    "chicken_df_plot"
   ]
  },
  {
   "cell_type": "code",
   "execution_count": 88,
   "id": "66f25749-95eb-48d1-8ab6-7e7c552db402",
   "metadata": {},
   "outputs": [
    {
     "data": {},
     "metadata": {},
     "output_type": "display_data"
    },
    {
     "data": {
      "application/vnd.holoviews_exec.v0+json": "",
      "text/html": [
       "<div id='2996'>\n",
       "  <div class=\"bk-root\" id=\"d7711477-3bcd-40c6-99cf-29c81a3afd7d\" data-root-id=\"2996\"></div>\n",
       "</div>\n",
       "<script type=\"application/javascript\">(function(root) {\n",
       "  function embed_document(root) {\n",
       "    var docs_json = {\"76d92953-190f-4d57-95ed-87fcf84a8cd3\":{\"defs\":[{\"extends\":null,\"module\":null,\"name\":\"ReactiveHTML1\",\"overrides\":[],\"properties\":[]},{\"extends\":null,\"module\":null,\"name\":\"FlexBox1\",\"overrides\":[],\"properties\":[{\"default\":\"flex-start\",\"kind\":null,\"name\":\"align_content\"},{\"default\":\"flex-start\",\"kind\":null,\"name\":\"align_items\"},{\"default\":\"row\",\"kind\":null,\"name\":\"flex_direction\"},{\"default\":\"wrap\",\"kind\":null,\"name\":\"flex_wrap\"},{\"default\":\"flex-start\",\"kind\":null,\"name\":\"justify_content\"}]},{\"extends\":null,\"module\":null,\"name\":\"GridStack1\",\"overrides\":[],\"properties\":[{\"default\":\"warn\",\"kind\":null,\"name\":\"mode\"},{\"default\":null,\"kind\":null,\"name\":\"ncols\"},{\"default\":null,\"kind\":null,\"name\":\"nrows\"},{\"default\":true,\"kind\":null,\"name\":\"allow_resize\"},{\"default\":true,\"kind\":null,\"name\":\"allow_drag\"},{\"default\":[],\"kind\":null,\"name\":\"state\"}]},{\"extends\":null,\"module\":null,\"name\":\"click1\",\"overrides\":[],\"properties\":[{\"default\":\"\",\"kind\":null,\"name\":\"terminal_output\"},{\"default\":\"\",\"kind\":null,\"name\":\"debug_name\"},{\"default\":0,\"kind\":null,\"name\":\"clears\"}]},{\"extends\":null,\"module\":null,\"name\":\"NotificationAreaBase1\",\"overrides\":[],\"properties\":[{\"default\":\"bottom-right\",\"kind\":null,\"name\":\"position\"},{\"default\":0,\"kind\":null,\"name\":\"_clear\"}]},{\"extends\":null,\"module\":null,\"name\":\"NotificationArea1\",\"overrides\":[],\"properties\":[{\"default\":[],\"kind\":null,\"name\":\"notifications\"},{\"default\":\"bottom-right\",\"kind\":null,\"name\":\"position\"},{\"default\":0,\"kind\":null,\"name\":\"_clear\"},{\"default\":[{\"background\":\"#ffc107\",\"icon\":{\"className\":\"fas fa-exclamation-triangle\",\"color\":\"white\",\"tagName\":\"i\"},\"type\":\"warning\"},{\"background\":\"#007bff\",\"icon\":{\"className\":\"fas fa-info-circle\",\"color\":\"white\",\"tagName\":\"i\"},\"type\":\"info\"}],\"kind\":null,\"name\":\"types\"}]},{\"extends\":null,\"module\":null,\"name\":\"Notification\",\"overrides\":[],\"properties\":[{\"default\":null,\"kind\":null,\"name\":\"background\"},{\"default\":3000,\"kind\":null,\"name\":\"duration\"},{\"default\":null,\"kind\":null,\"name\":\"icon\"},{\"default\":\"\",\"kind\":null,\"name\":\"message\"},{\"default\":null,\"kind\":null,\"name\":\"notification_type\"},{\"default\":false,\"kind\":null,\"name\":\"_destroyed\"}]},{\"extends\":null,\"module\":null,\"name\":\"TemplateActions1\",\"overrides\":[],\"properties\":[{\"default\":0,\"kind\":null,\"name\":\"open_modal\"},{\"default\":0,\"kind\":null,\"name\":\"close_modal\"}]},{\"extends\":null,\"module\":null,\"name\":\"MaterialTemplateActions1\",\"overrides\":[],\"properties\":[{\"default\":0,\"kind\":null,\"name\":\"open_modal\"},{\"default\":0,\"kind\":null,\"name\":\"close_modal\"}]}],\"roots\":{\"references\":[{\"attributes\":{},\"id\":\"3015\",\"type\":\"BasicTicker\"},{\"attributes\":{\"num_minor_ticks\":5,\"tickers\":[{\"id\":\"3056\"},{\"id\":\"3057\"},{\"id\":\"3058\"},{\"id\":\"3059\"},{\"id\":\"3060\"},{\"id\":\"3061\"},{\"id\":\"3062\"},{\"id\":\"3063\"},{\"id\":\"3064\"},{\"id\":\"3065\"},{\"id\":\"3066\"},{\"id\":\"3067\"}]},\"id\":\"3011\",\"type\":\"DatetimeTicker\"},{\"attributes\":{\"base\":60,\"mantissas\":[1,2,5,10,15,20,30],\"max_interval\":1800000.0,\"min_interval\":1000.0,\"num_minor_ticks\":0},\"id\":\"3057\",\"type\":\"AdaptiveTicker\"},{\"attributes\":{\"months\":[0,1,2,3,4,5,6,7,8,9,10,11]},\"id\":\"3063\",\"type\":\"MonthsTicker\"},{\"attributes\":{\"below\":[{\"id\":\"3010\"}],\"center\":[{\"id\":\"3013\"},{\"id\":\"3017\"}],\"height\":300,\"left\":[{\"id\":\"3014\"}],\"margin\":[5,5,5,5],\"min_border_bottom\":10,\"min_border_left\":10,\"min_border_right\":10,\"min_border_top\":10,\"renderers\":[{\"id\":\"3037\"}],\"sizing_mode\":\"fixed\",\"title\":{\"id\":\"3002\"},\"toolbar\":{\"id\":\"3024\"},\"width\":700,\"x_range\":{\"id\":\"2998\"},\"x_scale\":{\"id\":\"3006\"},\"y_range\":{\"id\":\"2999\"},\"y_scale\":{\"id\":\"3008\"}},\"id\":\"3001\",\"subtype\":\"Figure\",\"type\":\"Plot\"},{\"attributes\":{\"tools\":[{\"id\":\"3000\"},{\"id\":\"3018\"},{\"id\":\"3019\"},{\"id\":\"3020\"},{\"id\":\"3021\"},{\"id\":\"3022\"}]},\"id\":\"3024\",\"type\":\"Toolbar\"},{\"attributes\":{},\"id\":\"3008\",\"type\":\"LinearScale\"},{\"attributes\":{\"days\":[1,8,15,22]},\"id\":\"3061\",\"type\":\"DaysTicker\"},{\"attributes\":{\"axis_label\":\"pct_change\",\"coordinates\":null,\"formatter\":{\"id\":\"3044\"},\"group\":null,\"major_label_policy\":{\"id\":\"3045\"},\"ticker\":{\"id\":\"3015\"}},\"id\":\"3014\",\"type\":\"LinearAxis\"},{\"attributes\":{},\"id\":\"3044\",\"type\":\"BasicTickFormatter\"},{\"attributes\":{\"base\":24,\"mantissas\":[1,2,4,6,8,12],\"max_interval\":43200000.0,\"min_interval\":3600000.0,\"num_minor_ticks\":0},\"id\":\"3058\",\"type\":\"AdaptiveTicker\"},{\"attributes\":{\"days\":[1,2,3,4,5,6,7,8,9,10,11,12,13,14,15,16,17,18,19,20,21,22,23,24,25,26,27,28,29,30,31]},\"id\":\"3059\",\"type\":\"DaysTicker\"},{\"attributes\":{\"axis\":{\"id\":\"3010\"},\"coordinates\":null,\"grid_line_color\":null,\"group\":null,\"ticker\":null},\"id\":\"3013\",\"type\":\"Grid\"},{\"attributes\":{},\"id\":\"3032\",\"type\":\"Selection\"},{\"attributes\":{\"bottom_units\":\"screen\",\"coordinates\":null,\"fill_alpha\":0.5,\"fill_color\":\"lightgrey\",\"group\":null,\"left_units\":\"screen\",\"level\":\"overlay\",\"line_alpha\":1.0,\"line_color\":\"black\",\"line_dash\":[4,4],\"line_width\":2,\"right_units\":\"screen\",\"syncable\":false,\"top_units\":\"screen\"},\"id\":\"3023\",\"type\":\"BoxAnnotation\"},{\"attributes\":{\"days\":[1,15]},\"id\":\"3062\",\"type\":\"DaysTicker\"},{\"attributes\":{\"line_alpha\":0.1,\"line_color\":\"#30a2da\",\"line_width\":2,\"x\":{\"field\":\"Date\"},\"y\":{\"field\":\"pct_change\"}},\"id\":\"3035\",\"type\":\"Line\"},{\"attributes\":{\"line_color\":\"#30a2da\",\"line_width\":2,\"x\":{\"field\":\"Date\"},\"y\":{\"field\":\"pct_change\"}},\"id\":\"3039\",\"type\":\"Line\"},{\"attributes\":{\"months\":[0,2,4,6,8,10]},\"id\":\"3064\",\"type\":\"MonthsTicker\"},{\"attributes\":{\"axis\":{\"id\":\"3014\"},\"coordinates\":null,\"dimension\":1,\"grid_line_color\":null,\"group\":null,\"ticker\":null},\"id\":\"3017\",\"type\":\"Grid\"},{\"attributes\":{\"days\":[1,4,7,10,13,16,19,22,25,28]},\"id\":\"3060\",\"type\":\"DaysTicker\"},{\"attributes\":{\"line_color\":\"#30a2da\",\"line_width\":2,\"x\":{\"field\":\"Date\"},\"y\":{\"field\":\"pct_change\"}},\"id\":\"3034\",\"type\":\"Line\"},{\"attributes\":{},\"id\":\"3045\",\"type\":\"AllLabels\"},{\"attributes\":{\"months\":[0,4,8]},\"id\":\"3065\",\"type\":\"MonthsTicker\"},{\"attributes\":{\"coordinates\":null,\"data_source\":{\"id\":\"3031\"},\"glyph\":{\"id\":\"3034\"},\"group\":null,\"hover_glyph\":null,\"muted_glyph\":{\"id\":\"3036\"},\"nonselection_glyph\":{\"id\":\"3035\"},\"selection_glyph\":{\"id\":\"3039\"},\"view\":{\"id\":\"3038\"}},\"id\":\"3037\",\"type\":\"GlyphRenderer\"},{\"attributes\":{\"end\":1661990400000.0,\"reset_end\":1661990400000.0,\"reset_start\":717897600000.0,\"start\":717897600000.0,\"tags\":[[[\"Date\",\"Date\",null]]]},\"id\":\"2998\",\"type\":\"Range1d\"},{\"attributes\":{\"months\":[0,6]},\"id\":\"3066\",\"type\":\"MonthsTicker\"},{\"attributes\":{\"children\":[{\"id\":\"2997\"},{\"id\":\"3001\"},{\"id\":\"3068\"}],\"margin\":[0,0,0,0],\"name\":\"Row02084\",\"tags\":[\"embedded\"]},\"id\":\"2996\",\"type\":\"Row\"},{\"attributes\":{\"line_alpha\":0.2,\"line_color\":\"#30a2da\",\"line_width\":2,\"x\":{\"field\":\"Date\"},\"y\":{\"field\":\"pct_change\"}},\"id\":\"3036\",\"type\":\"Line\"},{\"attributes\":{\"end\":0.24518711846412466,\"reset_end\":0.24518711846412466,\"reset_start\":-0.33485357869592147,\"start\":-0.33485357869592147,\"tags\":[[[\"pct_change\",\"pct_change\",null]]]},\"id\":\"2999\",\"type\":\"Range1d\"},{\"attributes\":{},\"id\":\"3041\",\"type\":\"DatetimeTickFormatter\"},{\"attributes\":{},\"id\":\"3067\",\"type\":\"YearsTicker\"},{\"attributes\":{\"margin\":[5,5,5,5],\"name\":\"HSpacer02089\",\"sizing_mode\":\"stretch_width\"},\"id\":\"3068\",\"type\":\"Spacer\"},{\"attributes\":{\"source\":{\"id\":\"3031\"}},\"id\":\"3038\",\"type\":\"CDSView\"},{\"attributes\":{},\"id\":\"3018\",\"type\":\"SaveTool\"},{\"attributes\":{},\"id\":\"3019\",\"type\":\"PanTool\"},{\"attributes\":{\"mantissas\":[1,2,5],\"max_interval\":500.0,\"num_minor_ticks\":0},\"id\":\"3056\",\"type\":\"AdaptiveTicker\"},{\"attributes\":{},\"id\":\"3022\",\"type\":\"ResetTool\"},{\"attributes\":{\"margin\":[5,5,5,5],\"name\":\"HSpacer02088\",\"sizing_mode\":\"stretch_width\"},\"id\":\"2997\",\"type\":\"Spacer\"},{\"attributes\":{},\"id\":\"3020\",\"type\":\"WheelZoomTool\"},{\"attributes\":{},\"id\":\"3042\",\"type\":\"AllLabels\"},{\"attributes\":{\"data\":{\"Date\":{\"__ndarray__\":\"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\",\"dtype\":\"float64\",\"order\":\"little\",\"shape\":[360]},\"pct_change\":{\"__ndarray__\":\"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\",\"dtype\":\"float64\",\"order\":\"little\",\"shape\":[360]}},\"selected\":{\"id\":\"3032\"},\"selection_policy\":{\"id\":\"3053\"}},\"id\":\"3031\",\"type\":\"ColumnDataSource\"},{\"attributes\":{\"overlay\":{\"id\":\"3023\"}},\"id\":\"3021\",\"type\":\"BoxZoomTool\"},{\"attributes\":{},\"id\":\"3053\",\"type\":\"UnionRenderers\"},{\"attributes\":{},\"id\":\"3006\",\"type\":\"LinearScale\"},{\"attributes\":{\"callback\":null,\"formatters\":{\"@{Date}\":\"datetime\"},\"renderers\":[{\"id\":\"3037\"}],\"tags\":[\"hv_created\"],\"tooltips\":[[\"Date\",\"@{Date}{%F %T}\"],[\"pct_change\",\"@{pct_change}\"]]},\"id\":\"3000\",\"type\":\"HoverTool\"},{\"attributes\":{\"coordinates\":null,\"group\":null,\"text\":\"Volatility in Chicken Price since 1992\",\"text_color\":\"black\",\"text_font_size\":\"12pt\"},\"id\":\"3002\",\"type\":\"Title\"},{\"attributes\":{\"axis_label\":\"Date\",\"coordinates\":null,\"formatter\":{\"id\":\"3041\"},\"group\":null,\"major_label_policy\":{\"id\":\"3042\"},\"ticker\":{\"id\":\"3011\"}},\"id\":\"3010\",\"type\":\"DatetimeAxis\"}],\"root_ids\":[\"2996\"]},\"title\":\"Bokeh Application\",\"version\":\"2.4.3\"}};\n",
       "    var render_items = [{\"docid\":\"76d92953-190f-4d57-95ed-87fcf84a8cd3\",\"root_ids\":[\"2996\"],\"roots\":{\"2996\":\"d7711477-3bcd-40c6-99cf-29c81a3afd7d\"}}];\n",
       "    root.Bokeh.embed.embed_items_notebook(docs_json, render_items);\n",
       "  }\n",
       "  if (root.Bokeh !== undefined && root.Bokeh.Panel !== undefined) {\n",
       "    embed_document(root);\n",
       "  } else {\n",
       "    var attempts = 0;\n",
       "    var timer = setInterval(function(root) {\n",
       "      if (root.Bokeh !== undefined && root.Bokeh.Panel !== undefined) {\n",
       "        clearInterval(timer);\n",
       "        embed_document(root);\n",
       "      } else if (document.readyState == \"complete\") {\n",
       "        attempts++;\n",
       "        if (attempts > 200) {\n",
       "          clearInterval(timer);\n",
       "          console.log(\"Bokeh: ERROR: Unable to run BokehJS code because BokehJS library is missing\");\n",
       "        }\n",
       "      }\n",
       "    }, 25, root)\n",
       "  }\n",
       "})(window);</script>"
      ],
      "text/plain": [
       ":Curve   [Date]   (pct_change)"
      ]
     },
     "execution_count": 88,
     "metadata": {
      "application/vnd.holoviews_exec.v0+json": {
       "id": "2996"
      }
     },
     "output_type": "execute_result"
    }
   ],
   "source": [
    "# Plot monthly pct change data\n",
    "chicken_df.hvplot.line(\n",
    "    x='Date',\n",
    "    y='pct_change',\n",
    "    label='Volatility in Chicken Price since 1992'\n",
    ")"
   ]
  },
  {
   "cell_type": "code",
   "execution_count": 89,
   "id": "b9f3d52e-2eea-43c6-84cd-e0c979c1aa68",
   "metadata": {},
   "outputs": [],
   "source": [
    "# Create extra features for prediction\n",
    "# Use the finta library to create different features for chicken prices\n",
    "from finta import TA"
   ]
  },
  {
   "cell_type": "code",
   "execution_count": null,
   "id": "3352a79b-35a2-4e47-8e88-fb8f248eb6c0",
   "metadata": {},
   "outputs": [],
   "source": []
  },
  {
   "cell_type": "code",
   "execution_count": null,
   "id": "19b3cfcb-8b19-4002-b8ff-012763222626",
   "metadata": {},
   "outputs": [],
   "source": []
  },
  {
   "cell_type": "code",
   "execution_count": 90,
   "id": "16167df8-45e4-47f1-ac12-e25d1f24f91e",
   "metadata": {},
   "outputs": [
    {
     "name": "stderr",
     "output_type": "stream",
     "text": [
      "c:\\Users\\silva\\anaconda3\\envs\\dev\\lib\\site-packages\\ipykernel_launcher.py:6: SettingWithCopyWarning: \n",
      "A value is trying to be set on a copy of a slice from a DataFrame.\n",
      "Try using .loc[row_indexer,col_indexer] = value instead\n",
      "\n",
      "See the caveats in the documentation: https://pandas.pydata.org/pandas-docs/stable/user_guide/indexing.html#returning-a-view-versus-a-copy\n",
      "  \n",
      "c:\\Users\\silva\\anaconda3\\envs\\dev\\lib\\site-packages\\ipykernel_launcher.py:7: SettingWithCopyWarning: \n",
      "A value is trying to be set on a copy of a slice from a DataFrame.\n",
      "Try using .loc[row_indexer,col_indexer] = value instead\n",
      "\n",
      "See the caveats in the documentation: https://pandas.pydata.org/pandas-docs/stable/user_guide/indexing.html#returning-a-view-versus-a-copy\n",
      "  import sys\n"
     ]
    },
    {
     "data": {
      "text/html": [
       "<div>\n",
       "<style scoped>\n",
       "    .dataframe tbody tr th:only-of-type {\n",
       "        vertical-align: middle;\n",
       "    }\n",
       "\n",
       "    .dataframe tbody tr th {\n",
       "        vertical-align: top;\n",
       "    }\n",
       "\n",
       "    .dataframe thead th {\n",
       "        text-align: right;\n",
       "    }\n",
       "</style>\n",
       "<table border=\"1\" class=\"dataframe\">\n",
       "  <thead>\n",
       "    <tr style=\"text-align: right;\">\n",
       "      <th></th>\n",
       "      <th>Chicken Price</th>\n",
       "      <th>pct_change</th>\n",
       "      <th>sma_fast</th>\n",
       "      <th>sma_long</th>\n",
       "    </tr>\n",
       "    <tr>\n",
       "      <th>Date</th>\n",
       "      <th></th>\n",
       "      <th></th>\n",
       "      <th></th>\n",
       "      <th></th>\n",
       "    </tr>\n",
       "  </thead>\n",
       "  <tbody>\n",
       "    <tr>\n",
       "      <th>1994-05-01</th>\n",
       "      <td>1.30</td>\n",
       "      <td>0.056911</td>\n",
       "      <td>1.218</td>\n",
       "      <td>1.1895</td>\n",
       "    </tr>\n",
       "    <tr>\n",
       "      <th>1994-06-01</th>\n",
       "      <td>1.31</td>\n",
       "      <td>0.007692</td>\n",
       "      <td>1.248</td>\n",
       "      <td>1.2020</td>\n",
       "    </tr>\n",
       "    <tr>\n",
       "      <th>1994-07-01</th>\n",
       "      <td>1.28</td>\n",
       "      <td>-0.022901</td>\n",
       "      <td>1.268</td>\n",
       "      <td>1.2115</td>\n",
       "    </tr>\n",
       "    <tr>\n",
       "      <th>1994-08-01</th>\n",
       "      <td>1.23</td>\n",
       "      <td>-0.039062</td>\n",
       "      <td>1.270</td>\n",
       "      <td>1.2185</td>\n",
       "    </tr>\n",
       "    <tr>\n",
       "      <th>1994-09-01</th>\n",
       "      <td>1.24</td>\n",
       "      <td>0.008130</td>\n",
       "      <td>1.272</td>\n",
       "      <td>1.2250</td>\n",
       "    </tr>\n",
       "  </tbody>\n",
       "</table>\n",
       "</div>"
      ],
      "text/plain": [
       "            Chicken Price  pct_change  sma_fast  sma_long\n",
       "Date                                                     \n",
       "1994-05-01           1.30    0.056911     1.218    1.1895\n",
       "1994-06-01           1.31    0.007692     1.248    1.2020\n",
       "1994-07-01           1.28   -0.022901     1.268    1.2115\n",
       "1994-08-01           1.23   -0.039062     1.270    1.2185\n",
       "1994-09-01           1.24    0.008130     1.272    1.2250"
      ]
     },
     "execution_count": 90,
     "metadata": {},
     "output_type": "execute_result"
    }
   ],
   "source": [
    "# Try creating a simple moving average\n",
    "short_window = 5\n",
    "long_window = 20\n",
    "\n",
    "# Create fast and slow sma\n",
    "chicken_df['sma_fast'] = chicken_df['Chicken Price'].rolling(window=short_window).mean()\n",
    "chicken_df['sma_long'] = chicken_df['Chicken Price'].rolling(window=long_window).mean()\n",
    "\n",
    "# Drop NaN values\n",
    "chicken_df = chicken_df.dropna()\n",
    "\n",
    "# Review Data Frame\n",
    "chicken_df.head()"
   ]
  },
  {
   "cell_type": "code",
   "execution_count": 91,
   "id": "02c8038d-53ab-4deb-a85a-6d314fe8080a",
   "metadata": {},
   "outputs": [
    {
     "data": {
      "text/plain": [
       "Chicken Price    float64\n",
       "pct_change       float64\n",
       "sma_fast         float64\n",
       "sma_long         float64\n",
       "dtype: object"
      ]
     },
     "execution_count": 91,
     "metadata": {},
     "output_type": "execute_result"
    }
   ],
   "source": [
    "chicken_df.dtypes"
   ]
  },
  {
   "cell_type": "code",
   "execution_count": 92,
   "id": "3f4d294b-3ea7-4594-bb2a-eabfbe6920d4",
   "metadata": {},
   "outputs": [
    {
     "data": {},
     "metadata": {},
     "output_type": "display_data"
    },
    {
     "data": {
      "application/vnd.holoviews_exec.v0+json": "",
      "text/html": [
       "<div id='3180'>\n",
       "  <div class=\"bk-root\" id=\"b98536ff-00e3-467c-93b5-31649eb5b901\" data-root-id=\"3180\"></div>\n",
       "</div>\n",
       "<script type=\"application/javascript\">(function(root) {\n",
       "  function embed_document(root) {\n",
       "    var docs_json = {\"20f2e8c8-f93e-4801-9615-75369c3f939b\":{\"defs\":[{\"extends\":null,\"module\":null,\"name\":\"ReactiveHTML1\",\"overrides\":[],\"properties\":[]},{\"extends\":null,\"module\":null,\"name\":\"FlexBox1\",\"overrides\":[],\"properties\":[{\"default\":\"flex-start\",\"kind\":null,\"name\":\"align_content\"},{\"default\":\"flex-start\",\"kind\":null,\"name\":\"align_items\"},{\"default\":\"row\",\"kind\":null,\"name\":\"flex_direction\"},{\"default\":\"wrap\",\"kind\":null,\"name\":\"flex_wrap\"},{\"default\":\"flex-start\",\"kind\":null,\"name\":\"justify_content\"}]},{\"extends\":null,\"module\":null,\"name\":\"GridStack1\",\"overrides\":[],\"properties\":[{\"default\":\"warn\",\"kind\":null,\"name\":\"mode\"},{\"default\":null,\"kind\":null,\"name\":\"ncols\"},{\"default\":null,\"kind\":null,\"name\":\"nrows\"},{\"default\":true,\"kind\":null,\"name\":\"allow_resize\"},{\"default\":true,\"kind\":null,\"name\":\"allow_drag\"},{\"default\":[],\"kind\":null,\"name\":\"state\"}]},{\"extends\":null,\"module\":null,\"name\":\"click1\",\"overrides\":[],\"properties\":[{\"default\":\"\",\"kind\":null,\"name\":\"terminal_output\"},{\"default\":\"\",\"kind\":null,\"name\":\"debug_name\"},{\"default\":0,\"kind\":null,\"name\":\"clears\"}]},{\"extends\":null,\"module\":null,\"name\":\"NotificationAreaBase1\",\"overrides\":[],\"properties\":[{\"default\":\"bottom-right\",\"kind\":null,\"name\":\"position\"},{\"default\":0,\"kind\":null,\"name\":\"_clear\"}]},{\"extends\":null,\"module\":null,\"name\":\"NotificationArea1\",\"overrides\":[],\"properties\":[{\"default\":[],\"kind\":null,\"name\":\"notifications\"},{\"default\":\"bottom-right\",\"kind\":null,\"name\":\"position\"},{\"default\":0,\"kind\":null,\"name\":\"_clear\"},{\"default\":[{\"background\":\"#ffc107\",\"icon\":{\"className\":\"fas fa-exclamation-triangle\",\"color\":\"white\",\"tagName\":\"i\"},\"type\":\"warning\"},{\"background\":\"#007bff\",\"icon\":{\"className\":\"fas fa-info-circle\",\"color\":\"white\",\"tagName\":\"i\"},\"type\":\"info\"}],\"kind\":null,\"name\":\"types\"}]},{\"extends\":null,\"module\":null,\"name\":\"Notification\",\"overrides\":[],\"properties\":[{\"default\":null,\"kind\":null,\"name\":\"background\"},{\"default\":3000,\"kind\":null,\"name\":\"duration\"},{\"default\":null,\"kind\":null,\"name\":\"icon\"},{\"default\":\"\",\"kind\":null,\"name\":\"message\"},{\"default\":null,\"kind\":null,\"name\":\"notification_type\"},{\"default\":false,\"kind\":null,\"name\":\"_destroyed\"}]},{\"extends\":null,\"module\":null,\"name\":\"TemplateActions1\",\"overrides\":[],\"properties\":[{\"default\":0,\"kind\":null,\"name\":\"open_modal\"},{\"default\":0,\"kind\":null,\"name\":\"close_modal\"}]},{\"extends\":null,\"module\":null,\"name\":\"MaterialTemplateActions1\",\"overrides\":[],\"properties\":[{\"default\":0,\"kind\":null,\"name\":\"open_modal\"},{\"default\":0,\"kind\":null,\"name\":\"close_modal\"}]}],\"roots\":{\"references\":[{\"attributes\":{\"callback\":null,\"renderers\":[{\"id\":\"3229\"},{\"id\":\"3250\"},{\"id\":\"3272\"}],\"tags\":[\"hv_created\"],\"tooltips\":[[\"Variable\",\"@{Variable}\"],[\"Date\",\"@{Date}\"],[\"value\",\"@{value}\"]]},\"id\":\"3184\",\"type\":\"HoverTool\"},{\"attributes\":{},\"id\":\"3204\",\"type\":\"SaveTool\"},{\"attributes\":{\"label\":{\"value\":\"Chicken Price\"},\"renderers\":[{\"id\":\"3229\"}]},\"id\":\"3242\",\"type\":\"LegendItem\"},{\"attributes\":{\"line_color\":\"#fc4f30\",\"line_width\":2,\"x\":{\"field\":\"Date\"},\"y\":{\"field\":\"value\"}},\"id\":\"3247\",\"type\":\"Line\"},{\"attributes\":{},\"id\":\"3205\",\"type\":\"PanTool\"},{\"attributes\":{},\"id\":\"3208\",\"type\":\"ResetTool\"},{\"attributes\":{},\"id\":\"3238\",\"type\":\"UnionRenderers\"},{\"attributes\":{},\"id\":\"3206\",\"type\":\"WheelZoomTool\"},{\"attributes\":{},\"id\":\"3197\",\"type\":\"BasicTicker\"},{\"attributes\":{\"end\":12.0,\"reset_end\":12.0,\"reset_start\":1.0,\"start\":1.0,\"tags\":[[[\"Date\",\"Date\",null]]]},\"id\":\"3182\",\"type\":\"Range1d\"},{\"attributes\":{\"overlay\":{\"id\":\"3209\"}},\"id\":\"3207\",\"type\":\"BoxZoomTool\"},{\"attributes\":{},\"id\":\"3245\",\"type\":\"Selection\"},{\"attributes\":{\"below\":[{\"id\":\"3196\"}],\"center\":[{\"id\":\"3199\"},{\"id\":\"3203\"}],\"height\":300,\"left\":[{\"id\":\"3200\"}],\"margin\":[5,5,5,5],\"min_border_bottom\":10,\"min_border_left\":10,\"min_border_right\":10,\"min_border_top\":10,\"renderers\":[{\"id\":\"3229\"},{\"id\":\"3250\"},{\"id\":\"3272\"}],\"right\":[{\"id\":\"3241\"}],\"sizing_mode\":\"fixed\",\"title\":{\"id\":\"3188\"},\"toolbar\":{\"id\":\"3210\"},\"width\":700,\"x_range\":{\"id\":\"3182\"},\"x_scale\":{\"id\":\"3192\"},\"y_range\":{\"id\":\"3183\"},\"y_scale\":{\"id\":\"3194\"}},\"id\":\"3187\",\"subtype\":\"Figure\",\"type\":\"Plot\"},{\"attributes\":{\"margin\":[5,5,5,5],\"name\":\"HSpacer02236\",\"sizing_mode\":\"stretch_width\"},\"id\":\"3304\",\"type\":\"Spacer\"},{\"attributes\":{\"coordinates\":null,\"group\":null,\"text\":\"Average Chicken Price and Moving Averages Based on Month\",\"text_color\":\"black\",\"text_font_size\":\"12pt\"},\"id\":\"3188\",\"type\":\"Title\"},{\"attributes\":{},\"id\":\"3192\",\"type\":\"LinearScale\"},{\"attributes\":{\"label\":{\"value\":\"sma_fast\"},\"renderers\":[{\"id\":\"3250\"}]},\"id\":\"3264\",\"type\":\"LegendItem\"},{\"attributes\":{},\"id\":\"3218\",\"type\":\"BasicTickFormatter\"},{\"attributes\":{},\"id\":\"3201\",\"type\":\"BasicTicker\"},{\"attributes\":{\"axis\":{\"id\":\"3196\"},\"coordinates\":null,\"grid_line_color\":null,\"group\":null,\"ticker\":null},\"id\":\"3199\",\"type\":\"Grid\"},{\"attributes\":{},\"id\":\"3261\",\"type\":\"UnionRenderers\"},{\"attributes\":{\"tools\":[{\"id\":\"3184\"},{\"id\":\"3204\"},{\"id\":\"3205\"},{\"id\":\"3206\"},{\"id\":\"3207\"},{\"id\":\"3208\"}]},\"id\":\"3210\",\"type\":\"Toolbar\"},{\"attributes\":{\"line_color\":\"#fc4f30\",\"line_width\":2,\"x\":{\"field\":\"Date\"},\"y\":{\"field\":\"value\"}},\"id\":\"3265\",\"type\":\"Line\"},{\"attributes\":{\"children\":[{\"id\":\"3181\"},{\"id\":\"3187\"},{\"id\":\"3304\"}],\"margin\":[0,0,0,0],\"name\":\"Row02231\",\"tags\":[\"embedded\"]},\"id\":\"3180\",\"type\":\"Row\"},{\"attributes\":{\"line_alpha\":0.2,\"line_color\":\"#fc4f30\",\"line_width\":2,\"x\":{\"field\":\"Date\"},\"y\":{\"field\":\"value\"}},\"id\":\"3249\",\"type\":\"Line\"},{\"attributes\":{},\"id\":\"3285\",\"type\":\"UnionRenderers\"},{\"attributes\":{},\"id\":\"3194\",\"type\":\"LinearScale\"},{\"attributes\":{\"line_color\":\"#30a2da\",\"line_width\":2,\"x\":{\"field\":\"Date\"},\"y\":{\"field\":\"value\"}},\"id\":\"3226\",\"type\":\"Line\"},{\"attributes\":{\"coordinates\":null,\"data_source\":{\"id\":\"3266\"},\"glyph\":{\"id\":\"3269\"},\"group\":null,\"hover_glyph\":null,\"muted_glyph\":{\"id\":\"3271\"},\"nonselection_glyph\":{\"id\":\"3270\"},\"selection_glyph\":{\"id\":\"3289\"},\"view\":{\"id\":\"3273\"}},\"id\":\"3272\",\"type\":\"GlyphRenderer\"},{\"attributes\":{\"axis_label\":\"Price per Pound ($)\",\"coordinates\":null,\"formatter\":{\"id\":\"3221\"},\"group\":null,\"major_label_policy\":{\"id\":\"3222\"},\"ticker\":{\"id\":\"3201\"}},\"id\":\"3200\",\"type\":\"LinearAxis\"},{\"attributes\":{\"data\":{\"Date\":[1,2,3,4,5,6,7,8,9,10,11,12],\"Variable\":[\"sma_fast\",\"sma_fast\",\"sma_fast\",\"sma_fast\",\"sma_fast\",\"sma_fast\",\"sma_fast\",\"sma_fast\",\"sma_fast\",\"sma_fast\",\"sma_fast\",\"sma_fast\"],\"value\":{\"__ndarray__\":\"O5w+/pFn+z+bgQ8hbWH7P0NIW1j2ovs/qyifoFH7+z/tdozDlyP8P4fF2xignfw/iIBERtUU/T/mISCRUTX9PzgSzgoPM/0/4ENIW1j2+z8Pp49/5Jn7PzEIrBxaZPs/\",\"dtype\":\"float64\",\"order\":\"little\",\"shape\":[12]}},\"selected\":{\"id\":\"3245\"},\"selection_policy\":{\"id\":\"3261\"}},\"id\":\"3244\",\"type\":\"ColumnDataSource\"},{\"attributes\":{},\"id\":\"3267\",\"type\":\"Selection\"},{\"attributes\":{\"margin\":[5,5,5,5],\"name\":\"HSpacer02235\",\"sizing_mode\":\"stretch_width\"},\"id\":\"3181\",\"type\":\"Spacer\"},{\"attributes\":{\"axis_label\":\"Date\",\"coordinates\":null,\"formatter\":{\"id\":\"3218\"},\"group\":null,\"major_label_policy\":{\"id\":\"3219\"},\"ticker\":{\"id\":\"3197\"}},\"id\":\"3196\",\"type\":\"LinearAxis\"},{\"attributes\":{\"source\":{\"id\":\"3223\"}},\"id\":\"3230\",\"type\":\"CDSView\"},{\"attributes\":{\"bottom_units\":\"screen\",\"coordinates\":null,\"fill_alpha\":0.5,\"fill_color\":\"lightgrey\",\"group\":null,\"left_units\":\"screen\",\"level\":\"overlay\",\"line_alpha\":1.0,\"line_color\":\"black\",\"line_dash\":[4,4],\"line_width\":2,\"right_units\":\"screen\",\"syncable\":false,\"top_units\":\"screen\"},\"id\":\"3209\",\"type\":\"BoxAnnotation\"},{\"attributes\":{\"line_color\":\"#30a2da\",\"line_width\":2,\"x\":{\"field\":\"Date\"},\"y\":{\"field\":\"value\"}},\"id\":\"3243\",\"type\":\"Line\"},{\"attributes\":{\"label\":{\"value\":\"sma_long\"},\"renderers\":[{\"id\":\"3272\"}]},\"id\":\"3288\",\"type\":\"LegendItem\"},{\"attributes\":{\"coordinates\":null,\"data_source\":{\"id\":\"3244\"},\"glyph\":{\"id\":\"3247\"},\"group\":null,\"hover_glyph\":null,\"muted_glyph\":{\"id\":\"3249\"},\"nonselection_glyph\":{\"id\":\"3248\"},\"selection_glyph\":{\"id\":\"3265\"},\"view\":{\"id\":\"3251\"}},\"id\":\"3250\",\"type\":\"GlyphRenderer\"},{\"attributes\":{\"line_color\":\"#e5ae38\",\"line_width\":2,\"x\":{\"field\":\"Date\"},\"y\":{\"field\":\"value\"}},\"id\":\"3269\",\"type\":\"Line\"},{\"attributes\":{\"axis\":{\"id\":\"3200\"},\"coordinates\":null,\"dimension\":1,\"grid_line_color\":null,\"group\":null,\"ticker\":null},\"id\":\"3203\",\"type\":\"Grid\"},{\"attributes\":{\"data\":{\"Date\":[1,2,3,4,5,6,7,8,9,10,11,12],\"Variable\":[\"Chicken Price\",\"Chicken Price\",\"Chicken Price\",\"Chicken Price\",\"Chicken Price\",\"Chicken Price\",\"Chicken Price\",\"Chicken Price\",\"Chicken Price\",\"Chicken Price\",\"Chicken Price\",\"Chicken Price\"],\"value\":{\"__ndarray__\":\"bSoNOffZ+z8GxKbSkHP7P+c+u4DYVPw/FxCbSkPO/D+h1ZcKWn39Px8IxYob6v0/1IukdvB7/T/Wlwpafan8P7FZ+s9ncvw/oF1AbCoN+z8VrkfhehT7P+aNEUz0d/s/\",\"dtype\":\"float64\",\"order\":\"little\",\"shape\":[12]}},\"selected\":{\"id\":\"3224\"},\"selection_policy\":{\"id\":\"3238\"}},\"id\":\"3223\",\"type\":\"ColumnDataSource\"},{\"attributes\":{\"coordinates\":null,\"data_source\":{\"id\":\"3223\"},\"glyph\":{\"id\":\"3226\"},\"group\":null,\"hover_glyph\":null,\"muted_glyph\":{\"id\":\"3228\"},\"nonselection_glyph\":{\"id\":\"3227\"},\"selection_glyph\":{\"id\":\"3243\"},\"view\":{\"id\":\"3230\"}},\"id\":\"3229\",\"type\":\"GlyphRenderer\"},{\"attributes\":{\"data\":{\"Date\":[1,2,3,4,5,6,7,8,9,10,11,12],\"Variable\":[\"sma_long\",\"sma_long\",\"sma_long\",\"sma_long\",\"sma_long\",\"sma_long\",\"sma_long\",\"sma_long\",\"sma_long\",\"sma_long\",\"sma_long\",\"sma_long\"],\"value\":{\"__ndarray__\":\"s06Z3Kpo+z8fhetRuF77P6cVogKlZPs/pt7Vr7V5+z+6zOU6jlL7P8NflNNsg/s/IRre326u+z9An8kxJ837P0s3iUFg5fs/4TcDH0Ja+z9PmdyqKF/7P1MmtyrKZ/s/\",\"dtype\":\"float64\",\"order\":\"little\",\"shape\":[12]}},\"selected\":{\"id\":\"3267\"},\"selection_policy\":{\"id\":\"3285\"}},\"id\":\"3266\",\"type\":\"ColumnDataSource\"},{\"attributes\":{\"source\":{\"id\":\"3244\"}},\"id\":\"3251\",\"type\":\"CDSView\"},{\"attributes\":{\"source\":{\"id\":\"3266\"}},\"id\":\"3273\",\"type\":\"CDSView\"},{\"attributes\":{\"line_color\":\"#e5ae38\",\"line_width\":2,\"x\":{\"field\":\"Date\"},\"y\":{\"field\":\"value\"}},\"id\":\"3289\",\"type\":\"Line\"},{\"attributes\":{\"line_alpha\":0.1,\"line_color\":\"#e5ae38\",\"line_width\":2,\"x\":{\"field\":\"Date\"},\"y\":{\"field\":\"value\"}},\"id\":\"3270\",\"type\":\"Line\"},{\"attributes\":{\"line_alpha\":0.1,\"line_color\":\"#30a2da\",\"line_width\":2,\"x\":{\"field\":\"Date\"},\"y\":{\"field\":\"value\"}},\"id\":\"3227\",\"type\":\"Line\"},{\"attributes\":{\"line_alpha\":0.2,\"line_color\":\"#30a2da\",\"line_width\":2,\"x\":{\"field\":\"Date\"},\"y\":{\"field\":\"value\"}},\"id\":\"3228\",\"type\":\"Line\"},{\"attributes\":{},\"id\":\"3224\",\"type\":\"Selection\"},{\"attributes\":{\"line_alpha\":0.1,\"line_color\":\"#fc4f30\",\"line_width\":2,\"x\":{\"field\":\"Date\"},\"y\":{\"field\":\"value\"}},\"id\":\"3248\",\"type\":\"Line\"},{\"attributes\":{},\"id\":\"3221\",\"type\":\"BasicTickFormatter\"},{\"attributes\":{},\"id\":\"3219\",\"type\":\"AllLabels\"},{\"attributes\":{\"click_policy\":\"mute\",\"coordinates\":null,\"group\":null,\"items\":[{\"id\":\"3242\"},{\"id\":\"3264\"},{\"id\":\"3288\"}],\"location\":[0,0],\"title\":\"Variable\"},\"id\":\"3241\",\"type\":\"Legend\"},{\"attributes\":{\"line_alpha\":0.2,\"line_color\":\"#e5ae38\",\"line_width\":2,\"x\":{\"field\":\"Date\"},\"y\":{\"field\":\"value\"}},\"id\":\"3271\",\"type\":\"Line\"},{\"attributes\":{},\"id\":\"3222\",\"type\":\"AllLabels\"},{\"attributes\":{\"end\":1.8875492610837439,\"reset_end\":1.8875492610837439,\"reset_start\":1.672820197044335,\"start\":1.672820197044335,\"tags\":[[[\"value\",\"value\",null]]]},\"id\":\"3183\",\"type\":\"Range1d\"}],\"root_ids\":[\"3180\"]},\"title\":\"Bokeh Application\",\"version\":\"2.4.3\"}};\n",
       "    var render_items = [{\"docid\":\"20f2e8c8-f93e-4801-9615-75369c3f939b\",\"root_ids\":[\"3180\"],\"roots\":{\"3180\":\"b98536ff-00e3-467c-93b5-31649eb5b901\"}}];\n",
       "    root.Bokeh.embed.embed_items_notebook(docs_json, render_items);\n",
       "  }\n",
       "  if (root.Bokeh !== undefined && root.Bokeh.Panel !== undefined) {\n",
       "    embed_document(root);\n",
       "  } else {\n",
       "    var attempts = 0;\n",
       "    var timer = setInterval(function(root) {\n",
       "      if (root.Bokeh !== undefined && root.Bokeh.Panel !== undefined) {\n",
       "        clearInterval(timer);\n",
       "        embed_document(root);\n",
       "      } else if (document.readyState == \"complete\") {\n",
       "        attempts++;\n",
       "        if (attempts > 200) {\n",
       "          clearInterval(timer);\n",
       "          console.log(\"Bokeh: ERROR: Unable to run BokehJS code because BokehJS library is missing\");\n",
       "        }\n",
       "      }\n",
       "    }, 25, root)\n",
       "  }\n",
       "})(window);</script>"
      ],
      "text/plain": [
       ":NdOverlay   [Variable]\n",
       "   :Curve   [Date]   (value)"
      ]
     },
     "execution_count": 92,
     "metadata": {
      "application/vnd.holoviews_exec.v0+json": {
       "id": "3180"
      }
     },
     "output_type": "execute_result"
    }
   ],
   "source": [
    "# visualize monthly trends for chicken price volatility\n",
    "# Declare group level to be the month of the year\n",
    "group_level = chicken_df.index.month\n",
    "\n",
    "# plot mean of percent changes according to month \n",
    "chicken_df[['Chicken Price', 'sma_fast', 'sma_long']].groupby(group_level).mean().hvplot(title='Average Chicken Price and Moving Averages Based on Month',\n",
    "                                                                                        ylabel='Price per Pound ($)')"
   ]
  },
  {
   "cell_type": "code",
   "execution_count": 93,
   "id": "8f93fe02-001d-41b9-aa88-6d35879aa720",
   "metadata": {},
   "outputs": [
    {
     "data": {},
     "metadata": {},
     "output_type": "display_data"
    },
    {
     "data": {
      "application/vnd.holoviews_exec.v0+json": "",
      "text/html": [
       "<div id='3376'>\n",
       "  <div class=\"bk-root\" id=\"fcbc1ffd-8168-40b9-8c34-4be12f43bcc6\" data-root-id=\"3376\"></div>\n",
       "</div>\n",
       "<script type=\"application/javascript\">(function(root) {\n",
       "  function embed_document(root) {\n",
       "    var docs_json = {\"0a03748a-a059-4745-add8-8bdf17dd03a8\":{\"defs\":[{\"extends\":null,\"module\":null,\"name\":\"ReactiveHTML1\",\"overrides\":[],\"properties\":[]},{\"extends\":null,\"module\":null,\"name\":\"FlexBox1\",\"overrides\":[],\"properties\":[{\"default\":\"flex-start\",\"kind\":null,\"name\":\"align_content\"},{\"default\":\"flex-start\",\"kind\":null,\"name\":\"align_items\"},{\"default\":\"row\",\"kind\":null,\"name\":\"flex_direction\"},{\"default\":\"wrap\",\"kind\":null,\"name\":\"flex_wrap\"},{\"default\":\"flex-start\",\"kind\":null,\"name\":\"justify_content\"}]},{\"extends\":null,\"module\":null,\"name\":\"GridStack1\",\"overrides\":[],\"properties\":[{\"default\":\"warn\",\"kind\":null,\"name\":\"mode\"},{\"default\":null,\"kind\":null,\"name\":\"ncols\"},{\"default\":null,\"kind\":null,\"name\":\"nrows\"},{\"default\":true,\"kind\":null,\"name\":\"allow_resize\"},{\"default\":true,\"kind\":null,\"name\":\"allow_drag\"},{\"default\":[],\"kind\":null,\"name\":\"state\"}]},{\"extends\":null,\"module\":null,\"name\":\"click1\",\"overrides\":[],\"properties\":[{\"default\":\"\",\"kind\":null,\"name\":\"terminal_output\"},{\"default\":\"\",\"kind\":null,\"name\":\"debug_name\"},{\"default\":0,\"kind\":null,\"name\":\"clears\"}]},{\"extends\":null,\"module\":null,\"name\":\"NotificationAreaBase1\",\"overrides\":[],\"properties\":[{\"default\":\"bottom-right\",\"kind\":null,\"name\":\"position\"},{\"default\":0,\"kind\":null,\"name\":\"_clear\"}]},{\"extends\":null,\"module\":null,\"name\":\"NotificationArea1\",\"overrides\":[],\"properties\":[{\"default\":[],\"kind\":null,\"name\":\"notifications\"},{\"default\":\"bottom-right\",\"kind\":null,\"name\":\"position\"},{\"default\":0,\"kind\":null,\"name\":\"_clear\"},{\"default\":[{\"background\":\"#ffc107\",\"icon\":{\"className\":\"fas fa-exclamation-triangle\",\"color\":\"white\",\"tagName\":\"i\"},\"type\":\"warning\"},{\"background\":\"#007bff\",\"icon\":{\"className\":\"fas fa-info-circle\",\"color\":\"white\",\"tagName\":\"i\"},\"type\":\"info\"}],\"kind\":null,\"name\":\"types\"}]},{\"extends\":null,\"module\":null,\"name\":\"Notification\",\"overrides\":[],\"properties\":[{\"default\":null,\"kind\":null,\"name\":\"background\"},{\"default\":3000,\"kind\":null,\"name\":\"duration\"},{\"default\":null,\"kind\":null,\"name\":\"icon\"},{\"default\":\"\",\"kind\":null,\"name\":\"message\"},{\"default\":null,\"kind\":null,\"name\":\"notification_type\"},{\"default\":false,\"kind\":null,\"name\":\"_destroyed\"}]},{\"extends\":null,\"module\":null,\"name\":\"TemplateActions1\",\"overrides\":[],\"properties\":[{\"default\":0,\"kind\":null,\"name\":\"open_modal\"},{\"default\":0,\"kind\":null,\"name\":\"close_modal\"}]},{\"extends\":null,\"module\":null,\"name\":\"MaterialTemplateActions1\",\"overrides\":[],\"properties\":[{\"default\":0,\"kind\":null,\"name\":\"open_modal\"},{\"default\":0,\"kind\":null,\"name\":\"close_modal\"}]}],\"roots\":{\"references\":[{\"attributes\":{\"margin\":[5,5,5,5],\"name\":\"HSpacer02344\",\"sizing_mode\":\"stretch_width\"},\"id\":\"3440\",\"type\":\"Spacer\"},{\"attributes\":{},\"id\":\"3421\",\"type\":\"BasicTicker\"},{\"attributes\":{\"end\":2022.5,\"reset_end\":2022.5,\"reset_start\":1993.5,\"start\":1993.5,\"tags\":[[[\"index.year\",\"index.year\",null]]]},\"id\":\"3379\",\"type\":\"Range1d\"},{\"attributes\":{\"coordinates\":null,\"data_source\":{\"id\":\"3412\"},\"glyph\":{\"id\":\"3415\"},\"group\":null,\"hover_glyph\":null,\"muted_glyph\":{\"id\":\"3418\"},\"nonselection_glyph\":{\"id\":\"3416\"},\"selection_glyph\":{\"id\":\"3417\"},\"view\":{\"id\":\"3420\"}},\"id\":\"3419\",\"type\":\"GlyphRenderer\"},{\"attributes\":{\"axis\":{\"id\":\"3390\"},\"coordinates\":null,\"grid_line_color\":null,\"group\":null,\"ticker\":null},\"id\":\"3393\",\"type\":\"Grid\"},{\"attributes\":{},\"id\":\"3395\",\"type\":\"BasicTicker\"},{\"attributes\":{},\"id\":\"3437\",\"type\":\"UnionRenderers\"},{\"attributes\":{\"axis_label\":\"index.year\",\"coordinates\":null,\"formatter\":{\"id\":\"3427\"},\"group\":null,\"major_label_policy\":{\"id\":\"3428\"},\"ticker\":{\"id\":\"3395\"}},\"id\":\"3394\",\"type\":\"LinearAxis\"},{\"attributes\":{},\"id\":\"3424\",\"type\":\"BasicTickFormatter\"},{\"attributes\":{},\"id\":\"3388\",\"type\":\"LinearScale\"},{\"attributes\":{\"axis\":{\"id\":\"3394\"},\"coordinates\":null,\"dimension\":1,\"grid_line_color\":null,\"group\":null,\"ticker\":null},\"id\":\"3397\",\"type\":\"Grid\"},{\"attributes\":{},\"id\":\"3425\",\"type\":\"AllLabels\"},{\"attributes\":{\"bar_line_color\":\"black\",\"color_mapper\":{\"id\":\"3411\"},\"coordinates\":null,\"group\":null,\"label_standoff\":8,\"location\":[0,0],\"major_label_policy\":{\"id\":\"3433\"},\"major_tick_line_color\":\"black\",\"ticker\":{\"id\":\"3421\"}},\"id\":\"3422\",\"type\":\"ColorBar\"},{\"attributes\":{\"fill_alpha\":{\"value\":0.1},\"fill_color\":{\"field\":\"zvalues\",\"transform\":{\"id\":\"3411\"}},\"hatch_alpha\":{\"value\":0.1},\"height\":{\"field\":\"height\"},\"line_alpha\":{\"value\":0},\"line_color\":{\"value\":\"#1f77b4\"},\"width\":{\"field\":\"width\"},\"x\":{\"field\":\"index_full_stop_month\"},\"y\":{\"field\":\"index_full_stop_year\"}},\"id\":\"3416\",\"type\":\"Rect\"},{\"attributes\":{\"data\":{\"height\":{\"__ndarray__\":\"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\",\"dtype\":\"float64\",\"order\":\"little\",\"shape\":[348]},\"index_full_stop_month\":[1,1,1,1,1,1,1,1,1,1,1,1,1,1,1,1,1,1,1,1,1,1,1,1,1,1,1,1,1,2,2,2,2,2,2,2,2,2,2,2,2,2,2,2,2,2,2,2,2,2,2,2,2,2,2,2,2,2,3,3,3,3,3,3,3,3,3,3,3,3,3,3,3,3,3,3,3,3,3,3,3,3,3,3,3,3,3,4,4,4,4,4,4,4,4,4,4,4,4,4,4,4,4,4,4,4,4,4,4,4,4,4,4,4,4,4,5,5,5,5,5,5,5,5,5,5,5,5,5,5,5,5,5,5,5,5,5,5,5,5,5,5,5,5,5,6,6,6,6,6,6,6,6,6,6,6,6,6,6,6,6,6,6,6,6,6,6,6,6,6,6,6,6,6,7,7,7,7,7,7,7,7,7,7,7,7,7,7,7,7,7,7,7,7,7,7,7,7,7,7,7,7,7,8,8,8,8,8,8,8,8,8,8,8,8,8,8,8,8,8,8,8,8,8,8,8,8,8,8,8,8,8,9,9,9,9,9,9,9,9,9,9,9,9,9,9,9,9,9,9,9,9,9,9,9,9,9,9,9,9,9,10,10,10,10,10,10,10,10,10,10,10,10,10,10,10,10,10,10,10,10,10,10,10,10,10,10,10,10,10,11,11,11,11,11,11,11,11,11,11,11,11,11,11,11,11,11,11,11,11,11,11,11,11,11,11,11,11,11,12,12,12,12,12,12,12,12,12,12,12,12,12,12,12,12,12,12,12,12,12,12,12,12,12,12,12,12,12],\"index_full_stop_year\":[1994,1995,1996,1997,1998,1999,2000,2001,2002,2003,2004,2005,2006,2007,2008,2009,2010,2011,2012,2013,2014,2015,2016,2017,2018,2019,2020,2021,2022,1994,1995,1996,1997,1998,1999,2000,2001,2002,2003,2004,2005,2006,2007,2008,2009,2010,2011,2012,2013,2014,2015,2016,2017,2018,2019,2020,2021,2022,1994,1995,1996,1997,1998,1999,2000,2001,2002,2003,2004,2005,2006,2007,2008,2009,2010,2011,2012,2013,2014,2015,2016,2017,2018,2019,2020,2021,2022,1994,1995,1996,1997,1998,1999,2000,2001,2002,2003,2004,2005,2006,2007,2008,2009,2010,2011,2012,2013,2014,2015,2016,2017,2018,2019,2020,2021,2022,1994,1995,1996,1997,1998,1999,2000,2001,2002,2003,2004,2005,2006,2007,2008,2009,2010,2011,2012,2013,2014,2015,2016,2017,2018,2019,2020,2021,2022,1994,1995,1996,1997,1998,1999,2000,2001,2002,2003,2004,2005,2006,2007,2008,2009,2010,2011,2012,2013,2014,2015,2016,2017,2018,2019,2020,2021,2022,1994,1995,1996,1997,1998,1999,2000,2001,2002,2003,2004,2005,2006,2007,2008,2009,2010,2011,2012,2013,2014,2015,2016,2017,2018,2019,2020,2021,2022,1994,1995,1996,1997,1998,1999,2000,2001,2002,2003,2004,2005,2006,2007,2008,2009,2010,2011,2012,2013,2014,2015,2016,2017,2018,2019,2020,2021,2022,1994,1995,1996,1997,1998,1999,2000,2001,2002,2003,2004,2005,2006,2007,2008,2009,2010,2011,2012,2013,2014,2015,2016,2017,2018,2019,2020,2021,2022,1994,1995,1996,1997,1998,1999,2000,2001,2002,2003,2004,2005,2006,2007,2008,2009,2010,2011,2012,2013,2014,2015,2016,2017,2018,2019,2020,2021,2022,1994,1995,1996,1997,1998,1999,2000,2001,2002,2003,2004,2005,2006,2007,2008,2009,2010,2011,2012,2013,2014,2015,2016,2017,2018,2019,2020,2021,2022,1994,1995,1996,1997,1998,1999,2000,2001,2002,2003,2004,2005,2006,2007,2008,2009,2010,2011,2012,2013,2014,2015,2016,2017,2018,2019,2020,2021,2022],\"pct_change\":[\"-\",\"0\",\"0\",\"-0.013889\",\"-0.0081301\",\"-0.027972\",\"-0.0077519\",\"0\",\"0\",\"0.0073529\",\"0.0065789\",\"0\",\"-0.019108\",\"0.026144\",\"0.0059172\",\"0\",\"0.01105\",\"-0.0053191\",\"0.0050505\",\"0.032558\",\"0.019324\",\"0\",\"0.063218\",\"0.043011\",\"0.050761\",\"0.028708\",\"0.045455\",\"0\",\"0.051095\",\"-\",\"0\",\"-0.031008\",\"-0.028169\",\"0.0081967\",\"-0.028777\",\"-0.0078125\",\"0\",\"0\",\"0.014599\",\"0.03268\",\"0.0061728\",\"-0.0064935\",\"0.038217\",\"0.023529\",\"-0.0052083\",\"0.0054645\",\"0.0053476\",\"0.01005\",\"-0.013514\",\"-0.042654\",\"-0.085586\",\"-0.043243\",\"0\",\"-0.043478\",\"-0.027907\",\"-0.091787\",\"0\",\"-0.017361\",\"-\",\"0.0088496\",\"-0.024\",\"-0.014493\",\"0.01626\",\"-0.037037\",\"-0.007874\",\"0.0073529\",\"-0.0071942\",\"0.014388\",\"0.018987\",\"0\",\"-0.013072\",\"0.030675\",\"0.028736\",\"-0.010471\",\"0.0054348\",\"0.010638\",\"0.0199\",\"0.054795\",\"0.11881\",\"0.059113\",\"0.045198\",\"0.097938\",\"0.11111\",\"-0.0095694\",\"-0.053191\",\"0.044199\",\"0.18021\",\"-\",\"-0.0087719\",\"0.016393\",\"-0.0073529\",\"0.016\",\"-0.023077\",\"0\",\"0\",\"0\",\"-0.0070922\",\"0.024845\",\"0\",\"-0.013245\",\"0.02381\",\"0.011173\",\"-0.005291\",\"0.016216\",\"0\",\"0.004878\",\"-0.008658\",\"0.053097\",\"0.074419\",\"0.043243\",\"0.014085\",\"0.072727\",\"0.0096618\",\"-0.28652\",\"0.19577\",\"0.098802\",\"0.056911\",\"0.017699\",\"0.072581\",\"-0.0074074\",\"0.023622\",\"0.031496\",\"0.0079365\",\"0.014599\",\"0.014493\",\"0.014286\",\"0.024242\",\"0.006135\",\"0.0067114\",\"0.017442\",\"0.016575\",\"0.021277\",\"0.015957\",\"0.0052632\",\"0.0048544\",\"0.039301\",\"0.07563\",\"0.017316\",\"0.067358\",\"0.078704\",\"0.12288\",\"0\",\"0.19685\",\"0.048673\",\"0.0081744\",\"0.0076923\",\"0.034783\",\"0.075188\",\"0\",\"0.061538\",\"0.022901\",\"0.023622\",\"0.0071942\",\"0.0071429\",\"0.021127\",\"0.04142\",\"0\",\"0.013333\",\"0.017143\",\"0.027174\",\"0.010417\",\"0.0052356\",\"0.0052356\",\"0.0048309\",\"0.0084034\",\"-0.0039063\",\"-0.029787\",\"0.043689\",\"0.042918\",\"0.026415\",\"-0.0095694\",\"0.032895\",\"0.0042194\",\"-0.0081081\",\"-0.022901\",\"0.042017\",\"0.020979\",\"0.0074627\",\"0.072464\",\"0.0074627\",\"0.015385\",\"0.014286\",\"0.0070922\",\"0.027586\",\"0.011364\",\"0.0060976\",\"0.013158\",\"0.005618\",\"0.031746\",\"0.0051546\",\"0.010417\",\"0.0052083\",\"0.0048077\",\"-0.075\",\"-0.039216\",\"-0.092105\",\"-0.088372\",\"-0.032922\",\"-0.069853\",\"-0.038647\",\"-0.031847\",\"0\",\"-0.035422\",\"-0.039062\",\"0.056452\",\"0.0068493\",\"0.022222\",\"0.054054\",\"-0.014815\",\"0.0075758\",\"0.021127\",\"-0.0070423\",\"0.013423\",\"-0.005618\",\"0\",\"0.0064935\",\"0\",\"0\",\"-0.020513\",\"0\",\"0.0051813\",\"0\",\"-0.081081\",\"-0.073469\",\"-0.12077\",\"-0.11224\",\"-0.068085\",\"-0.12253\",\"-0.045226\",\"-0.013158\",\"0\",\"-0.062147\",\"0.0081301\",\"0.022901\",\"0\",\"0.0072464\",\"0.0064103\",\"0.0075188\",\"0.022556\",\"0.013793\",\"0\",\"0.013245\",\"-0.028249\",\"0.0060606\",\"0.0064516\",\"0.0055866\",\"0\",\"-0.020942\",\"-0.0051546\",\"0.010309\",\"0.0095694\",\"-0.029412\",\"0.039648\",\"-0.071429\",\"-0.022989\",\"-0.03653\",\"-0.085586\",\"-0.026316\",\"-0.02\",\"0\",\"-0.003012\",\"-0.032258\",\"-0.037313\",\"-0.013605\",\"-0.057554\",\"-0.031847\",\"-0.037313\",\"0\",\"-0.013605\",\"-0.014184\",\"-0.013072\",\"-0.023256\",\"-0.012048\",\"-0.012821\",\"-0.022222\",\"-0.010256\",\"-0.02139\",\"-0.010363\",\"0\",\"0\",\"-0.010101\",\"0\",\"-0.047337\",\"-0.064706\",\"-0.061611\",\"0\",\"0\",\"0.020408\",\"-0.021008\",\"-\",\"-0.05\",\"0.023256\",\"0\",\"-0.030534\",\"-0.026316\",\"0\",\"0\",\"-0.02069\",\"-0.021583\",\"0\",\"-0.017857\",\"-0.02439\",\"-0.012987\",\"-0.028409\",\"-0.0051813\",\"-0.010929\",\"-0.015707\",\"0.005102\",\"0.0094787\",\"0.035714\",\"-0.021186\",\"0.0062112\",\"0.10692\",\"-0.010101\",\"0\",\"0\",\"0.13333\",\"0.0042918\",\"-\",\"-0.0087719\",\"-0.022727\",\"-0.0068966\",\"-0.031496\",\"-0.033784\",\"0\",\"0\",\"-0.021127\",\"0\",\"0.0066225\",\"-0.018182\",\"-0.01875\",\"0.0065789\",\"-0.011696\",\"0\",\"0\",\"0\",\"0.0050761\",\"0.0093897\",\"0.019704\",\"-0.038961\",\"0.074074\",\"0.056818\",\"0.005102\",\"0.029557\",\"0.07027\",\"0.064706\",\"0.17094\",\"-\"],\"width\":{\"__ndarray__\":\"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\",\"dtype\":\"float64\",\"order\":\"little\",\"shape\":[348]},\"zvalues\":{\"__ndarray__\":\"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\",\"dtype\":\"float64\",\"order\":\"little\",\"shape\":[348]}},\"selected\":{\"id\":\"3413\"},\"selection_policy\":{\"id\":\"3437\"}},\"id\":\"3412\",\"type\":\"ColumnDataSource\"},{\"attributes\":{\"tools\":[{\"id\":\"3380\"},{\"id\":\"3398\"},{\"id\":\"3399\"},{\"id\":\"3400\"},{\"id\":\"3401\"},{\"id\":\"3402\"}]},\"id\":\"3404\",\"type\":\"Toolbar\"},{\"attributes\":{},\"id\":\"3428\",\"type\":\"AllLabels\"},{\"attributes\":{\"bottom_units\":\"screen\",\"coordinates\":null,\"fill_alpha\":0.5,\"fill_color\":\"lightgrey\",\"group\":null,\"left_units\":\"screen\",\"level\":\"overlay\",\"line_alpha\":1.0,\"line_color\":\"black\",\"line_dash\":[4,4],\"line_width\":2,\"right_units\":\"screen\",\"syncable\":false,\"top_units\":\"screen\"},\"id\":\"3403\",\"type\":\"BoxAnnotation\"},{\"attributes\":{},\"id\":\"3398\",\"type\":\"SaveTool\"},{\"attributes\":{},\"id\":\"3427\",\"type\":\"BasicTickFormatter\"},{\"attributes\":{\"below\":[{\"id\":\"3390\"}],\"center\":[{\"id\":\"3393\"},{\"id\":\"3397\"}],\"height\":300,\"left\":[{\"id\":\"3394\"}],\"margin\":[5,5,5,5],\"min_border_bottom\":10,\"min_border_left\":10,\"min_border_right\":10,\"min_border_top\":10,\"renderers\":[{\"id\":\"3419\"}],\"right\":[{\"id\":\"3422\"}],\"sizing_mode\":\"fixed\",\"title\":{\"id\":\"3382\"},\"toolbar\":{\"id\":\"3404\"},\"width\":700,\"x_range\":{\"id\":\"3378\"},\"x_scale\":{\"id\":\"3386\"},\"y_range\":{\"id\":\"3379\"},\"y_scale\":{\"id\":\"3388\"}},\"id\":\"3381\",\"subtype\":\"Figure\",\"type\":\"Plot\"},{\"attributes\":{},\"id\":\"3399\",\"type\":\"PanTool\"},{\"attributes\":{},\"id\":\"3413\",\"type\":\"Selection\"},{\"attributes\":{\"fill_alpha\":{\"value\":0.2},\"fill_color\":{\"field\":\"zvalues\",\"transform\":{\"id\":\"3411\"}},\"hatch_alpha\":{\"value\":0.2},\"height\":{\"field\":\"height\"},\"line_alpha\":{\"value\":0},\"line_color\":{\"value\":\"#1f77b4\"},\"width\":{\"field\":\"width\"},\"x\":{\"field\":\"index_full_stop_month\"},\"y\":{\"field\":\"index_full_stop_year\"}},\"id\":\"3418\",\"type\":\"Rect\"},{\"attributes\":{},\"id\":\"3402\",\"type\":\"ResetTool\"},{\"attributes\":{\"children\":[{\"id\":\"3377\"},{\"id\":\"3381\"},{\"id\":\"3440\"}],\"margin\":[0,0,0,0],\"name\":\"Row02339\",\"tags\":[\"embedded\"]},\"id\":\"3376\",\"type\":\"Row\"},{\"attributes\":{\"callback\":null,\"renderers\":[{\"id\":\"3419\"}],\"tags\":[\"hv_created\"],\"tooltips\":[[\"index.month\",\"@{index_full_stop_month}\"],[\"index.year\",\"@{index_full_stop_year}\"],[\"pct_change\",\"@{pct_change}\"]]},\"id\":\"3380\",\"type\":\"HoverTool\"},{\"attributes\":{},\"id\":\"3400\",\"type\":\"WheelZoomTool\"},{\"attributes\":{\"margin\":[5,5,5,5],\"name\":\"HSpacer02343\",\"sizing_mode\":\"stretch_width\"},\"id\":\"3377\",\"type\":\"Spacer\"},{\"attributes\":{\"overlay\":{\"id\":\"3403\"}},\"id\":\"3401\",\"type\":\"BoxZoomTool\"},{\"attributes\":{\"high\":0.1968503937007875,\"low\":-0.2865168539325843,\"nan_color\":\"white\",\"palette\":[\"#fff5f0\",\"#fff4ef\",\"#fff4ee\",\"#fff3ed\",\"#fff2ec\",\"#fff2eb\",\"#fff1ea\",\"#fff0e9\",\"#fff0e8\",\"#ffefe8\",\"#ffeee7\",\"#ffeee6\",\"#ffede5\",\"#ffece4\",\"#ffece3\",\"#ffebe2\",\"#feeae1\",\"#feeae0\",\"#fee9df\",\"#fee8de\",\"#fee8dd\",\"#fee7dc\",\"#fee7db\",\"#fee6da\",\"#fee5d9\",\"#fee5d8\",\"#fee4d8\",\"#fee3d7\",\"#fee3d6\",\"#fee2d5\",\"#fee1d4\",\"#fee1d3\",\"#fee0d2\",\"#fedfd0\",\"#fedecf\",\"#fedccd\",\"#fedbcc\",\"#fedaca\",\"#fed9c9\",\"#fed8c7\",\"#fdd7c6\",\"#fdd5c4\",\"#fdd4c2\",\"#fdd3c1\",\"#fdd2bf\",\"#fdd1be\",\"#fdd0bc\",\"#fdcebb\",\"#fdcdb9\",\"#fdccb8\",\"#fdcbb6\",\"#fdcab5\",\"#fdc9b3\",\"#fdc7b2\",\"#fdc6b0\",\"#fdc5ae\",\"#fcc4ad\",\"#fcc3ab\",\"#fcc2aa\",\"#fcc1a8\",\"#fcbfa7\",\"#fcbea5\",\"#fcbda4\",\"#fcbca2\",\"#fcbba1\",\"#fcb99f\",\"#fcb89e\",\"#fcb79c\",\"#fcb69b\",\"#fcb499\",\"#fcb398\",\"#fcb296\",\"#fcb095\",\"#fcaf93\",\"#fcae92\",\"#fcad90\",\"#fcab8f\",\"#fcaa8d\",\"#fca98c\",\"#fca78b\",\"#fca689\",\"#fca588\",\"#fca486\",\"#fca285\",\"#fca183\",\"#fca082\",\"#fc9e80\",\"#fc9d7f\",\"#fc9c7d\",\"#fc9b7c\",\"#fc997a\",\"#fc9879\",\"#fc9777\",\"#fc9576\",\"#fc9474\",\"#fc9373\",\"#fc9272\",\"#fc9070\",\"#fc8f6f\",\"#fc8e6e\",\"#fc8d6d\",\"#fc8b6b\",\"#fc8a6a\",\"#fc8969\",\"#fc8767\",\"#fc8666\",\"#fc8565\",\"#fc8464\",\"#fc8262\",\"#fc8161\",\"#fc8060\",\"#fc7f5f\",\"#fb7d5d\",\"#fb7c5c\",\"#fb7b5b\",\"#fb7a5a\",\"#fb7858\",\"#fb7757\",\"#fb7656\",\"#fb7555\",\"#fb7353\",\"#fb7252\",\"#fb7151\",\"#fb7050\",\"#fb6e4e\",\"#fb6d4d\",\"#fb6c4c\",\"#fb6b4b\",\"#fb694a\",\"#fa6849\",\"#fa6648\",\"#fa6547\",\"#f96346\",\"#f96245\",\"#f96044\",\"#f85f43\",\"#f85d42\",\"#f75c41\",\"#f75b40\",\"#f7593f\",\"#f6583e\",\"#f6563d\",\"#f6553c\",\"#f5533b\",\"#f5523a\",\"#f4503a\",\"#f44f39\",\"#f44d38\",\"#f34c37\",\"#f34a36\",\"#f34935\",\"#f24734\",\"#f24633\",\"#f14432\",\"#f14331\",\"#f14130\",\"#f0402f\",\"#f03f2e\",\"#f03d2d\",\"#ef3c2c\",\"#ee3a2c\",\"#ed392b\",\"#ec382b\",\"#eb372a\",\"#ea362a\",\"#e93529\",\"#e83429\",\"#e63328\",\"#e53228\",\"#e43027\",\"#e32f27\",\"#e22e27\",\"#e12d26\",\"#e02c26\",\"#de2b25\",\"#dd2a25\",\"#dc2924\",\"#db2824\",\"#da2723\",\"#d92523\",\"#d82422\",\"#d72322\",\"#d52221\",\"#d42121\",\"#d32020\",\"#d21f20\",\"#d11e1f\",\"#d01d1f\",\"#cf1c1f\",\"#ce1a1e\",\"#cc191e\",\"#cb181d\",\"#ca181d\",\"#c9181d\",\"#c8171c\",\"#c7171c\",\"#c5171c\",\"#c4161c\",\"#c3161b\",\"#c2161b\",\"#c1161b\",\"#bf151b\",\"#be151a\",\"#bd151a\",\"#bc141a\",\"#bb141a\",\"#b91419\",\"#b81419\",\"#b71319\",\"#b61319\",\"#b51318\",\"#b31218\",\"#b21218\",\"#b11218\",\"#b01217\",\"#af1117\",\"#ad1117\",\"#ac1117\",\"#ab1016\",\"#aa1016\",\"#a91016\",\"#a81016\",\"#a60f15\",\"#a50f15\",\"#a30f15\",\"#a10e15\",\"#9f0e14\",\"#9d0d14\",\"#9c0d14\",\"#9a0c14\",\"#980c13\",\"#960b13\",\"#940b13\",\"#920a13\",\"#900a12\",\"#8e0912\",\"#8c0912\",\"#8a0812\",\"#880811\",\"#860811\",\"#840711\",\"#820711\",\"#800610\",\"#7e0610\",\"#7c0510\",\"#7a0510\",\"#79040f\",\"#77040f\",\"#75030f\",\"#73030f\",\"#71020e\",\"#6f020e\",\"#6d010e\",\"#6b010e\",\"#69000d\",\"#67000d\"]},\"id\":\"3411\",\"type\":\"LinearColorMapper\"},{\"attributes\":{\"end\":12.5,\"reset_end\":12.5,\"reset_start\":0.5,\"start\":0.5,\"tags\":[[[\"index.month\",\"index.month\",null]]]},\"id\":\"3378\",\"type\":\"Range1d\"},{\"attributes\":{},\"id\":\"3433\",\"type\":\"NoOverlap\"},{\"attributes\":{\"coordinates\":null,\"group\":null,\"text\":\"Heatmap Volatility in Chicken Prices\",\"text_color\":\"black\",\"text_font_size\":\"12pt\"},\"id\":\"3382\",\"type\":\"Title\"},{\"attributes\":{},\"id\":\"3386\",\"type\":\"LinearScale\"},{\"attributes\":{\"axis_label\":\"index.month\",\"coordinates\":null,\"formatter\":{\"id\":\"3424\"},\"group\":null,\"major_label_policy\":{\"id\":\"3425\"},\"ticker\":{\"id\":\"3391\"}},\"id\":\"3390\",\"type\":\"LinearAxis\"},{\"attributes\":{\"fill_color\":{\"field\":\"zvalues\",\"transform\":{\"id\":\"3411\"}},\"height\":{\"field\":\"height\"},\"line_alpha\":{\"value\":0},\"line_color\":{\"value\":\"#1f77b4\"},\"width\":{\"field\":\"width\"},\"x\":{\"field\":\"index_full_stop_month\"},\"y\":{\"field\":\"index_full_stop_year\"}},\"id\":\"3415\",\"type\":\"Rect\"},{\"attributes\":{\"fill_color\":{\"field\":\"zvalues\",\"transform\":{\"id\":\"3411\"}},\"height\":{\"field\":\"height\"},\"line_alpha\":{\"value\":0},\"line_color\":{\"value\":\"#1f77b4\"},\"width\":{\"field\":\"width\"},\"x\":{\"field\":\"index_full_stop_month\"},\"y\":{\"field\":\"index_full_stop_year\"}},\"id\":\"3417\",\"type\":\"Rect\"},{\"attributes\":{},\"id\":\"3391\",\"type\":\"BasicTicker\"},{\"attributes\":{\"source\":{\"id\":\"3412\"}},\"id\":\"3420\",\"type\":\"CDSView\"}],\"root_ids\":[\"3376\"]},\"title\":\"Bokeh Application\",\"version\":\"2.4.3\"}};\n",
       "    var render_items = [{\"docid\":\"0a03748a-a059-4745-add8-8bdf17dd03a8\",\"root_ids\":[\"3376\"],\"roots\":{\"3376\":\"fcbc1ffd-8168-40b9-8c34-4be12f43bcc6\"}}];\n",
       "    root.Bokeh.embed.embed_items_notebook(docs_json, render_items);\n",
       "  }\n",
       "  if (root.Bokeh !== undefined && root.Bokeh.Panel !== undefined) {\n",
       "    embed_document(root);\n",
       "  } else {\n",
       "    var attempts = 0;\n",
       "    var timer = setInterval(function(root) {\n",
       "      if (root.Bokeh !== undefined && root.Bokeh.Panel !== undefined) {\n",
       "        clearInterval(timer);\n",
       "        embed_document(root);\n",
       "      } else if (document.readyState == \"complete\") {\n",
       "        attempts++;\n",
       "        if (attempts > 200) {\n",
       "          clearInterval(timer);\n",
       "          console.log(\"Bokeh: ERROR: Unable to run BokehJS code because BokehJS library is missing\");\n",
       "        }\n",
       "      }\n",
       "    }, 25, root)\n",
       "  }\n",
       "})(window);</script>"
      ],
      "text/plain": [
       ":HeatMap   [index.month,index.year]   (pct_change)"
      ]
     },
     "execution_count": 93,
     "metadata": {
      "application/vnd.holoviews_exec.v0+json": {
       "id": "3376"
      }
     },
     "output_type": "execute_result"
    }
   ],
   "source": [
    "# Create a Heatmap\n",
    "chicken_df.hvplot.heatmap(x='index.month', y='index.year', C='pct_change', cmap='reds', label='Heatmap Volatility in Chicken Prices').aggregate(function=np.mean)"
   ]
  },
  {
   "cell_type": "markdown",
   "id": "3222d93a-0408-487d-b25a-92610d8311c6",
   "metadata": {},
   "source": [
    "## Start Predictive Modeling"
   ]
  },
  {
   "cell_type": "code",
   "execution_count": 94,
   "id": "0465ee95-97e5-401f-a92d-ef5ca36a11c1",
   "metadata": {},
   "outputs": [],
   "source": [
    "# Organize Data Frame for predictive modeling\n"
   ]
  },
  {
   "cell_type": "code",
   "execution_count": 95,
   "id": "37729060-aff6-43cd-84cd-d7db3af74828",
   "metadata": {},
   "outputs": [
    {
     "data": {
      "text/html": [
       "<div>\n",
       "<style scoped>\n",
       "    .dataframe tbody tr th:only-of-type {\n",
       "        vertical-align: middle;\n",
       "    }\n",
       "\n",
       "    .dataframe tbody tr th {\n",
       "        vertical-align: top;\n",
       "    }\n",
       "\n",
       "    .dataframe thead th {\n",
       "        text-align: right;\n",
       "    }\n",
       "</style>\n",
       "<table border=\"1\" class=\"dataframe\">\n",
       "  <thead>\n",
       "    <tr style=\"text-align: right;\">\n",
       "      <th></th>\n",
       "      <th>Chicken Price</th>\n",
       "      <th>pct_change</th>\n",
       "      <th>sma_fast</th>\n",
       "      <th>sma_long</th>\n",
       "      <th>Month</th>\n",
       "      <th>Year</th>\n",
       "    </tr>\n",
       "    <tr>\n",
       "      <th>Date</th>\n",
       "      <th></th>\n",
       "      <th></th>\n",
       "      <th></th>\n",
       "      <th></th>\n",
       "      <th></th>\n",
       "      <th></th>\n",
       "    </tr>\n",
       "  </thead>\n",
       "  <tbody>\n",
       "    <tr>\n",
       "      <th>1994-05-01</th>\n",
       "      <td>1.30</td>\n",
       "      <td>0.056911</td>\n",
       "      <td>1.218</td>\n",
       "      <td>1.1895</td>\n",
       "      <td>5</td>\n",
       "      <td>1994</td>\n",
       "    </tr>\n",
       "    <tr>\n",
       "      <th>1994-06-01</th>\n",
       "      <td>1.31</td>\n",
       "      <td>0.007692</td>\n",
       "      <td>1.248</td>\n",
       "      <td>1.2020</td>\n",
       "      <td>6</td>\n",
       "      <td>1994</td>\n",
       "    </tr>\n",
       "    <tr>\n",
       "      <th>1994-07-01</th>\n",
       "      <td>1.28</td>\n",
       "      <td>-0.022901</td>\n",
       "      <td>1.268</td>\n",
       "      <td>1.2115</td>\n",
       "      <td>7</td>\n",
       "      <td>1994</td>\n",
       "    </tr>\n",
       "    <tr>\n",
       "      <th>1994-08-01</th>\n",
       "      <td>1.23</td>\n",
       "      <td>-0.039062</td>\n",
       "      <td>1.270</td>\n",
       "      <td>1.2185</td>\n",
       "      <td>8</td>\n",
       "      <td>1994</td>\n",
       "    </tr>\n",
       "    <tr>\n",
       "      <th>1994-09-01</th>\n",
       "      <td>1.24</td>\n",
       "      <td>0.008130</td>\n",
       "      <td>1.272</td>\n",
       "      <td>1.2250</td>\n",
       "      <td>9</td>\n",
       "      <td>1994</td>\n",
       "    </tr>\n",
       "  </tbody>\n",
       "</table>\n",
       "</div>"
      ],
      "text/plain": [
       "            Chicken Price  pct_change  sma_fast  sma_long  Month  Year\n",
       "Date                                                                  \n",
       "1994-05-01           1.30    0.056911     1.218    1.1895      5  1994\n",
       "1994-06-01           1.31    0.007692     1.248    1.2020      6  1994\n",
       "1994-07-01           1.28   -0.022901     1.268    1.2115      7  1994\n",
       "1994-08-01           1.23   -0.039062     1.270    1.2185      8  1994\n",
       "1994-09-01           1.24    0.008130     1.272    1.2250      9  1994"
      ]
     },
     "execution_count": 95,
     "metadata": {},
     "output_type": "execute_result"
    }
   ],
   "source": [
    "# Split Date into month and year\n",
    "chicken_df['Month'] = chicken_df.index.month\n",
    "chicken_df['Year'] = chicken_df.index.year\n",
    "chicken_df.head()"
   ]
  },
  {
   "cell_type": "code",
   "execution_count": 96,
   "id": "df79c0e4-dfa9-4871-b7ca-b4379c57b301",
   "metadata": {},
   "outputs": [
    {
     "data": {
      "text/html": [
       "<div>\n",
       "<style scoped>\n",
       "    .dataframe tbody tr th:only-of-type {\n",
       "        vertical-align: middle;\n",
       "    }\n",
       "\n",
       "    .dataframe tbody tr th {\n",
       "        vertical-align: top;\n",
       "    }\n",
       "\n",
       "    .dataframe thead th {\n",
       "        text-align: right;\n",
       "    }\n",
       "</style>\n",
       "<table border=\"1\" class=\"dataframe\">\n",
       "  <thead>\n",
       "    <tr style=\"text-align: right;\">\n",
       "      <th></th>\n",
       "      <th>Chicken Price</th>\n",
       "      <th>sma_fast</th>\n",
       "      <th>sma_long</th>\n",
       "      <th>Month</th>\n",
       "      <th>Year</th>\n",
       "    </tr>\n",
       "  </thead>\n",
       "  <tbody>\n",
       "    <tr>\n",
       "      <th>0</th>\n",
       "      <td>1.30</td>\n",
       "      <td>1.218</td>\n",
       "      <td>1.1895</td>\n",
       "      <td>5</td>\n",
       "      <td>1994</td>\n",
       "    </tr>\n",
       "    <tr>\n",
       "      <th>1</th>\n",
       "      <td>1.31</td>\n",
       "      <td>1.248</td>\n",
       "      <td>1.2020</td>\n",
       "      <td>6</td>\n",
       "      <td>1994</td>\n",
       "    </tr>\n",
       "    <tr>\n",
       "      <th>2</th>\n",
       "      <td>1.28</td>\n",
       "      <td>1.268</td>\n",
       "      <td>1.2115</td>\n",
       "      <td>7</td>\n",
       "      <td>1994</td>\n",
       "    </tr>\n",
       "    <tr>\n",
       "      <th>3</th>\n",
       "      <td>1.23</td>\n",
       "      <td>1.270</td>\n",
       "      <td>1.2185</td>\n",
       "      <td>8</td>\n",
       "      <td>1994</td>\n",
       "    </tr>\n",
       "    <tr>\n",
       "      <th>4</th>\n",
       "      <td>1.24</td>\n",
       "      <td>1.272</td>\n",
       "      <td>1.2250</td>\n",
       "      <td>9</td>\n",
       "      <td>1994</td>\n",
       "    </tr>\n",
       "    <tr>\n",
       "      <th>...</th>\n",
       "      <td>...</td>\n",
       "      <td>...</td>\n",
       "      <td>...</td>\n",
       "      <td>...</td>\n",
       "      <td>...</td>\n",
       "    </tr>\n",
       "    <tr>\n",
       "      <th>336</th>\n",
       "      <td>3.70</td>\n",
       "      <td>3.284</td>\n",
       "      <td>2.4250</td>\n",
       "      <td>5</td>\n",
       "      <td>2022</td>\n",
       "    </tr>\n",
       "    <tr>\n",
       "      <th>337</th>\n",
       "      <td>3.67</td>\n",
       "      <td>3.442</td>\n",
       "      <td>2.5335</td>\n",
       "      <td>6</td>\n",
       "      <td>2022</td>\n",
       "    </tr>\n",
       "    <tr>\n",
       "      <th>338</th>\n",
       "      <td>3.54</td>\n",
       "      <td>3.584</td>\n",
       "      <td>2.6255</td>\n",
       "      <td>7</td>\n",
       "      <td>2022</td>\n",
       "    </tr>\n",
       "    <tr>\n",
       "      <th>339</th>\n",
       "      <td>3.32</td>\n",
       "      <td>3.580</td>\n",
       "      <td>2.7010</td>\n",
       "      <td>8</td>\n",
       "      <td>2022</td>\n",
       "    </tr>\n",
       "    <tr>\n",
       "      <th>340</th>\n",
       "      <td>3.31</td>\n",
       "      <td>3.508</td>\n",
       "      <td>2.7760</td>\n",
       "      <td>9</td>\n",
       "      <td>2022</td>\n",
       "    </tr>\n",
       "  </tbody>\n",
       "</table>\n",
       "<p>341 rows × 5 columns</p>\n",
       "</div>"
      ],
      "text/plain": [
       "     Chicken Price  sma_fast  sma_long  Month  Year\n",
       "0             1.30     1.218    1.1895      5  1994\n",
       "1             1.31     1.248    1.2020      6  1994\n",
       "2             1.28     1.268    1.2115      7  1994\n",
       "3             1.23     1.270    1.2185      8  1994\n",
       "4             1.24     1.272    1.2250      9  1994\n",
       "..             ...       ...       ...    ...   ...\n",
       "336           3.70     3.284    2.4250      5  2022\n",
       "337           3.67     3.442    2.5335      6  2022\n",
       "338           3.54     3.584    2.6255      7  2022\n",
       "339           3.32     3.580    2.7010      8  2022\n",
       "340           3.31     3.508    2.7760      9  2022\n",
       "\n",
       "[341 rows x 5 columns]"
      ]
     },
     "execution_count": 96,
     "metadata": {},
     "output_type": "execute_result"
    }
   ],
   "source": [
    "# Create dataframe for use in machine learning model\n",
    "learning_df = chicken_df.reset_index().drop(columns=['pct_change', 'Date'])\n",
    "learning_df"
   ]
  },
  {
   "cell_type": "code",
   "execution_count": 97,
   "id": "a2941320-82e5-4209-84de-c0e408c07ea3",
   "metadata": {},
   "outputs": [
    {
     "data": {
      "text/html": [
       "<div>\n",
       "<style scoped>\n",
       "    .dataframe tbody tr th:only-of-type {\n",
       "        vertical-align: middle;\n",
       "    }\n",
       "\n",
       "    .dataframe tbody tr th {\n",
       "        vertical-align: top;\n",
       "    }\n",
       "\n",
       "    .dataframe thead th {\n",
       "        text-align: right;\n",
       "    }\n",
       "</style>\n",
       "<table border=\"1\" class=\"dataframe\">\n",
       "  <thead>\n",
       "    <tr style=\"text-align: right;\">\n",
       "      <th></th>\n",
       "      <th>Month</th>\n",
       "      <th>Year</th>\n",
       "    </tr>\n",
       "  </thead>\n",
       "  <tbody>\n",
       "    <tr>\n",
       "      <th>0</th>\n",
       "      <td>5</td>\n",
       "      <td>1994</td>\n",
       "    </tr>\n",
       "    <tr>\n",
       "      <th>1</th>\n",
       "      <td>6</td>\n",
       "      <td>1994</td>\n",
       "    </tr>\n",
       "    <tr>\n",
       "      <th>2</th>\n",
       "      <td>7</td>\n",
       "      <td>1994</td>\n",
       "    </tr>\n",
       "    <tr>\n",
       "      <th>3</th>\n",
       "      <td>8</td>\n",
       "      <td>1994</td>\n",
       "    </tr>\n",
       "    <tr>\n",
       "      <th>4</th>\n",
       "      <td>9</td>\n",
       "      <td>1994</td>\n",
       "    </tr>\n",
       "  </tbody>\n",
       "</table>\n",
       "</div>"
      ],
      "text/plain": [
       "   Month  Year\n",
       "0      5  1994\n",
       "1      6  1994\n",
       "2      7  1994\n",
       "3      8  1994\n",
       "4      9  1994"
      ]
     },
     "metadata": {},
     "output_type": "display_data"
    },
    {
     "data": {
      "text/plain": [
       "0    1.30\n",
       "1    1.31\n",
       "2    1.28\n",
       "3    1.23\n",
       "4    1.24\n",
       "Name: Chicken Price, dtype: float64"
      ]
     },
     "metadata": {},
     "output_type": "display_data"
    }
   ],
   "source": [
    "# Split data into features and target\n",
    "\n",
    "X = learning_df.drop(columns=['Chicken Price', 'sma_fast', 'sma_long'])\n",
    "y = learning_df['Chicken Price']\n",
    "display(X.head())\n",
    "display(y.head())"
   ]
  },
  {
   "cell_type": "code",
   "execution_count": 98,
   "id": "dda9bd46-c2af-4855-8b5a-f0a230772b30",
   "metadata": {},
   "outputs": [
    {
     "data": {
      "text/plain": [
       "102    1.36\n",
       "125    1.68\n",
       "11     1.13\n",
       "248    2.22\n",
       "238    2.26\n",
       "       ... \n",
       "9      1.13\n",
       "127    1.62\n",
       "16     1.34\n",
       "0      1.30\n",
       "284    2.07\n",
       "Name: Chicken Price, Length: 86, dtype: float64"
      ]
     },
     "execution_count": 98,
     "metadata": {},
     "output_type": "execute_result"
    }
   ],
   "source": [
    "# Split data into training and testing data\n",
    "X_train, X_test, y_train, y_test = train_test_split(X, y, random_state=1)\n",
    "y_test"
   ]
  },
  {
   "cell_type": "markdown",
   "id": "17d9e017-8546-4594-975f-7a63b2edfce6",
   "metadata": {},
   "source": [
    "### Try fitting with scaled data"
   ]
  },
  {
   "cell_type": "code",
   "execution_count": 99,
   "id": "e35c1064-86fa-4524-9ea7-91c3c8ff6753",
   "metadata": {},
   "outputs": [],
   "source": [
    "# Scale the X data\n",
    "scaler = StandardScaler()\n",
    "\n",
    "X_scaler = scaler.fit(X_train)\n",
    "\n",
    "X_train_scaled = X_scaler.transform(X_train)\n",
    "X_test_scaled = X_scaler.transform(X_test)"
   ]
  },
  {
   "cell_type": "code",
   "execution_count": 100,
   "id": "edb44bf0-f118-4309-aeaa-f5a578523977",
   "metadata": {},
   "outputs": [],
   "source": [
    "# set up XGBoost Regression Model\n",
    "model = xgb.XGBRegressor(n_estimators=500)"
   ]
  },
  {
   "cell_type": "code",
   "execution_count": 101,
   "id": "8f369ad1-c805-44c7-bbd5-b9553db864a4",
   "metadata": {},
   "outputs": [
    {
     "data": {
      "text/plain": [
       "XGBRegressor(base_score=0.5, booster='gbtree', colsample_bylevel=1,\n",
       "             colsample_bynode=1, colsample_bytree=1, enable_categorical=False,\n",
       "             gamma=0, gpu_id=-1, importance_type=None,\n",
       "             interaction_constraints='', learning_rate=0.300000012,\n",
       "             max_delta_step=0, max_depth=6, min_child_weight=1, missing=nan,\n",
       "             monotone_constraints='()', n_estimators=500, n_jobs=16,\n",
       "             num_parallel_tree=1, predictor='auto', random_state=0, reg_alpha=0,\n",
       "             reg_lambda=1, scale_pos_weight=1, subsample=1, tree_method='exact',\n",
       "             validate_parameters=1, verbosity=None)"
      ]
     },
     "execution_count": 101,
     "metadata": {},
     "output_type": "execute_result"
    }
   ],
   "source": [
    "# Fit training data to model\n",
    "model.fit(X_train_scaled, y_train)"
   ]
  },
  {
   "cell_type": "code",
   "execution_count": 102,
   "id": "f773d638-3243-4301-af6b-0a3d517b2f30",
   "metadata": {},
   "outputs": [
    {
     "data": {
      "text/plain": [
       "array([1.3847843, 1.6828423, 1.1375706, 2.0558658, 2.356015 , 3.7060807,\n",
       "       1.529502 , 1.5440714, 1.4454033, 1.9291391, 1.6019086, 2.243597 ,\n",
       "       1.7069492, 1.7547431, 1.2246354, 2.2062695, 2.3632705, 2.1435854,\n",
       "       2.1228535, 2.0760524, 1.850354 , 1.6134506, 2.1662443, 1.1399384,\n",
       "       3.3262293, 1.7377231, 2.583255 , 2.120039 , 1.5175556, 1.7858806,\n",
       "       1.8927542, 1.8682045, 2.4031177, 1.4042159, 1.2921969, 1.5332053,\n",
       "       1.3028666, 1.6245114, 2.049815 , 1.7052474, 1.8975205, 1.7846007,\n",
       "       1.7843257, 1.9430116, 2.2349734, 1.3743337, 1.3555328, 1.8676109,\n",
       "       3.335833 , 1.338491 , 1.6562855, 1.3281239, 2.0593643, 2.1304595,\n",
       "       1.1439363, 1.8603476, 1.4472201, 2.0326793, 3.3448367, 1.9812485,\n",
       "       1.4481263, 1.4152349, 2.0597928, 1.3675833, 1.3258307, 1.6079024,\n",
       "       1.4387065, 2.1877139, 1.5574712, 1.4049184, 1.3150978, 2.205972 ,\n",
       "       1.8521771, 1.7539606, 2.3787227, 1.8119415, 1.2852364, 2.3121486,\n",
       "       1.4015503, 1.8802532, 1.5013239, 1.1391875, 1.6105968, 1.3163629,\n",
       "       1.2793741, 1.9932207], dtype=float32)"
      ]
     },
     "execution_count": 102,
     "metadata": {},
     "output_type": "execute_result"
    }
   ],
   "source": [
    "# predict data\n",
    "y_pred = model.predict(X_test_scaled)\n",
    "y_pred"
   ]
  },
  {
   "cell_type": "code",
   "execution_count": 103,
   "id": "195bd51c-e7fa-4443-aecc-449e0210310f",
   "metadata": {},
   "outputs": [
    {
     "name": "stdout",
     "output_type": "stream",
     "text": [
      "Explained Variance is : 0.96\n",
      "Mean Squared Error is : 0.01\n",
      "Mean Absolute Erros is : 0.05\n",
      "R Squared is : 0.96\n"
     ]
    }
   ],
   "source": [
    "# Create Metrics Dataframe\n",
    "explained_variance = explained_variance_score(y_test, y_pred)\n",
    "mean_squared = mean_squared_error(y_test, y_pred)\n",
    "r2 = r2_score(y_test, y_pred)\n",
    "mean_absolute = mean_absolute_error(y_test, y_pred)\n",
    "\n",
    "print(f'Explained Variance is : {explained_variance:.2f}')\n",
    "print(f'Mean Squared Error is : {mean_squared:.2f}')\n",
    "print(f'Mean Absolute Erros is : {mean_absolute:.2f}')\n",
    "print(f'R Squared is : {r2:.2f}')"
   ]
  },
  {
   "cell_type": "markdown",
   "id": "2c489cc2-c6d1-4197-adad-b75b8786c229",
   "metadata": {},
   "source": [
    "### Try fitting with unscaled data"
   ]
  },
  {
   "cell_type": "code",
   "execution_count": 104,
   "id": "866c4e02-d726-4138-9a6f-395926628f62",
   "metadata": {},
   "outputs": [],
   "source": [
    "# set up XGBoost Regression Model\n",
    "model_unscaled = xgb.XGBRegressor(n_estimators=500)"
   ]
  },
  {
   "cell_type": "code",
   "execution_count": 105,
   "id": "68b26c20-bb2e-4a7a-9ef3-e60533abb393",
   "metadata": {},
   "outputs": [
    {
     "data": {
      "text/plain": [
       "XGBRegressor(base_score=0.5, booster='gbtree', colsample_bylevel=1,\n",
       "             colsample_bynode=1, colsample_bytree=1, enable_categorical=False,\n",
       "             gamma=0, gpu_id=-1, importance_type=None,\n",
       "             interaction_constraints='', learning_rate=0.300000012,\n",
       "             max_delta_step=0, max_depth=6, min_child_weight=1, missing=nan,\n",
       "             monotone_constraints='()', n_estimators=500, n_jobs=16,\n",
       "             num_parallel_tree=1, predictor='auto', random_state=0, reg_alpha=0,\n",
       "             reg_lambda=1, scale_pos_weight=1, subsample=1, tree_method='exact',\n",
       "             validate_parameters=1, verbosity=None)"
      ]
     },
     "execution_count": 105,
     "metadata": {},
     "output_type": "execute_result"
    }
   ],
   "source": [
    "# Fit training data to model\n",
    "model_unscaled.fit(X_train, y_train)"
   ]
  },
  {
   "cell_type": "code",
   "execution_count": 106,
   "id": "92d64db0-b1f8-46e3-8836-23cbfec98b7d",
   "metadata": {},
   "outputs": [
    {
     "data": {
      "text/plain": [
       "array([1.3847843, 1.6720982, 1.1375706, 2.0558658, 2.356015 , 3.7060807,\n",
       "       1.529502 , 1.5440714, 1.4454033, 1.9266416, 1.6019086, 2.243597 ,\n",
       "       1.7069492, 1.7391224, 1.2246354, 2.2062695, 2.3632705, 2.1435854,\n",
       "       2.1228535, 2.0760524, 1.850354 , 1.6134506, 2.1662443, 1.1399384,\n",
       "       3.3262293, 1.7377231, 2.583255 , 2.120039 , 1.5175556, 1.7858806,\n",
       "       1.8921106, 1.8682045, 2.4031177, 1.4042159, 1.2921969, 1.5332053,\n",
       "       1.3028666, 1.6245114, 2.049815 , 1.7052474, 1.8975205, 1.7846007,\n",
       "       1.7843257, 1.9430116, 2.2332425, 1.3743337, 1.3555328, 1.8676109,\n",
       "       3.335833 , 1.338491 , 1.6562855, 1.3281239, 2.0593643, 2.1304595,\n",
       "       1.1439363, 1.8603476, 1.4472201, 2.0326793, 3.3448367, 1.9812485,\n",
       "       1.4503986, 1.4152349, 2.0597928, 1.3675833, 1.3258307, 1.6079024,\n",
       "       1.4387065, 2.1877139, 1.5574712, 1.4049184, 1.3150978, 2.205972 ,\n",
       "       1.8521771, 1.7539606, 2.3418295, 1.8119415, 1.2852364, 2.3121486,\n",
       "       1.4015503, 1.8802532, 1.5013239, 1.1391875, 1.6105968, 1.3163629,\n",
       "       1.2793741, 1.9932207], dtype=float32)"
      ]
     },
     "execution_count": 106,
     "metadata": {},
     "output_type": "execute_result"
    }
   ],
   "source": [
    "# predict data\n",
    "y_pred_unscaled = model_unscaled.predict(X_test)\n",
    "y_pred_unscaled"
   ]
  },
  {
   "cell_type": "code",
   "execution_count": 107,
   "id": "7e985835-0665-4634-989c-d3a6108864d5",
   "metadata": {},
   "outputs": [
    {
     "name": "stdout",
     "output_type": "stream",
     "text": [
      "Explained Variance is : 0.96\n",
      "Mean Squared Error is : 0.01\n",
      "Mean Absolute Erros is : 0.05\n",
      "R Squared is : 0.96\n"
     ]
    }
   ],
   "source": [
    "# Create Metrics Dataframe\n",
    "explained_variance = explained_variance_score(y_test, y_pred_unscaled)\n",
    "mean_squared = mean_squared_error(y_test, y_pred_unscaled)\n",
    "r2 = r2_score(y_test, y_pred_unscaled)\n",
    "mean_absolute = mean_absolute_error(y_test, y_pred_unscaled)\n",
    "\n",
    "print(f'Explained Variance is : {explained_variance:.2f}')\n",
    "print(f'Mean Squared Error is : {mean_squared:.2f}')\n",
    "print(f'Mean Absolute Erros is : {mean_absolute:.2f}')\n",
    "print(f'R Squared is : {r2:.2f}')"
   ]
  },
  {
   "cell_type": "markdown",
   "id": "6d18aa1d-b3c0-4afb-80f0-b4c7dc0225a4",
   "metadata": {},
   "source": [
    "**Both of the models have the exact same evaluation metrics**"
   ]
  },
  {
   "cell_type": "markdown",
   "id": "f778f5e2-06a8-4a7c-a4b8-229d5d482c32",
   "metadata": {},
   "source": [
    "### Pickle the models for use in future predictions"
   ]
  },
  {
   "cell_type": "code",
   "execution_count": 108,
   "id": "d5f69e13-9e71-4dc8-85b9-3860c213e189",
   "metadata": {},
   "outputs": [],
   "source": [
    "# save model to file\n",
    "pickle.dump(model, open(\"./models/pickeled_model.pkl\", \"wb\"))\n",
    "pickle.dump(model_unscaled, open(\"./models/pickeled_model_unscaled.pkl\", \"wb\"))"
   ]
  },
  {
   "cell_type": "markdown",
   "id": "fcd67eb6-32c2-47b1-b90d-92e60fcc9d64",
   "metadata": {},
   "source": [
    "### Generate Future DataFrame for 10 years"
   ]
  },
  {
   "cell_type": "code",
   "execution_count": 109,
   "id": "4a25163a-8bcb-4e1b-8e09-62e3a33371df",
   "metadata": {},
   "outputs": [
    {
     "data": {
      "text/html": [
       "<div>\n",
       "<style scoped>\n",
       "    .dataframe tbody tr th:only-of-type {\n",
       "        vertical-align: middle;\n",
       "    }\n",
       "\n",
       "    .dataframe tbody tr th {\n",
       "        vertical-align: top;\n",
       "    }\n",
       "\n",
       "    .dataframe thead th {\n",
       "        text-align: right;\n",
       "    }\n",
       "</style>\n",
       "<table border=\"1\" class=\"dataframe\">\n",
       "  <thead>\n",
       "    <tr style=\"text-align: right;\">\n",
       "      <th></th>\n",
       "      <th>Month</th>\n",
       "    </tr>\n",
       "  </thead>\n",
       "  <tbody>\n",
       "    <tr>\n",
       "      <th>0</th>\n",
       "      <td>Sep 1992</td>\n",
       "    </tr>\n",
       "    <tr>\n",
       "      <th>1</th>\n",
       "      <td>Oct 1992</td>\n",
       "    </tr>\n",
       "    <tr>\n",
       "      <th>2</th>\n",
       "      <td>Nov 1992</td>\n",
       "    </tr>\n",
       "    <tr>\n",
       "      <th>3</th>\n",
       "      <td>Dec 1992</td>\n",
       "    </tr>\n",
       "    <tr>\n",
       "      <th>4</th>\n",
       "      <td>Jan 1993</td>\n",
       "    </tr>\n",
       "    <tr>\n",
       "      <th>...</th>\n",
       "      <td>...</td>\n",
       "    </tr>\n",
       "    <tr>\n",
       "      <th>356</th>\n",
       "      <td>May 2022</td>\n",
       "    </tr>\n",
       "    <tr>\n",
       "      <th>357</th>\n",
       "      <td>Jun 2022</td>\n",
       "    </tr>\n",
       "    <tr>\n",
       "      <th>358</th>\n",
       "      <td>Jul 2022</td>\n",
       "    </tr>\n",
       "    <tr>\n",
       "      <th>359</th>\n",
       "      <td>Aug 2022</td>\n",
       "    </tr>\n",
       "    <tr>\n",
       "      <th>360</th>\n",
       "      <td>Sep 2022</td>\n",
       "    </tr>\n",
       "  </tbody>\n",
       "</table>\n",
       "<p>361 rows × 1 columns</p>\n",
       "</div>"
      ],
      "text/plain": [
       "        Month\n",
       "0    Sep 1992\n",
       "1    Oct 1992\n",
       "2    Nov 1992\n",
       "3    Dec 1992\n",
       "4    Jan 1993\n",
       "..        ...\n",
       "356  May 2022\n",
       "357  Jun 2022\n",
       "358  Jul 2022\n",
       "359  Aug 2022\n",
       "360  Sep 2022\n",
       "\n",
       "[361 rows x 1 columns]"
      ]
     },
     "execution_count": 109,
     "metadata": {},
     "output_type": "execute_result"
    }
   ],
   "source": [
    "# slice DataFrame for only chicken prices\n",
    "future_df = historic_meat_prices_df.loc[:, ['Month']]\n",
    "future_df"
   ]
  },
  {
   "cell_type": "code",
   "execution_count": 110,
   "id": "3dd5e507-fcdd-4708-a85b-e31b077c2242",
   "metadata": {},
   "outputs": [
    {
     "data": {
      "text/html": [
       "<div>\n",
       "<style scoped>\n",
       "    .dataframe tbody tr th:only-of-type {\n",
       "        vertical-align: middle;\n",
       "    }\n",
       "\n",
       "    .dataframe tbody tr th {\n",
       "        vertical-align: top;\n",
       "    }\n",
       "\n",
       "    .dataframe thead th {\n",
       "        text-align: right;\n",
       "    }\n",
       "</style>\n",
       "<table border=\"1\" class=\"dataframe\">\n",
       "  <thead>\n",
       "    <tr style=\"text-align: right;\">\n",
       "      <th></th>\n",
       "      <th>Month</th>\n",
       "    </tr>\n",
       "  </thead>\n",
       "  <tbody>\n",
       "    <tr>\n",
       "      <th>0</th>\n",
       "      <td>1992-09-01</td>\n",
       "    </tr>\n",
       "    <tr>\n",
       "      <th>1</th>\n",
       "      <td>1992-10-01</td>\n",
       "    </tr>\n",
       "    <tr>\n",
       "      <th>2</th>\n",
       "      <td>1992-11-01</td>\n",
       "    </tr>\n",
       "    <tr>\n",
       "      <th>3</th>\n",
       "      <td>1992-12-01</td>\n",
       "    </tr>\n",
       "    <tr>\n",
       "      <th>4</th>\n",
       "      <td>1993-01-01</td>\n",
       "    </tr>\n",
       "    <tr>\n",
       "      <th>...</th>\n",
       "      <td>...</td>\n",
       "    </tr>\n",
       "    <tr>\n",
       "      <th>356</th>\n",
       "      <td>2022-05-01</td>\n",
       "    </tr>\n",
       "    <tr>\n",
       "      <th>357</th>\n",
       "      <td>2022-06-01</td>\n",
       "    </tr>\n",
       "    <tr>\n",
       "      <th>358</th>\n",
       "      <td>2022-07-01</td>\n",
       "    </tr>\n",
       "    <tr>\n",
       "      <th>359</th>\n",
       "      <td>2022-08-01</td>\n",
       "    </tr>\n",
       "    <tr>\n",
       "      <th>360</th>\n",
       "      <td>2022-09-01</td>\n",
       "    </tr>\n",
       "  </tbody>\n",
       "</table>\n",
       "<p>361 rows × 1 columns</p>\n",
       "</div>"
      ],
      "text/plain": [
       "         Month\n",
       "0   1992-09-01\n",
       "1   1992-10-01\n",
       "2   1992-11-01\n",
       "3   1992-12-01\n",
       "4   1993-01-01\n",
       "..         ...\n",
       "356 2022-05-01\n",
       "357 2022-06-01\n",
       "358 2022-07-01\n",
       "359 2022-08-01\n",
       "360 2022-09-01\n",
       "\n",
       "[361 rows x 1 columns]"
      ]
     },
     "execution_count": 110,
     "metadata": {},
     "output_type": "execute_result"
    }
   ],
   "source": [
    "# change Month into datetime object\n",
    "future_df['Month'] = pd.to_datetime(future_df['Month'], format='%b %Y')\n",
    "future_df"
   ]
  },
  {
   "cell_type": "code",
   "execution_count": 111,
   "id": "2a855116-4a4c-4893-8671-393cc5c932ec",
   "metadata": {},
   "outputs": [
    {
     "data": {
      "text/html": [
       "<div>\n",
       "<style scoped>\n",
       "    .dataframe tbody tr th:only-of-type {\n",
       "        vertical-align: middle;\n",
       "    }\n",
       "\n",
       "    .dataframe tbody tr th {\n",
       "        vertical-align: top;\n",
       "    }\n",
       "\n",
       "    .dataframe thead th {\n",
       "        text-align: right;\n",
       "    }\n",
       "</style>\n",
       "<table border=\"1\" class=\"dataframe\">\n",
       "  <thead>\n",
       "    <tr style=\"text-align: right;\">\n",
       "      <th></th>\n",
       "      <th>Month</th>\n",
       "    </tr>\n",
       "  </thead>\n",
       "  <tbody>\n",
       "    <tr>\n",
       "      <th>0</th>\n",
       "      <td>2022-10-01</td>\n",
       "    </tr>\n",
       "    <tr>\n",
       "      <th>1</th>\n",
       "      <td>2022-11-01</td>\n",
       "    </tr>\n",
       "    <tr>\n",
       "      <th>2</th>\n",
       "      <td>2022-12-01</td>\n",
       "    </tr>\n",
       "    <tr>\n",
       "      <th>3</th>\n",
       "      <td>2023-01-01</td>\n",
       "    </tr>\n",
       "    <tr>\n",
       "      <th>4</th>\n",
       "      <td>2023-02-01</td>\n",
       "    </tr>\n",
       "    <tr>\n",
       "      <th>...</th>\n",
       "      <td>...</td>\n",
       "    </tr>\n",
       "    <tr>\n",
       "      <th>115</th>\n",
       "      <td>2032-05-01</td>\n",
       "    </tr>\n",
       "    <tr>\n",
       "      <th>116</th>\n",
       "      <td>2032-06-01</td>\n",
       "    </tr>\n",
       "    <tr>\n",
       "      <th>117</th>\n",
       "      <td>2032-07-01</td>\n",
       "    </tr>\n",
       "    <tr>\n",
       "      <th>118</th>\n",
       "      <td>2032-08-01</td>\n",
       "    </tr>\n",
       "    <tr>\n",
       "      <th>119</th>\n",
       "      <td>2032-09-01</td>\n",
       "    </tr>\n",
       "  </tbody>\n",
       "</table>\n",
       "<p>120 rows × 1 columns</p>\n",
       "</div>"
      ],
      "text/plain": [
       "         Month\n",
       "0   2022-10-01\n",
       "1   2022-11-01\n",
       "2   2022-12-01\n",
       "3   2023-01-01\n",
       "4   2023-02-01\n",
       "..         ...\n",
       "115 2032-05-01\n",
       "116 2032-06-01\n",
       "117 2032-07-01\n",
       "118 2032-08-01\n",
       "119 2032-09-01\n",
       "\n",
       "[120 rows x 1 columns]"
      ]
     },
     "execution_count": 111,
     "metadata": {},
     "output_type": "execute_result"
    }
   ],
   "source": [
    "# Create future data frame\n",
    "to_merge_future_dates = pd.DataFrame()\n",
    "to_merge_future_dates['Month'] = pd.date_range(start='2022-09-01', periods=(120), freq='M')\n",
    "to_merge_future_dates['Month'] = to_merge_future_dates['Month'] + pd.Timedelta(days=1)\n",
    "to_merge_future_dates "
   ]
  },
  {
   "cell_type": "code",
   "execution_count": 112,
   "id": "b8fbf768-97b4-4a9a-b254-b71030c6f657",
   "metadata": {},
   "outputs": [],
   "source": [
    "# Concatenate to create a full dataframe with past dates and future dates\n",
    "full_future_df = pd.concat([future_df, to_merge_future_dates], ignore_index=True)\n",
    "\n",
    "# Rename columns to date \n",
    "full_future_df = full_future_df.rename(columns={'Month':'Date'})\n",
    "\n",
    "# Set index as date\n",
    "full_future_df = full_future_df.set_index('Date')"
   ]
  },
  {
   "cell_type": "code",
   "execution_count": 113,
   "id": "4b71f6b5-a7ed-4017-a6f4-2e69c288901a",
   "metadata": {},
   "outputs": [
    {
     "data": {
      "text/plain": [
       "Series([], dtype: object)"
      ]
     },
     "execution_count": 113,
     "metadata": {},
     "output_type": "execute_result"
    }
   ],
   "source": [
    "# Check dtypes\n",
    "full_future_df.dtypes"
   ]
  },
  {
   "cell_type": "code",
   "execution_count": 114,
   "id": "c867b514-56b9-4543-8f98-ab5c5be55dfe",
   "metadata": {},
   "outputs": [
    {
     "data": {
      "text/html": [
       "<div>\n",
       "<style scoped>\n",
       "    .dataframe tbody tr th:only-of-type {\n",
       "        vertical-align: middle;\n",
       "    }\n",
       "\n",
       "    .dataframe tbody tr th {\n",
       "        vertical-align: top;\n",
       "    }\n",
       "\n",
       "    .dataframe thead th {\n",
       "        text-align: right;\n",
       "    }\n",
       "</style>\n",
       "<table border=\"1\" class=\"dataframe\">\n",
       "  <thead>\n",
       "    <tr style=\"text-align: right;\">\n",
       "      <th></th>\n",
       "      <th>Month</th>\n",
       "      <th>Year</th>\n",
       "    </tr>\n",
       "    <tr>\n",
       "      <th>Date</th>\n",
       "      <th></th>\n",
       "      <th></th>\n",
       "    </tr>\n",
       "  </thead>\n",
       "  <tbody>\n",
       "    <tr>\n",
       "      <th>1992-09-01</th>\n",
       "      <td>9</td>\n",
       "      <td>1992</td>\n",
       "    </tr>\n",
       "    <tr>\n",
       "      <th>1992-10-01</th>\n",
       "      <td>10</td>\n",
       "      <td>1992</td>\n",
       "    </tr>\n",
       "    <tr>\n",
       "      <th>1992-11-01</th>\n",
       "      <td>11</td>\n",
       "      <td>1992</td>\n",
       "    </tr>\n",
       "    <tr>\n",
       "      <th>1992-12-01</th>\n",
       "      <td>12</td>\n",
       "      <td>1992</td>\n",
       "    </tr>\n",
       "    <tr>\n",
       "      <th>1993-01-01</th>\n",
       "      <td>1</td>\n",
       "      <td>1993</td>\n",
       "    </tr>\n",
       "  </tbody>\n",
       "</table>\n",
       "</div>"
      ],
      "text/plain": [
       "            Month  Year\n",
       "Date                   \n",
       "1992-09-01      9  1992\n",
       "1992-10-01     10  1992\n",
       "1992-11-01     11  1992\n",
       "1992-12-01     12  1992\n",
       "1993-01-01      1  1993"
      ]
     },
     "execution_count": 114,
     "metadata": {},
     "output_type": "execute_result"
    }
   ],
   "source": [
    "# split the month into a format for our model to predict\n",
    "# Split Date into month and year\n",
    "full_future_df['Month'] = full_future_df.index.month\n",
    "full_future_df['Year'] = full_future_df.index.year\n",
    "full_future_df.head()"
   ]
  },
  {
   "cell_type": "code",
   "execution_count": 115,
   "id": "71b3abbe-98dc-4d51-aa0d-14a599a3f771",
   "metadata": {},
   "outputs": [
    {
     "data": {
      "text/html": [
       "<div>\n",
       "<style scoped>\n",
       "    .dataframe tbody tr th:only-of-type {\n",
       "        vertical-align: middle;\n",
       "    }\n",
       "\n",
       "    .dataframe tbody tr th {\n",
       "        vertical-align: top;\n",
       "    }\n",
       "\n",
       "    .dataframe thead th {\n",
       "        text-align: right;\n",
       "    }\n",
       "</style>\n",
       "<table border=\"1\" class=\"dataframe\">\n",
       "  <thead>\n",
       "    <tr style=\"text-align: right;\">\n",
       "      <th></th>\n",
       "      <th>Month</th>\n",
       "      <th>Year</th>\n",
       "    </tr>\n",
       "  </thead>\n",
       "  <tbody>\n",
       "    <tr>\n",
       "      <th>0</th>\n",
       "      <td>9</td>\n",
       "      <td>1992</td>\n",
       "    </tr>\n",
       "    <tr>\n",
       "      <th>1</th>\n",
       "      <td>10</td>\n",
       "      <td>1992</td>\n",
       "    </tr>\n",
       "    <tr>\n",
       "      <th>2</th>\n",
       "      <td>11</td>\n",
       "      <td>1992</td>\n",
       "    </tr>\n",
       "    <tr>\n",
       "      <th>3</th>\n",
       "      <td>12</td>\n",
       "      <td>1992</td>\n",
       "    </tr>\n",
       "    <tr>\n",
       "      <th>4</th>\n",
       "      <td>1</td>\n",
       "      <td>1993</td>\n",
       "    </tr>\n",
       "    <tr>\n",
       "      <th>...</th>\n",
       "      <td>...</td>\n",
       "      <td>...</td>\n",
       "    </tr>\n",
       "    <tr>\n",
       "      <th>476</th>\n",
       "      <td>5</td>\n",
       "      <td>2032</td>\n",
       "    </tr>\n",
       "    <tr>\n",
       "      <th>477</th>\n",
       "      <td>6</td>\n",
       "      <td>2032</td>\n",
       "    </tr>\n",
       "    <tr>\n",
       "      <th>478</th>\n",
       "      <td>7</td>\n",
       "      <td>2032</td>\n",
       "    </tr>\n",
       "    <tr>\n",
       "      <th>479</th>\n",
       "      <td>8</td>\n",
       "      <td>2032</td>\n",
       "    </tr>\n",
       "    <tr>\n",
       "      <th>480</th>\n",
       "      <td>9</td>\n",
       "      <td>2032</td>\n",
       "    </tr>\n",
       "  </tbody>\n",
       "</table>\n",
       "<p>481 rows × 2 columns</p>\n",
       "</div>"
      ],
      "text/plain": [
       "     Month  Year\n",
       "0        9  1992\n",
       "1       10  1992\n",
       "2       11  1992\n",
       "3       12  1992\n",
       "4        1  1993\n",
       "..     ...   ...\n",
       "476      5  2032\n",
       "477      6  2032\n",
       "478      7  2032\n",
       "479      8  2032\n",
       "480      9  2032\n",
       "\n",
       "[481 rows x 2 columns]"
      ]
     },
     "execution_count": 115,
     "metadata": {},
     "output_type": "execute_result"
    }
   ],
   "source": [
    "# Finalizing dataframe for predicting\n",
    "predicting_df = full_future_df.loc[:, ['Month', 'Year']].reset_index().drop(columns=['Date'])\n",
    "predicting_df"
   ]
  },
  {
   "cell_type": "code",
   "execution_count": 116,
   "id": "a15cf40a-692a-4322-9810-8190022b172d",
   "metadata": {},
   "outputs": [],
   "source": [
    "# load our models from pickled files for scaled data\n",
    "pickled_model = pickle.load(open('./models/pickeled_model.pkl', 'rb'))"
   ]
  },
  {
   "cell_type": "code",
   "execution_count": 117,
   "id": "5cd2cfcb-aba2-466c-b3f7-e9190d6bc11e",
   "metadata": {},
   "outputs": [
    {
     "data": {
      "text/html": [
       "<div>\n",
       "<style scoped>\n",
       "    .dataframe tbody tr th:only-of-type {\n",
       "        vertical-align: middle;\n",
       "    }\n",
       "\n",
       "    .dataframe tbody tr th {\n",
       "        vertical-align: top;\n",
       "    }\n",
       "\n",
       "    .dataframe thead th {\n",
       "        text-align: right;\n",
       "    }\n",
       "</style>\n",
       "<table border=\"1\" class=\"dataframe\">\n",
       "  <thead>\n",
       "    <tr style=\"text-align: right;\">\n",
       "      <th></th>\n",
       "      <th>Month</th>\n",
       "      <th>Year</th>\n",
       "    </tr>\n",
       "  </thead>\n",
       "  <tbody>\n",
       "    <tr>\n",
       "      <th>0</th>\n",
       "      <td>9</td>\n",
       "      <td>1992</td>\n",
       "    </tr>\n",
       "    <tr>\n",
       "      <th>1</th>\n",
       "      <td>10</td>\n",
       "      <td>1992</td>\n",
       "    </tr>\n",
       "    <tr>\n",
       "      <th>2</th>\n",
       "      <td>11</td>\n",
       "      <td>1992</td>\n",
       "    </tr>\n",
       "    <tr>\n",
       "      <th>3</th>\n",
       "      <td>12</td>\n",
       "      <td>1992</td>\n",
       "    </tr>\n",
       "    <tr>\n",
       "      <th>4</th>\n",
       "      <td>1</td>\n",
       "      <td>1993</td>\n",
       "    </tr>\n",
       "    <tr>\n",
       "      <th>...</th>\n",
       "      <td>...</td>\n",
       "      <td>...</td>\n",
       "    </tr>\n",
       "    <tr>\n",
       "      <th>476</th>\n",
       "      <td>5</td>\n",
       "      <td>2032</td>\n",
       "    </tr>\n",
       "    <tr>\n",
       "      <th>477</th>\n",
       "      <td>6</td>\n",
       "      <td>2032</td>\n",
       "    </tr>\n",
       "    <tr>\n",
       "      <th>478</th>\n",
       "      <td>7</td>\n",
       "      <td>2032</td>\n",
       "    </tr>\n",
       "    <tr>\n",
       "      <th>479</th>\n",
       "      <td>8</td>\n",
       "      <td>2032</td>\n",
       "    </tr>\n",
       "    <tr>\n",
       "      <th>480</th>\n",
       "      <td>9</td>\n",
       "      <td>2032</td>\n",
       "    </tr>\n",
       "  </tbody>\n",
       "</table>\n",
       "<p>481 rows × 2 columns</p>\n",
       "</div>"
      ],
      "text/plain": [
       "     Month  Year\n",
       "0        9  1992\n",
       "1       10  1992\n",
       "2       11  1992\n",
       "3       12  1992\n",
       "4        1  1993\n",
       "..     ...   ...\n",
       "476      5  2032\n",
       "477      6  2032\n",
       "478      7  2032\n",
       "479      8  2032\n",
       "480      9  2032\n",
       "\n",
       "[481 rows x 2 columns]"
      ]
     },
     "execution_count": 117,
     "metadata": {},
     "output_type": "execute_result"
    }
   ],
   "source": [
    "# Create X features then scale the data\n",
    "X_future = predicting_df\n",
    "X_future"
   ]
  },
  {
   "cell_type": "code",
   "execution_count": 118,
   "id": "56061df3-e71d-47ad-8554-c12e0965053e",
   "metadata": {},
   "outputs": [
    {
     "data": {
      "text/plain": [
       "array([[ 0.70826165, -1.96756134],\n",
       "       [ 0.99631064, -1.96756134],\n",
       "       [ 1.28435964, -1.96756134],\n",
       "       [ 1.57240864, -1.96756134],\n",
       "       [-1.59613032, -1.84370843],\n",
       "       [-1.30808132, -1.84370843],\n",
       "       [-1.02003233, -1.84370843],\n",
       "       [-0.73198333, -1.84370843],\n",
       "       [-0.44393433, -1.84370843],\n",
       "       [-0.15588534, -1.84370843]])"
      ]
     },
     "execution_count": 118,
     "metadata": {},
     "output_type": "execute_result"
    }
   ],
   "source": [
    "# Scale the X future date\n",
    "X_future_scaled = X_scaler.transform(X_future)\n",
    "X_future_scaled[:10]"
   ]
  },
  {
   "cell_type": "code",
   "execution_count": 119,
   "id": "c9ec1db6-72a9-447e-96b4-7d56568e4c96",
   "metadata": {},
   "outputs": [
    {
     "data": {
      "text/plain": [
       "array([1.2246354, 1.1990901, 1.1399384, 1.1323035, 1.2086565, 1.2099007,\n",
       "       1.209633 , 1.2082839, 1.2793741, 1.3068103], dtype=float32)"
      ]
     },
     "execution_count": 119,
     "metadata": {},
     "output_type": "execute_result"
    }
   ],
   "source": [
    "# predict for the future and past\n",
    "future_pred = pickled_model.predict(X_future_scaled)\n",
    "future_pred[:10]"
   ]
  },
  {
   "cell_type": "code",
   "execution_count": 120,
   "id": "4735376f-78cb-451b-87bc-0f120a861e55",
   "metadata": {},
   "outputs": [],
   "source": [
    "# turn predictions to data frame\n",
    "future_pred_df = pd.DataFrame(future_pred)\n",
    "future_pred_df = future_pred_df.rename(columns={0:'Predicted Chicken Price'})"
   ]
  },
  {
   "cell_type": "code",
   "execution_count": 121,
   "id": "80771b3c-4dc4-46c5-8cd7-fe1618f43813",
   "metadata": {},
   "outputs": [
    {
     "data": {
      "text/html": [
       "<div>\n",
       "<style scoped>\n",
       "    .dataframe tbody tr th:only-of-type {\n",
       "        vertical-align: middle;\n",
       "    }\n",
       "\n",
       "    .dataframe tbody tr th {\n",
       "        vertical-align: top;\n",
       "    }\n",
       "\n",
       "    .dataframe thead th {\n",
       "        text-align: right;\n",
       "    }\n",
       "</style>\n",
       "<table border=\"1\" class=\"dataframe\">\n",
       "  <thead>\n",
       "    <tr style=\"text-align: right;\">\n",
       "      <th></th>\n",
       "      <th>Predicted Chicken Price</th>\n",
       "    </tr>\n",
       "    <tr>\n",
       "      <th>Date</th>\n",
       "      <th></th>\n",
       "    </tr>\n",
       "  </thead>\n",
       "  <tbody>\n",
       "    <tr>\n",
       "      <th>1992-09-01</th>\n",
       "      <td>1.224635</td>\n",
       "    </tr>\n",
       "    <tr>\n",
       "      <th>1992-10-01</th>\n",
       "      <td>1.199090</td>\n",
       "    </tr>\n",
       "    <tr>\n",
       "      <th>1992-11-01</th>\n",
       "      <td>1.139938</td>\n",
       "    </tr>\n",
       "    <tr>\n",
       "      <th>1992-12-01</th>\n",
       "      <td>1.132303</td>\n",
       "    </tr>\n",
       "    <tr>\n",
       "      <th>1993-01-01</th>\n",
       "      <td>1.208657</td>\n",
       "    </tr>\n",
       "    <tr>\n",
       "      <th>...</th>\n",
       "      <td>...</td>\n",
       "    </tr>\n",
       "    <tr>\n",
       "      <th>2032-05-01</th>\n",
       "      <td>3.697761</td>\n",
       "    </tr>\n",
       "    <tr>\n",
       "      <th>2032-06-01</th>\n",
       "      <td>3.706081</td>\n",
       "    </tr>\n",
       "    <tr>\n",
       "      <th>2032-07-01</th>\n",
       "      <td>3.326229</td>\n",
       "    </tr>\n",
       "    <tr>\n",
       "      <th>2032-08-01</th>\n",
       "      <td>3.319972</td>\n",
       "    </tr>\n",
       "    <tr>\n",
       "      <th>2032-09-01</th>\n",
       "      <td>3.344837</td>\n",
       "    </tr>\n",
       "  </tbody>\n",
       "</table>\n",
       "<p>481 rows × 1 columns</p>\n",
       "</div>"
      ],
      "text/plain": [
       "            Predicted Chicken Price\n",
       "Date                               \n",
       "1992-09-01                 1.224635\n",
       "1992-10-01                 1.199090\n",
       "1992-11-01                 1.139938\n",
       "1992-12-01                 1.132303\n",
       "1993-01-01                 1.208657\n",
       "...                             ...\n",
       "2032-05-01                 3.697761\n",
       "2032-06-01                 3.706081\n",
       "2032-07-01                 3.326229\n",
       "2032-08-01                 3.319972\n",
       "2032-09-01                 3.344837\n",
       "\n",
       "[481 rows x 1 columns]"
      ]
     },
     "execution_count": 121,
     "metadata": {},
     "output_type": "execute_result"
    }
   ],
   "source": [
    "# review future pred df\n",
    "future_pred_df = future_pred_df.set_index(full_future_df.index)\n",
    "future_pred_df"
   ]
  },
  {
   "cell_type": "code",
   "execution_count": 122,
   "id": "0806be03-a994-4b6b-8746-b9f5ca9c74bf",
   "metadata": {},
   "outputs": [
    {
     "data": {},
     "metadata": {},
     "output_type": "display_data"
    },
    {
     "data": {
      "application/vnd.holoviews_exec.v0+json": "",
      "text/html": [
       "<div id='3497'>\n",
       "  <div class=\"bk-root\" id=\"e9db4018-2f1d-4a73-bbde-3d334e928d22\" data-root-id=\"3497\"></div>\n",
       "</div>\n",
       "<script type=\"application/javascript\">(function(root) {\n",
       "  function embed_document(root) {\n",
       "    var docs_json = {\"eeaf3076-5219-4077-825d-3fe6e601a4ef\":{\"defs\":[{\"extends\":null,\"module\":null,\"name\":\"ReactiveHTML1\",\"overrides\":[],\"properties\":[]},{\"extends\":null,\"module\":null,\"name\":\"FlexBox1\",\"overrides\":[],\"properties\":[{\"default\":\"flex-start\",\"kind\":null,\"name\":\"align_content\"},{\"default\":\"flex-start\",\"kind\":null,\"name\":\"align_items\"},{\"default\":\"row\",\"kind\":null,\"name\":\"flex_direction\"},{\"default\":\"wrap\",\"kind\":null,\"name\":\"flex_wrap\"},{\"default\":\"flex-start\",\"kind\":null,\"name\":\"justify_content\"}]},{\"extends\":null,\"module\":null,\"name\":\"GridStack1\",\"overrides\":[],\"properties\":[{\"default\":\"warn\",\"kind\":null,\"name\":\"mode\"},{\"default\":null,\"kind\":null,\"name\":\"ncols\"},{\"default\":null,\"kind\":null,\"name\":\"nrows\"},{\"default\":true,\"kind\":null,\"name\":\"allow_resize\"},{\"default\":true,\"kind\":null,\"name\":\"allow_drag\"},{\"default\":[],\"kind\":null,\"name\":\"state\"}]},{\"extends\":null,\"module\":null,\"name\":\"click1\",\"overrides\":[],\"properties\":[{\"default\":\"\",\"kind\":null,\"name\":\"terminal_output\"},{\"default\":\"\",\"kind\":null,\"name\":\"debug_name\"},{\"default\":0,\"kind\":null,\"name\":\"clears\"}]},{\"extends\":null,\"module\":null,\"name\":\"NotificationAreaBase1\",\"overrides\":[],\"properties\":[{\"default\":\"bottom-right\",\"kind\":null,\"name\":\"position\"},{\"default\":0,\"kind\":null,\"name\":\"_clear\"}]},{\"extends\":null,\"module\":null,\"name\":\"NotificationArea1\",\"overrides\":[],\"properties\":[{\"default\":[],\"kind\":null,\"name\":\"notifications\"},{\"default\":\"bottom-right\",\"kind\":null,\"name\":\"position\"},{\"default\":0,\"kind\":null,\"name\":\"_clear\"},{\"default\":[{\"background\":\"#ffc107\",\"icon\":{\"className\":\"fas fa-exclamation-triangle\",\"color\":\"white\",\"tagName\":\"i\"},\"type\":\"warning\"},{\"background\":\"#007bff\",\"icon\":{\"className\":\"fas fa-info-circle\",\"color\":\"white\",\"tagName\":\"i\"},\"type\":\"info\"}],\"kind\":null,\"name\":\"types\"}]},{\"extends\":null,\"module\":null,\"name\":\"Notification\",\"overrides\":[],\"properties\":[{\"default\":null,\"kind\":null,\"name\":\"background\"},{\"default\":3000,\"kind\":null,\"name\":\"duration\"},{\"default\":null,\"kind\":null,\"name\":\"icon\"},{\"default\":\"\",\"kind\":null,\"name\":\"message\"},{\"default\":null,\"kind\":null,\"name\":\"notification_type\"},{\"default\":false,\"kind\":null,\"name\":\"_destroyed\"}]},{\"extends\":null,\"module\":null,\"name\":\"TemplateActions1\",\"overrides\":[],\"properties\":[{\"default\":0,\"kind\":null,\"name\":\"open_modal\"},{\"default\":0,\"kind\":null,\"name\":\"close_modal\"}]},{\"extends\":null,\"module\":null,\"name\":\"MaterialTemplateActions1\",\"overrides\":[],\"properties\":[{\"default\":0,\"kind\":null,\"name\":\"open_modal\"},{\"default\":0,\"kind\":null,\"name\":\"close_modal\"}]}],\"roots\":{\"references\":[{\"attributes\":{},\"id\":\"3509\",\"type\":\"LinearScale\"},{\"attributes\":{\"axis_label\":\"Predicted Chicken Price\",\"coordinates\":null,\"formatter\":{\"id\":\"3545\"},\"group\":null,\"major_label_policy\":{\"id\":\"3546\"},\"ticker\":{\"id\":\"3516\"}},\"id\":\"3515\",\"type\":\"LinearAxis\"},{\"attributes\":{\"axis\":{\"id\":\"3511\"},\"coordinates\":null,\"grid_line_color\":null,\"group\":null,\"ticker\":null},\"id\":\"3514\",\"type\":\"Grid\"},{\"attributes\":{\"months\":[0,1,2,3,4,5,6,7,8,9,10,11]},\"id\":\"3564\",\"type\":\"MonthsTicker\"},{\"attributes\":{},\"id\":\"3546\",\"type\":\"AllLabels\"},{\"attributes\":{\"days\":[1,8,15,22]},\"id\":\"3562\",\"type\":\"DaysTicker\"},{\"attributes\":{\"callback\":null,\"formatters\":{\"@{Date}\":\"datetime\"},\"renderers\":[{\"id\":\"3538\"}],\"tags\":[\"hv_created\"],\"tooltips\":[[\"Date\",\"@{Date}{%F %T}\"],[\"Predicted Chicken Price\",\"@{Predicted_Chicken_Price}\"]]},\"id\":\"3501\",\"type\":\"HoverTool\"},{\"attributes\":{\"days\":[1,15]},\"id\":\"3563\",\"type\":\"DaysTicker\"},{\"attributes\":{\"axis\":{\"id\":\"3515\"},\"coordinates\":null,\"dimension\":1,\"grid_line_color\":null,\"group\":null,\"ticker\":null},\"id\":\"3518\",\"type\":\"Grid\"},{\"attributes\":{\"line_color\":\"#30a2da\",\"line_width\":2,\"x\":{\"field\":\"Date\"},\"y\":{\"field\":\"Predicted Chicken Price\"}},\"id\":\"3535\",\"type\":\"Line\"},{\"attributes\":{},\"id\":\"3543\",\"type\":\"AllLabels\"},{\"attributes\":{\"coordinates\":null,\"data_source\":{\"id\":\"3532\"},\"glyph\":{\"id\":\"3535\"},\"group\":null,\"hover_glyph\":null,\"muted_glyph\":{\"id\":\"3537\"},\"nonselection_glyph\":{\"id\":\"3536\"},\"selection_glyph\":{\"id\":\"3540\"},\"view\":{\"id\":\"3539\"}},\"id\":\"3538\",\"type\":\"GlyphRenderer\"},{\"attributes\":{\"months\":[0,2,4,6,8,10]},\"id\":\"3565\",\"type\":\"MonthsTicker\"},{\"attributes\":{\"months\":[0,4,8]},\"id\":\"3566\",\"type\":\"MonthsTicker\"},{\"attributes\":{},\"id\":\"3533\",\"type\":\"Selection\"},{\"attributes\":{\"below\":[{\"id\":\"3511\"}],\"center\":[{\"id\":\"3514\"},{\"id\":\"3518\"}],\"height\":300,\"left\":[{\"id\":\"3515\"}],\"margin\":[5,5,5,5],\"min_border_bottom\":10,\"min_border_left\":10,\"min_border_right\":10,\"min_border_top\":10,\"renderers\":[{\"id\":\"3538\"}],\"sizing_mode\":\"fixed\",\"title\":{\"id\":\"3503\"},\"toolbar\":{\"id\":\"3525\"},\"width\":700,\"x_range\":{\"id\":\"3499\"},\"x_scale\":{\"id\":\"3507\"},\"y_range\":{\"id\":\"3500\"},\"y_scale\":{\"id\":\"3509\"}},\"id\":\"3502\",\"subtype\":\"Figure\",\"type\":\"Plot\"},{\"attributes\":{\"line_alpha\":0.2,\"line_color\":\"#30a2da\",\"line_width\":2,\"x\":{\"field\":\"Date\"},\"y\":{\"field\":\"Predicted Chicken Price\"}},\"id\":\"3537\",\"type\":\"Line\"},{\"attributes\":{\"children\":[{\"id\":\"3498\"},{\"id\":\"3502\"},{\"id\":\"3569\"}],\"margin\":[0,0,0,0],\"name\":\"Row02459\",\"tags\":[\"embedded\"]},\"id\":\"3497\",\"type\":\"Row\"},{\"attributes\":{},\"id\":\"3542\",\"type\":\"DatetimeTickFormatter\"},{\"attributes\":{\"base\":60,\"mantissas\":[1,2,5,10,15,20,30],\"max_interval\":1800000.0,\"min_interval\":1000.0,\"num_minor_ticks\":0},\"id\":\"3558\",\"type\":\"AdaptiveTicker\"},{\"attributes\":{\"months\":[0,6]},\"id\":\"3567\",\"type\":\"MonthsTicker\"},{\"attributes\":{\"end\":1977609600000.0,\"reset_end\":1977609600000.0,\"reset_start\":715305600000.0,\"start\":715305600000.0,\"tags\":[[[\"Date\",\"Date\",null]]]},\"id\":\"3499\",\"type\":\"Range1d\"},{\"attributes\":{\"source\":{\"id\":\"3532\"}},\"id\":\"3539\",\"type\":\"CDSView\"},{\"attributes\":{},\"id\":\"3519\",\"type\":\"SaveTool\"},{\"attributes\":{},\"id\":\"3520\",\"type\":\"PanTool\"},{\"attributes\":{\"mantissas\":[1,2,5],\"max_interval\":500.0,\"num_minor_ticks\":0},\"id\":\"3557\",\"type\":\"AdaptiveTicker\"},{\"attributes\":{},\"id\":\"3523\",\"type\":\"ResetTool\"},{\"attributes\":{\"line_alpha\":0.1,\"line_color\":\"#30a2da\",\"line_width\":2,\"x\":{\"field\":\"Date\"},\"y\":{\"field\":\"Predicted Chicken Price\"}},\"id\":\"3536\",\"type\":\"Line\"},{\"attributes\":{},\"id\":\"3521\",\"type\":\"WheelZoomTool\"},{\"attributes\":{},\"id\":\"3568\",\"type\":\"YearsTicker\"},{\"attributes\":{\"margin\":[5,5,5,5],\"name\":\"HSpacer02463\",\"sizing_mode\":\"stretch_width\"},\"id\":\"3498\",\"type\":\"Spacer\"},{\"attributes\":{\"margin\":[5,5,5,5],\"name\":\"HSpacer02464\",\"sizing_mode\":\"stretch_width\"},\"id\":\"3569\",\"type\":\"Spacer\"},{\"attributes\":{},\"id\":\"3545\",\"type\":\"BasicTickFormatter\"},{\"attributes\":{\"line_color\":\"#30a2da\",\"line_width\":2,\"x\":{\"field\":\"Date\"},\"y\":{\"field\":\"Predicted Chicken Price\"}},\"id\":\"3540\",\"type\":\"Line\"},{\"attributes\":{\"overlay\":{\"id\":\"3524\"}},\"id\":\"3522\",\"type\":\"BoxZoomTool\"},{\"attributes\":{\"data\":{\"Date\":{\"__ndarray__\":\"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\",\"dtype\":\"float64\",\"order\":\"little\",\"shape\":[481]},\"Predicted Chicken Price\":{\"__ndarray__\":\"2sCcP8l7mT+A6ZE/Uu+QP0K1mj8H3po/QdWaPwypmj+IwqM/j0WnP67Uoz8vop0/2sCcP8l7mT+A6ZE/Uu+QP0K1mj8H3po/QdWaPwypmj+IwqM/j0WnP67Uoz8vop0/2sCcP8l7mT+A6ZE/Uu+QP2m9kD/l0JE/H8iRP+qbkT+BbJI/F7yYP6CCpD9NjKc/lH6oP4Q5pT+1ZqU/pw2lP5ABpT9H/p8/P6qcPxzEnj8eUKo/msa2P7oluj+CPrk/TKK8PzRcuT+WnLk/kd23P6WItT9DZ7A/4PGtPzPkrD/BM6s/UF+sPxYtrT+PPrA/YKixPx6TqD/t4KE/nfedP8g/nD/J5J0/7hegP0Vroj/unKY/dWWwPyiovT9iK8A/KufHP0l1wj/Gbb0/3Ta3P6fUsT+Craw/0rSpP1XEpj+4Oqc/1M6rP4y+qz9eVKo/IamrP/f/qT/XNqY/6galP2rnoz/Ll6I/B1KhPy7poD9KYqM/IFWoP/LoqT91wao/cxWuP+iarT8c3a0/DGutPxmCrT9Kc64/mnmvP0g4rz9ep7E/XtSzP845tj+PJ7k/psa7P/oCuT+JJ7g/aya1P6xTqz/4DK8/nkiwPyvqrz+0qLI/PhC0Pwu7tT+yd7Q/0dC0P6I6sj+dQLE//K+uPzYwrz8AZrM/04y0P1m9sz//CbY/0k+6P82xvj+J6sA/ucbDP6c/wT/qhcE/PNbBP9cfxD9XC80/5yjOP42Fzj+MRdo/+DHgP7Zt3j9Qfdo/AjvcP2Bn1z/PMdM/CSjOP8AFzz9tq9A/m5LQP/3vzz+/z80/+mLSP8EJ0z9HNdM/ju/UPxqE0T9pRM0/TfDIPxMixT8C1sM/127BPzlLvz+WgL8/xSTDPytQxT8ipMU/R63HPyTwxD/ljsI/CovDP/8AyT/8stA/tdnWP3/c2z+RF+A/yCXjP8lk5D/MbeQ/nbLlP2yb4D/L9No/F2rZP+rZ2T/IgeA/9tLkP7Pt5z8Rluw/R37yP5ki+T/rPvk/2a75Pwju9j9bXfU/AEX1PxVw9T9TIe8/T6bxP2ZW8T/9f/U/wMH3P116+D9kkPQ/9B3xPxtN6j/MkOc/UO3nP+AN7z9TYes/4SzuP7co8D8h/vM/lVP2P48W+D/yCPg/mq72P8VF8j8CpfA/I6zwP/xI7z/fH+4/uhTzP2q+8j/CYvQ/UrL1P35++D+btPg/IfT6Pxee+j9CRvw/jZn9P85U/z8vbgBAECcDQJgjBEBVeARAZxwFQEj9BUAL3gRAgZYGQKg0B0D9TAhACT8JQDDgDUAfUQxAHjgTQH6yEkCuzBlAuYsZQBiXD0CjZgJAKsn+P2sXAkArMANAInIEQKXTA0AtlAFA88gWQLyhGEAxiyNA0iIjQGonHECYKxJAPvoTQN0oFkCFMw1AN2gOQE6TA0BPyAFAuK4HQL+jCkDG2RVAB5gSQOptBEB3z+g/0qHXP+Zuzj9mEdA/iGnePwh97D93V+M/78nsP4H79T9b1wRAGtkIQMlt+z+8l+Q/KgHUP6v2zD8SN+A/rp/tP9Tn+D9U0Pc/yU4IQIEwCUBs1xRA4P4bQNzrFUCyaQxARaYGQOMc/T8Th/s/tLL8P9sh/z/hZP0/1dwHQKUuDUANVCVA+tgtQNM/F0BzWQhALCYCQGDaAUBE6QFA5ZoFQIySCUCDxwVAhJ4EQPNcBUCgzANAHI4EQP1X/z/04fI/JBTtP2bY7D9DBO0/JXj9PzI1BECGkvA/+LbjP3v7oz83W8c/mZrIPxJAxD9DP8I/tU+8P3AYwD9dy9g/RgroP3jz5z+BAwxAzgkPQLCEEEBVsBdAkFQYQJNsGECSNxhAxikYQP48GEDZ8RVAtD8vQDxIOEBKflVAj9RVQOvbakAdqGxAbTBtQPHgVEBtelRAzhFWQAclVkBPsFRAIZRdQDxIOEBKflVAj9RVQOvbakAdqGxAbTBtQPHgVEBtelRAzhFWQAclVkBPsFRAIZRdQDxIOEBKflVAj9RVQOvbakAdqGxAbTBtQPHgVEBtelRAzhFWQAclVkBPsFRAIZRdQDxIOEBKflVAj9RVQOvbakAdqGxAbTBtQPHgVEBtelRAzhFWQAclVkBPsFRAIZRdQDxIOEBKflVAj9RVQOvbakAdqGxAbTBtQPHgVEBtelRAzhFWQAclVkBPsFRAIZRdQDxIOEBKflVAj9RVQOvbakAdqGxAbTBtQPHgVEBtelRAzhFWQAclVkBPsFRAIZRdQDxIOEBKflVAj9RVQOvbakAdqGxAbTBtQPHgVEBtelRAzhFWQAclVkBPsFRAIZRdQDxIOEBKflVAj9RVQOvbakAdqGxAbTBtQPHgVEBtelRAzhFWQAclVkBPsFRAIZRdQDxIOEBKflVAj9RVQOvbakAdqGxAbTBtQPHgVEBtelRAzhFWQAclVkBPsFRAIZRdQDxIOEBKflVAj9RVQOvbakAdqGxAbTBtQPHgVEBtelRAzhFWQAclVkBPsFRAIZRdQDxIOEBKflVAj9RVQOvbakAdqGxAbTBtQPHgVEBtelRAzhFWQA==\",\"dtype\":\"float32\",\"order\":\"little\",\"shape\":[481]},\"Predicted_Chicken_Price\":{\"__ndarray__\":\"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\",\"dtype\":\"float32\",\"order\":\"little\",\"shape\":[481]}},\"selected\":{\"id\":\"3533\"},\"selection_policy\":{\"id\":\"3554\"}},\"id\":\"3532\",\"type\":\"ColumnDataSource\"},{\"attributes\":{},\"id\":\"3507\",\"type\":\"LinearScale\"},{\"attributes\":{\"coordinates\":null,\"group\":null,\"text\":\"Predicted Chicken Prices\",\"text_color\":\"black\",\"text_font_size\":\"12pt\"},\"id\":\"3503\",\"type\":\"Title\"},{\"attributes\":{},\"id\":\"3554\",\"type\":\"UnionRenderers\"},{\"attributes\":{\"days\":[1,2,3,4,5,6,7,8,9,10,11,12,13,14,15,16,17,18,19,20,21,22,23,24,25,26,27,28,29,30,31]},\"id\":\"3560\",\"type\":\"DaysTicker\"},{\"attributes\":{\"end\":3.9636107087135315,\"reset_end\":3.9636107087135315,\"reset_start\":0.8732503056526184,\"start\":0.8732503056526184,\"tags\":[[[\"Predicted Chicken Price\",\"Predicted Chicken Price\",null]]]},\"id\":\"3500\",\"type\":\"Range1d\"},{\"attributes\":{\"axis_label\":\"Date\",\"coordinates\":null,\"formatter\":{\"id\":\"3542\"},\"group\":null,\"major_label_policy\":{\"id\":\"3543\"},\"ticker\":{\"id\":\"3512\"}},\"id\":\"3511\",\"type\":\"DatetimeAxis\"},{\"attributes\":{},\"id\":\"3516\",\"type\":\"BasicTicker\"},{\"attributes\":{\"bottom_units\":\"screen\",\"coordinates\":null,\"fill_alpha\":0.5,\"fill_color\":\"lightgrey\",\"group\":null,\"left_units\":\"screen\",\"level\":\"overlay\",\"line_alpha\":1.0,\"line_color\":\"black\",\"line_dash\":[4,4],\"line_width\":2,\"right_units\":\"screen\",\"syncable\":false,\"top_units\":\"screen\"},\"id\":\"3524\",\"type\":\"BoxAnnotation\"},{\"attributes\":{\"days\":[1,4,7,10,13,16,19,22,25,28]},\"id\":\"3561\",\"type\":\"DaysTicker\"},{\"attributes\":{\"num_minor_ticks\":5,\"tickers\":[{\"id\":\"3557\"},{\"id\":\"3558\"},{\"id\":\"3559\"},{\"id\":\"3560\"},{\"id\":\"3561\"},{\"id\":\"3562\"},{\"id\":\"3563\"},{\"id\":\"3564\"},{\"id\":\"3565\"},{\"id\":\"3566\"},{\"id\":\"3567\"},{\"id\":\"3568\"}]},\"id\":\"3512\",\"type\":\"DatetimeTicker\"},{\"attributes\":{\"base\":24,\"mantissas\":[1,2,4,6,8,12],\"max_interval\":43200000.0,\"min_interval\":3600000.0,\"num_minor_ticks\":0},\"id\":\"3559\",\"type\":\"AdaptiveTicker\"},{\"attributes\":{\"tools\":[{\"id\":\"3501\"},{\"id\":\"3519\"},{\"id\":\"3520\"},{\"id\":\"3521\"},{\"id\":\"3522\"},{\"id\":\"3523\"}]},\"id\":\"3525\",\"type\":\"Toolbar\"}],\"root_ids\":[\"3497\"]},\"title\":\"Bokeh Application\",\"version\":\"2.4.3\"}};\n",
       "    var render_items = [{\"docid\":\"eeaf3076-5219-4077-825d-3fe6e601a4ef\",\"root_ids\":[\"3497\"],\"roots\":{\"3497\":\"e9db4018-2f1d-4a73-bbde-3d334e928d22\"}}];\n",
       "    root.Bokeh.embed.embed_items_notebook(docs_json, render_items);\n",
       "  }\n",
       "  if (root.Bokeh !== undefined && root.Bokeh.Panel !== undefined) {\n",
       "    embed_document(root);\n",
       "  } else {\n",
       "    var attempts = 0;\n",
       "    var timer = setInterval(function(root) {\n",
       "      if (root.Bokeh !== undefined && root.Bokeh.Panel !== undefined) {\n",
       "        clearInterval(timer);\n",
       "        embed_document(root);\n",
       "      } else if (document.readyState == \"complete\") {\n",
       "        attempts++;\n",
       "        if (attempts > 200) {\n",
       "          clearInterval(timer);\n",
       "          console.log(\"Bokeh: ERROR: Unable to run BokehJS code because BokehJS library is missing\");\n",
       "        }\n",
       "      }\n",
       "    }, 25, root)\n",
       "  }\n",
       "})(window);</script>"
      ],
      "text/plain": [
       ":Curve   [Date]   (Predicted Chicken Price)"
      ]
     },
     "execution_count": 122,
     "metadata": {
      "application/vnd.holoviews_exec.v0+json": {
       "id": "3497"
      }
     },
     "output_type": "execute_result"
    }
   ],
   "source": [
    "# Plot Predicted Data \n",
    "future_chicken_plot = future_pred_df.hvplot(label='Predicted Chicken Prices',\n",
    "                     shared_axes=True)\n",
    "future_chicken_plot"
   ]
  },
  {
   "cell_type": "code",
   "execution_count": 123,
   "id": "4665b46e-ea6c-402c-b404-490e61d6d0c1",
   "metadata": {},
   "outputs": [
    {
     "data": {},
     "metadata": {},
     "output_type": "display_data"
    },
    {
     "data": {
      "application/vnd.holoviews_exec.v0+json": "",
      "text/html": [
       "<div id='3681'>\n",
       "  <div class=\"bk-root\" id=\"9f35eeab-63a5-4ad3-95d5-38176ddf79de\" data-root-id=\"3681\"></div>\n",
       "</div>\n",
       "<script type=\"application/javascript\">(function(root) {\n",
       "  function embed_document(root) {\n",
       "    var docs_json = {\"d3d34285-d91f-4201-b828-042ec3b1e7a4\":{\"defs\":[{\"extends\":null,\"module\":null,\"name\":\"ReactiveHTML1\",\"overrides\":[],\"properties\":[]},{\"extends\":null,\"module\":null,\"name\":\"FlexBox1\",\"overrides\":[],\"properties\":[{\"default\":\"flex-start\",\"kind\":null,\"name\":\"align_content\"},{\"default\":\"flex-start\",\"kind\":null,\"name\":\"align_items\"},{\"default\":\"row\",\"kind\":null,\"name\":\"flex_direction\"},{\"default\":\"wrap\",\"kind\":null,\"name\":\"flex_wrap\"},{\"default\":\"flex-start\",\"kind\":null,\"name\":\"justify_content\"}]},{\"extends\":null,\"module\":null,\"name\":\"GridStack1\",\"overrides\":[],\"properties\":[{\"default\":\"warn\",\"kind\":null,\"name\":\"mode\"},{\"default\":null,\"kind\":null,\"name\":\"ncols\"},{\"default\":null,\"kind\":null,\"name\":\"nrows\"},{\"default\":true,\"kind\":null,\"name\":\"allow_resize\"},{\"default\":true,\"kind\":null,\"name\":\"allow_drag\"},{\"default\":[],\"kind\":null,\"name\":\"state\"}]},{\"extends\":null,\"module\":null,\"name\":\"click1\",\"overrides\":[],\"properties\":[{\"default\":\"\",\"kind\":null,\"name\":\"terminal_output\"},{\"default\":\"\",\"kind\":null,\"name\":\"debug_name\"},{\"default\":0,\"kind\":null,\"name\":\"clears\"}]},{\"extends\":null,\"module\":null,\"name\":\"NotificationAreaBase1\",\"overrides\":[],\"properties\":[{\"default\":\"bottom-right\",\"kind\":null,\"name\":\"position\"},{\"default\":0,\"kind\":null,\"name\":\"_clear\"}]},{\"extends\":null,\"module\":null,\"name\":\"NotificationArea1\",\"overrides\":[],\"properties\":[{\"default\":[],\"kind\":null,\"name\":\"notifications\"},{\"default\":\"bottom-right\",\"kind\":null,\"name\":\"position\"},{\"default\":0,\"kind\":null,\"name\":\"_clear\"},{\"default\":[{\"background\":\"#ffc107\",\"icon\":{\"className\":\"fas fa-exclamation-triangle\",\"color\":\"white\",\"tagName\":\"i\"},\"type\":\"warning\"},{\"background\":\"#007bff\",\"icon\":{\"className\":\"fas fa-info-circle\",\"color\":\"white\",\"tagName\":\"i\"},\"type\":\"info\"}],\"kind\":null,\"name\":\"types\"}]},{\"extends\":null,\"module\":null,\"name\":\"Notification\",\"overrides\":[],\"properties\":[{\"default\":null,\"kind\":null,\"name\":\"background\"},{\"default\":3000,\"kind\":null,\"name\":\"duration\"},{\"default\":null,\"kind\":null,\"name\":\"icon\"},{\"default\":\"\",\"kind\":null,\"name\":\"message\"},{\"default\":null,\"kind\":null,\"name\":\"notification_type\"},{\"default\":false,\"kind\":null,\"name\":\"_destroyed\"}]},{\"extends\":null,\"module\":null,\"name\":\"TemplateActions1\",\"overrides\":[],\"properties\":[{\"default\":0,\"kind\":null,\"name\":\"open_modal\"},{\"default\":0,\"kind\":null,\"name\":\"close_modal\"}]},{\"extends\":null,\"module\":null,\"name\":\"MaterialTemplateActions1\",\"overrides\":[],\"properties\":[{\"default\":0,\"kind\":null,\"name\":\"open_modal\"},{\"default\":0,\"kind\":null,\"name\":\"close_modal\"}]}],\"roots\":{\"references\":[{\"attributes\":{\"line_color\":\"#30a2da\",\"line_width\":2,\"x\":{\"field\":\"Date\"},\"y\":{\"field\":\"Chicken Price\"}},\"id\":\"3727\",\"type\":\"Line\"},{\"attributes\":{\"line_color\":\"#30a2da\",\"line_width\":2,\"x\":{\"field\":\"Date\"},\"y\":{\"field\":\"Chicken Price\"}},\"id\":\"3756\",\"type\":\"Line\"},{\"attributes\":{\"base\":60,\"mantissas\":[1,2,5,10,15,20,30],\"max_interval\":1800000.0,\"min_interval\":1000.0,\"num_minor_ticks\":0},\"id\":\"3743\",\"type\":\"AdaptiveTicker\"},{\"attributes\":{\"tools\":[{\"id\":\"3685\"},{\"id\":\"3686\"},{\"id\":\"3704\"},{\"id\":\"3705\"},{\"id\":\"3706\"},{\"id\":\"3707\"},{\"id\":\"3708\"}]},\"id\":\"3710\",\"type\":\"Toolbar\"},{\"attributes\":{\"axis_label\":\"Chicken Price\",\"coordinates\":null,\"formatter\":{\"id\":\"3722\"},\"group\":null,\"major_label_policy\":{\"id\":\"3723\"},\"ticker\":{\"id\":\"3701\"}},\"id\":\"3700\",\"type\":\"LinearAxis\"},{\"attributes\":{\"line_alpha\":0.1,\"line_color\":\"#fc4f30\",\"line_width\":2,\"x\":{\"field\":\"Date\"},\"y\":{\"field\":\"Predicted Chicken Price\"}},\"id\":\"3761\",\"type\":\"Line\"},{\"attributes\":{},\"id\":\"3701\",\"type\":\"BasicTicker\"},{\"attributes\":{\"base\":24,\"mantissas\":[1,2,4,6,8,12],\"max_interval\":43200000.0,\"min_interval\":3600000.0,\"num_minor_ticks\":0},\"id\":\"3744\",\"type\":\"AdaptiveTicker\"},{\"attributes\":{\"axis\":{\"id\":\"3696\"},\"coordinates\":null,\"grid_line_color\":null,\"group\":null,\"ticker\":null},\"id\":\"3699\",\"type\":\"Grid\"},{\"attributes\":{\"line_color\":\"#fc4f30\",\"line_width\":2,\"x\":{\"field\":\"Date\"},\"y\":{\"field\":\"Predicted Chicken Price\"}},\"id\":\"3790\",\"type\":\"Line\"},{\"attributes\":{\"end\":3.970688742637634,\"reset_end\":3.970688742637634,\"reset_start\":0.7953919324874879,\"start\":0.7953919324874879,\"tags\":[[[\"Chicken Price\",\"Chicken Price\",null]]]},\"id\":\"3684\",\"type\":\"Range1d\"},{\"attributes\":{},\"id\":\"3774\",\"type\":\"UnionRenderers\"},{\"attributes\":{\"axis\":{\"id\":\"3700\"},\"coordinates\":null,\"dimension\":1,\"grid_line_color\":null,\"group\":null,\"ticker\":null},\"id\":\"3703\",\"type\":\"Grid\"},{\"attributes\":{\"months\":[0,1,2,3,4,5,6,7,8,9,10,11]},\"id\":\"3749\",\"type\":\"MonthsTicker\"},{\"attributes\":{\"callback\":null,\"formatters\":{\"@{Date}\":\"datetime\"},\"renderers\":[{\"id\":\"3763\"}],\"tags\":[\"hv_created\"],\"tooltips\":[[\"Date\",\"@{Date}{%F %T}\"],[\"Predicted Chicken Price\",\"@{Predicted_Chicken_Price}\"]]},\"id\":\"3686\",\"type\":\"HoverTool\"},{\"attributes\":{},\"id\":\"3720\",\"type\":\"AllLabels\"},{\"attributes\":{},\"id\":\"3725\",\"type\":\"Selection\"},{\"attributes\":{\"source\":{\"id\":\"3724\"}},\"id\":\"3731\",\"type\":\"CDSView\"},{\"attributes\":{\"end\":1977609600000.0,\"reset_end\":1977609600000.0,\"reset_start\":715305600000.0,\"start\":715305600000.0,\"tags\":[[[\"Date\",\"Date\",null]]]},\"id\":\"3683\",\"type\":\"Range1d\"},{\"attributes\":{\"line_color\":\"#fc4f30\",\"line_width\":2,\"x\":{\"field\":\"Date\"},\"y\":{\"field\":\"Predicted Chicken Price\"}},\"id\":\"3760\",\"type\":\"Line\"},{\"attributes\":{\"callback\":null,\"formatters\":{\"@{Date}\":\"datetime\"},\"renderers\":[{\"id\":\"3730\"}],\"tags\":[\"hv_created\"],\"tooltips\":[[\"Date\",\"@{Date}{%F %T}\"],[\"Chicken Price\",\"@{Chicken_Price}\"]]},\"id\":\"3685\",\"type\":\"HoverTool\"},{\"attributes\":{\"months\":[0,4,8]},\"id\":\"3751\",\"type\":\"MonthsTicker\"},{\"attributes\":{\"below\":[{\"id\":\"3696\"}],\"center\":[{\"id\":\"3699\"},{\"id\":\"3703\"},{\"id\":\"3754\"}],\"height\":300,\"left\":[{\"id\":\"3700\"}],\"margin\":[5,5,5,5],\"min_border_bottom\":10,\"min_border_left\":10,\"min_border_right\":10,\"min_border_top\":10,\"renderers\":[{\"id\":\"3730\"},{\"id\":\"3763\"}],\"sizing_mode\":\"fixed\",\"title\":{\"id\":\"3688\"},\"toolbar\":{\"id\":\"3710\"},\"width\":700,\"x_range\":{\"id\":\"3683\"},\"x_scale\":{\"id\":\"3692\"},\"y_range\":{\"id\":\"3684\"},\"y_scale\":{\"id\":\"3694\"}},\"id\":\"3687\",\"subtype\":\"Figure\",\"type\":\"Plot\"},{\"attributes\":{},\"id\":\"3753\",\"type\":\"YearsTicker\"},{\"attributes\":{\"coordinates\":null,\"data_source\":{\"id\":\"3724\"},\"glyph\":{\"id\":\"3727\"},\"group\":null,\"hover_glyph\":null,\"muted_glyph\":{\"id\":\"3729\"},\"nonselection_glyph\":{\"id\":\"3728\"},\"selection_glyph\":{\"id\":\"3756\"},\"view\":{\"id\":\"3731\"}},\"id\":\"3730\",\"type\":\"GlyphRenderer\"},{\"attributes\":{\"coordinates\":null,\"data_source\":{\"id\":\"3757\"},\"glyph\":{\"id\":\"3760\"},\"group\":null,\"hover_glyph\":null,\"muted_glyph\":{\"id\":\"3762\"},\"nonselection_glyph\":{\"id\":\"3761\"},\"selection_glyph\":{\"id\":\"3790\"},\"view\":{\"id\":\"3764\"}},\"id\":\"3763\",\"type\":\"GlyphRenderer\"},{\"attributes\":{\"days\":[1,2,3,4,5,6,7,8,9,10,11,12,13,14,15,16,17,18,19,20,21,22,23,24,25,26,27,28,29,30,31]},\"id\":\"3745\",\"type\":\"DaysTicker\"},{\"attributes\":{\"days\":[1,8,15,22]},\"id\":\"3747\",\"type\":\"DaysTicker\"},{\"attributes\":{},\"id\":\"3739\",\"type\":\"UnionRenderers\"},{\"attributes\":{\"line_alpha\":0.2,\"line_color\":\"#fc4f30\",\"line_width\":2,\"x\":{\"field\":\"Date\"},\"y\":{\"field\":\"Predicted Chicken Price\"}},\"id\":\"3762\",\"type\":\"Line\"},{\"attributes\":{\"bottom_units\":\"screen\",\"coordinates\":null,\"fill_alpha\":0.5,\"fill_color\":\"lightgrey\",\"group\":null,\"left_units\":\"screen\",\"level\":\"overlay\",\"line_alpha\":1.0,\"line_color\":\"black\",\"line_dash\":[4,4],\"line_width\":2,\"right_units\":\"screen\",\"syncable\":false,\"top_units\":\"screen\"},\"id\":\"3709\",\"type\":\"BoxAnnotation\"},{\"attributes\":{\"margin\":[5,5,5,5],\"name\":\"HSpacer02491\",\"sizing_mode\":\"stretch_width\"},\"id\":\"3682\",\"type\":\"Spacer\"},{\"attributes\":{\"line_alpha\":0.1,\"line_color\":\"#30a2da\",\"line_width\":2,\"x\":{\"field\":\"Date\"},\"y\":{\"field\":\"Chicken Price\"}},\"id\":\"3728\",\"type\":\"Line\"},{\"attributes\":{},\"id\":\"3704\",\"type\":\"SaveTool\"},{\"attributes\":{},\"id\":\"3705\",\"type\":\"PanTool\"},{\"attributes\":{\"overlay\":{\"id\":\"3709\"}},\"id\":\"3707\",\"type\":\"BoxZoomTool\"},{\"attributes\":{\"line_alpha\":0.2,\"line_color\":\"#30a2da\",\"line_width\":2,\"x\":{\"field\":\"Date\"},\"y\":{\"field\":\"Chicken Price\"}},\"id\":\"3729\",\"type\":\"Line\"},{\"attributes\":{\"source\":{\"id\":\"3757\"}},\"id\":\"3764\",\"type\":\"CDSView\"},{\"attributes\":{},\"id\":\"3706\",\"type\":\"WheelZoomTool\"},{\"attributes\":{},\"id\":\"3692\",\"type\":\"LinearScale\"},{\"attributes\":{\"data\":{\"Chicken Price\":{\"__ndarray__\":\"9ihcj8L18D9xPQrXo3DxP3E9CtejcPE/w/UoXI/C8T8UrkfhehTyP2ZmZmZmZvI/4XoUrkfh8j/Xo3A9CtfzP65H4XoUrvM/AAAAAAAA9D97FK5H4Xr0P1K4HoXrUfQ/rkfhehSu8z9cj8L1KFzzP+F6FK5H4fI/j8L1KFyP8j/hehSuR+HyP4XrUbgehfM/rkfhehSu8z/NzMzMzMz0P/YoXI/C9fQ/exSuR+F69D+uR+F6FK7zP9ejcD0K1/M/MzMzMzMz8z89CtejcD3yPxSuR+F6FPI/FK5H4XoU8j8UrkfhehTyPz0K16NwPfI/FK5H4XoU8j9mZmZmZmbyPwrXo3A9CvM/16NwPQrX8z/2KFyPwvX0P3E9CtejcPU/pHA9Ctej9D8fhetRuB71P6RwPQrXo/Q/pHA9Ctej9D8AAAAAAAD0P4XrUbgehfM/16NwPQrX8z9I4XoUrkf1P+F6FK5H4fY/XI/C9Shc9z+F61G4HoX3P4XrUbgehfc/MzMzMzMz9z8zMzMzMzP3PwrXo3A9Cvc/uB6F61G49j8UrkfhehT2P8P1KFyPwvU/mpmZmZmZ9T9xPQrXo3D1P3E9CtejcPU/mpmZmZmZ9T8UrkfhehT2Pz0K16NwPfY/9ihcj8L19D9SuB6F61H0P65H4XoUrvM/hetRuB6F8z+uR+F6FK7zPwAAAAAAAPQ/UrgehetR9D/NzMzMzMz0PxSuR+F6FPY/rkfhehSu9z/2KFyPwvX4Px+F61G4Hvk/UrgehetR+D+uR+F6FK73P+F6FK5H4fY/PQrXo3A99j+amZmZmZn1P83MzMzMzPQ/UrgehetR9D/2KFyPwvX0P3E9CtejcPU/mpmZmZmZ9T9I4XoUrkf1P3E9CtejcPU/pHA9Ctej9D+kcD0K16P0P6RwPQrXo/Q/exSuR+F69D9SuB6F61H0Pylcj8L1KPQ/KVyPwvUo9D9SuB6F61H0P83MzMzMzPQ/H4XrUbge9T9I4XoUrkf1P8P1KFyPwvU/w/UoXI/C9T/D9Shcj8L1P8P1KFyPwvU/w/UoXI/C9T/D9Shcj8L1P+xRuB6F6/U/7FG4HoXr9T89CtejcD32P2ZmZmZmZvY/uB6F61G49j8zMzMzMzP3P4XrUbgehfc/MzMzMzMz9z+4HoXrUbj2Pz0K16NwPfY/PQrXo3A99j89CtejcD32PxSuR+F6FPY/FK5H4XoU9j9mZmZmZmb2P4/C9Shcj/Y/uB6F61G49j+PwvUoXI/2P4/C9Shcj/Y/PQrXo3A99j/D9Shcj8L1P8P1KFyPwvU/7FG4HoXr9T89CtejcD32P4/C9Shcj/Y/ZmZmZmZm9j+4HoXrUbj2PzMzMzMzM/c/16NwPQrX9z8pXI/C9Sj4P3sUrkfhevg/KVyPwvUo+D8pXI/C9Sj4P1K4HoXrUfg/exSuR+F6+D9I4XoUrkf5P8P1KFyPwvk/ZmZmZmZm+j8K16NwPQr7Pylcj8L1KPw/exSuR+F6/D9SuB6F61H8P4XrUbgehfs/4XoUrkfh+j9mZmZmZmb6P+xRuB6F6/k/7FG4HoXr+T8UrkfhehT6PxSuR+F6FPo/FK5H4XoU+j89CtejcD36Pz0K16NwPfo/ZmZmZmZm+j9mZmZmZmb6P4/C9Shcj/o/PQrXo3A9+j+amZmZmZn5Px+F61G4Hvk/pHA9Ctej+D97FK5H4Xr4Pylcj8L1KPg/16NwPQrX9z8AAAAAAAD4P1K4HoXrUfg/pHA9Ctej+D/NzMzMzMz4P/YoXI/C9fg/pHA9Ctej+D9SuB6F61H4P3sUrkfhevg/H4XrUbge+T8UrkfhehT6P+F6FK5H4fo/hetRuB6F+z8AAAAAAAD8P3sUrkfhevw/pHA9Ctej/D+kcD0K16P8P83MzMzMzPw/KVyPwvUo/D9cj8L1KFz7PwrXo3A9Cvs/MzMzMzMz+z/Xo3A9Ctf7P6RwPQrXo/w/9ihcj8L1/D9xPQrXo3D9Pz0K16NwPf4/MzMzMzMz/z8zMzMzMzP/PzMzMzMzM/8/4XoUrkfh/j+4HoXrUbj+P7gehetRuP4/uB6F61G4/j+PwvUoXI/+Pz0K16NwPf4/FK5H4XoU/j+4HoXrUbj+PwrXo3A9Cv8/MzMzMzMz/z+PwvUoXI/+P+xRuB6F6/0/SOF6FK5H/T/2KFyPwvX8P/YoXI/C9fw/SOF6FK5H/T9xPQrXo3D9P5qZmZmZmf0/FK5H4XoU/j+PwvUoXI/+P7gehetRuP4/CtejcD0K/z8K16NwPQr/P+F6FK5H4f4/j8L1KFyP/j8UrkfhehT+PxSuR+F6FP4/7FG4HoXr/T8UrkfhehT+P2ZmZmZmZv4/ZmZmZmZm/j+PwvUoXI/+P7gehetRuP4/4XoUrkfh/j8K16NwPQr/P1yPwvUoXP8/XI/C9Shc/z+F61G4HoX/P65H4XoUrv8/16NwPQrX/z8UrkfhehQAQGZmZmZmZgBAexSuR+F6AECPwvUoXI8AQKRwPQrXowBAuB6F61G4AEC4HoXrUbgAQOF6FK5H4QBA4XoUrkfhAEAK16NwPQoBQDMzMzMzMwFAw/UoXI/CAUCF61G4HoUBQHsUrkfhegJAUrgehetRAkAK16NwPQoDQDMzMzMzMwNAw/UoXI/CAUBSuB6F61EAQK5H4XoUrv8/XI/C9Shc/z89CtejcD0AQI/C9ShcjwBA4XoUrkfhAEApXI/C9SgAQBSuR+F6FAJACtejcD0KA0B7FK5H4XoEQGZmZmZmZgRAmpmZmZmZA0ApXI/C9SgCQOF6FK5H4QJA4XoUrkfhAkB7FK5H4XoCQMP1KFyPwgFAw/UoXI/CAUA9CtejcD0AQDMzMzMzMwFAexSuR+F6AkDNzMzMzMwCQD0K16NwPQJAj8L1KFyPAEAfhetRuB79PwrXo3A9Cvs/w/UoXI/C+T/sUbgehev5P9ejcD0K1/s/mpmZmZmZ/T9SuB6F61H8P5qZmZmZmf0/4XoUrkfh/j97FK5H4XoAQDMzMzMzMwFAXI/C9Shc/z/Xo3A9Ctf7PzMzMzMzM/s/cT0K16Nw+T8pXI/C9Sj8P8P1KFyPwv0/CtejcD0K/z8K16NwPQr/PwrXo3A9CgFASOF6FK5HAUCkcD0K16MCQHE9CtejcANAzczMzMzMAkCF61G4HoUBQOF6FK5H4QBArkfhehSu/z9cj8L1KFz/P4XrUbgehf8/j8L1KFyPAECuR+F6FK7/P5qZmZmZmQFA4XoUrkfhAkAzMzMzMzMFQMP1KFyPwgVAPQrXo3A9BEDD9Shcj8IBQD0K16NwPQBAPQrXo3A9AEA9CtejcD0AQLgehetRuABAMzMzMzMzAUC4HoXrUbgAQI/C9ShcjwBAuB6F61G4AEC4HoXrUbgAQI/C9ShcjwBA16NwPQrX/z9mZmZmZmb+P5qZmZmZmf0/mpmZmZmZ/T+amZmZmZn9P65H4XoUrv8/j8L1KFyPAEAUrkfhehT+P3sUrkfhevw/UrgehetR9D9SuB6F61H4Px+F61G4Hvk/UrgehetR+D8AAAAAAAD4P4XrUbgehfc/AAAAAAAA+D8zMzMzMzP7P/YoXI/C9fw/9ihcj8L1/D/2KFyPwvX8Pz0K16NwPf4/FK5H4XoUAkD2KFyPwvUCQArXo3A9CgNACtejcD0KA0AK16NwPQoDQArXo3A9CgNApHA9CtejAkC4HoXrUbgCQOxRuB6F6wVACtejcD0KB0CkcD0K16MGQLgehetRuApAXI/C9ShcDUCamZmZmZkNQFyPwvUoXA1AUrgehetRDECPwvUoXI8KQHsUrkfhegpA\",\"dtype\":\"float64\",\"order\":\"little\",\"shape\":[360]},\"Chicken_Price\":{\"__ndarray__\":\"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\",\"dtype\":\"float64\",\"order\":\"little\",\"shape\":[360]},\"Date\":{\"__ndarray__\":\"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\",\"dtype\":\"float64\",\"order\":\"little\",\"shape\":[360]}},\"selected\":{\"id\":\"3725\"},\"selection_policy\":{\"id\":\"3739\"}},\"id\":\"3724\",\"type\":\"ColumnDataSource\"},{\"attributes\":{},\"id\":\"3722\",\"type\":\"BasicTickFormatter\"},{\"attributes\":{},\"id\":\"3723\",\"type\":\"AllLabels\"},{\"attributes\":{\"days\":[1,15]},\"id\":\"3748\",\"type\":\"DaysTicker\"},{\"attributes\":{\"num_minor_ticks\":5,\"tickers\":[{\"id\":\"3742\"},{\"id\":\"3743\"},{\"id\":\"3744\"},{\"id\":\"3745\"},{\"id\":\"3746\"},{\"id\":\"3747\"},{\"id\":\"3748\"},{\"id\":\"3749\"},{\"id\":\"3750\"},{\"id\":\"3751\"},{\"id\":\"3752\"},{\"id\":\"3753\"}]},\"id\":\"3697\",\"type\":\"DatetimeTicker\"},{\"attributes\":{\"label\":{\"value\":\"Predicted Chicken Prices\"},\"renderers\":[{\"id\":\"3763\"}]},\"id\":\"3789\",\"type\":\"LegendItem\"},{\"attributes\":{\"coordinates\":null,\"group\":null,\"text_color\":\"black\",\"text_font_size\":\"12pt\"},\"id\":\"3688\",\"type\":\"Title\"},{\"attributes\":{\"click_policy\":\"mute\",\"coordinates\":null,\"group\":null,\"items\":[{\"id\":\"3755\"},{\"id\":\"3789\"}]},\"id\":\"3754\",\"type\":\"Legend\"},{\"attributes\":{},\"id\":\"3708\",\"type\":\"ResetTool\"},{\"attributes\":{},\"id\":\"3719\",\"type\":\"DatetimeTickFormatter\"},{\"attributes\":{\"days\":[1,4,7,10,13,16,19,22,25,28]},\"id\":\"3746\",\"type\":\"DaysTicker\"},{\"attributes\":{\"margin\":[5,5,5,5],\"name\":\"HSpacer02492\",\"sizing_mode\":\"stretch_width\"},\"id\":\"3815\",\"type\":\"Spacer\"},{\"attributes\":{\"axis_label\":\"Date\",\"coordinates\":null,\"formatter\":{\"id\":\"3719\"},\"group\":null,\"major_label_policy\":{\"id\":\"3720\"},\"ticker\":{\"id\":\"3697\"}},\"id\":\"3696\",\"type\":\"DatetimeAxis\"},{\"attributes\":{\"months\":[0,2,4,6,8,10]},\"id\":\"3750\",\"type\":\"MonthsTicker\"},{\"attributes\":{\"months\":[0,6]},\"id\":\"3752\",\"type\":\"MonthsTicker\"},{\"attributes\":{\"label\":{\"value\":\"Cost of Chicken per Pound since 1992\"},\"renderers\":[{\"id\":\"3730\"}]},\"id\":\"3755\",\"type\":\"LegendItem\"},{\"attributes\":{},\"id\":\"3758\",\"type\":\"Selection\"},{\"attributes\":{\"mantissas\":[1,2,5],\"max_interval\":500.0,\"num_minor_ticks\":0},\"id\":\"3742\",\"type\":\"AdaptiveTicker\"},{\"attributes\":{\"data\":{\"Date\":{\"__ndarray__\":\"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\",\"dtype\":\"float64\",\"order\":\"little\",\"shape\":[481]},\"Predicted Chicken Price\":{\"__ndarray__\":\"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\",\"dtype\":\"float32\",\"order\":\"little\",\"shape\":[481]},\"Predicted_Chicken_Price\":{\"__ndarray__\":\"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\",\"dtype\":\"float32\",\"order\":\"little\",\"shape\":[481]}},\"selected\":{\"id\":\"3758\"},\"selection_policy\":{\"id\":\"3774\"}},\"id\":\"3757\",\"type\":\"ColumnDataSource\"},{\"attributes\":{\"children\":[{\"id\":\"3682\"},{\"id\":\"3687\"},{\"id\":\"3815\"}],\"margin\":[0,0,0,0],\"name\":\"Row02487\",\"tags\":[\"embedded\"]},\"id\":\"3681\",\"type\":\"Row\"},{\"attributes\":{},\"id\":\"3694\",\"type\":\"LinearScale\"}],\"root_ids\":[\"3681\"]},\"title\":\"Bokeh Application\",\"version\":\"2.4.3\"}};\n",
       "    var render_items = [{\"docid\":\"d3d34285-d91f-4201-b828-042ec3b1e7a4\",\"root_ids\":[\"3681\"],\"roots\":{\"3681\":\"9f35eeab-63a5-4ad3-95d5-38176ddf79de\"}}];\n",
       "    root.Bokeh.embed.embed_items_notebook(docs_json, render_items);\n",
       "  }\n",
       "  if (root.Bokeh !== undefined && root.Bokeh.Panel !== undefined) {\n",
       "    embed_document(root);\n",
       "  } else {\n",
       "    var attempts = 0;\n",
       "    var timer = setInterval(function(root) {\n",
       "      if (root.Bokeh !== undefined && root.Bokeh.Panel !== undefined) {\n",
       "        clearInterval(timer);\n",
       "        embed_document(root);\n",
       "      } else if (document.readyState == \"complete\") {\n",
       "        attempts++;\n",
       "        if (attempts > 200) {\n",
       "          clearInterval(timer);\n",
       "          console.log(\"Bokeh: ERROR: Unable to run BokehJS code because BokehJS library is missing\");\n",
       "        }\n",
       "      }\n",
       "    }, 25, root)\n",
       "  }\n",
       "})(window);</script>"
      ],
      "text/plain": [
       ":Overlay\n",
       "   .Curve.Cost_of_Chicken_per_Pound_since_1992 :Curve   [Date]   (Chicken Price)\n",
       "   .Curve.Predicted_Chicken_Prices             :Curve   [Date]   (Predicted Chicken Price)"
      ]
     },
     "execution_count": 123,
     "metadata": {
      "application/vnd.holoviews_exec.v0+json": {
       "id": "3681"
      }
     },
     "output_type": "execute_result"
    }
   ],
   "source": [
    "# Create composite plot of actual vs predicted\n",
    "compositie_plot = chicken_df_plot * future_chicken_plot\n",
    "compositie_plot"
   ]
  },
  {
   "cell_type": "markdown",
   "id": "c1de29d6-57a4-46d3-90b2-3f9fcf7604a5",
   "metadata": {},
   "source": [
    "### Create Plots\n",
    "\n",
    "1. Predictions based on actual data\n",
    "2. Composite Plots for "
   ]
  }
 ],
 "metadata": {
  "kernelspec": {
   "display_name": "Python 3 (ipykernel)",
   "language": "python",
   "name": "python3"
  },
  "language_info": {
   "codemirror_mode": {
    "name": "ipython",
    "version": 3
   },
   "file_extension": ".py",
   "mimetype": "text/x-python",
   "name": "python",
   "nbconvert_exporter": "python",
   "pygments_lexer": "ipython3",
   "version": "3.7.13"
  }
 },
 "nbformat": 4,
 "nbformat_minor": 5
}
