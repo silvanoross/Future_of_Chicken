{
 "cells": [
  {
   "cell_type": "code",
   "execution_count": 1,
   "id": "0417e88e-fed0-422a-9ed1-2c6fa2f0d425",
   "metadata": {},
   "outputs": [],
   "source": [
    "# Import dependencies\n",
    "import pandas as pd\n",
    "from pathlib import Path\n",
    "import xgboost as xgb\n",
    "import pickle\n",
    "import os"
   ]
  },
  {
   "cell_type": "code",
   "execution_count": 2,
   "id": "1ba7adfe-66af-4e62-bd67-afefa267d87a",
   "metadata": {},
   "outputs": [
    {
     "data": {
      "text/html": [
       "<div>\n",
       "<style scoped>\n",
       "    .dataframe tbody tr th:only-of-type {\n",
       "        vertical-align: middle;\n",
       "    }\n",
       "\n",
       "    .dataframe tbody tr th {\n",
       "        vertical-align: top;\n",
       "    }\n",
       "\n",
       "    .dataframe thead th {\n",
       "        text-align: right;\n",
       "    }\n",
       "</style>\n",
       "<table border=\"1\" class=\"dataframe\">\n",
       "  <thead>\n",
       "    <tr style=\"text-align: right;\">\n",
       "      <th></th>\n",
       "      <th>Month</th>\n",
       "      <th>Chicken Price</th>\n",
       "      <th>Chicken Price Change</th>\n",
       "      <th>Lamb Price</th>\n",
       "      <th>Lamb Price Change</th>\n",
       "      <th>Pork Price</th>\n",
       "      <th>Pork Price Change</th>\n",
       "      <th>Beef Price</th>\n",
       "      <th>Beef Price Change</th>\n",
       "    </tr>\n",
       "  </thead>\n",
       "  <tbody>\n",
       "    <tr>\n",
       "      <th>0</th>\n",
       "      <td>Sep 1992</td>\n",
       "      <td>1.08</td>\n",
       "      <td>-</td>\n",
       "      <td>2.80</td>\n",
       "      <td>-</td>\n",
       "      <td>53.85</td>\n",
       "      <td>-</td>\n",
       "      <td>2.44</td>\n",
       "      <td>-</td>\n",
       "    </tr>\n",
       "    <tr>\n",
       "      <th>1</th>\n",
       "      <td>Oct 1992</td>\n",
       "      <td>1.06</td>\n",
       "      <td>-1.85%</td>\n",
       "      <td>2.52</td>\n",
       "      <td>-10.00%</td>\n",
       "      <td>53.76</td>\n",
       "      <td>-0.17%</td>\n",
       "      <td>2.50</td>\n",
       "      <td>2.46%</td>\n",
       "    </tr>\n",
       "    <tr>\n",
       "      <th>2</th>\n",
       "      <td>Nov 1992</td>\n",
       "      <td>1.09</td>\n",
       "      <td>2.83%</td>\n",
       "      <td>2.55</td>\n",
       "      <td>1.19%</td>\n",
       "      <td>56.06</td>\n",
       "      <td>4.28%</td>\n",
       "      <td>2.54</td>\n",
       "      <td>1.60%</td>\n",
       "    </tr>\n",
       "    <tr>\n",
       "      <th>3</th>\n",
       "      <td>Dec 1992</td>\n",
       "      <td>1.09</td>\n",
       "      <td>0.00%</td>\n",
       "      <td>2.72</td>\n",
       "      <td>6.67%</td>\n",
       "      <td>53.17</td>\n",
       "      <td>-5.16%</td>\n",
       "      <td>2.54</td>\n",
       "      <td>0.00%</td>\n",
       "    </tr>\n",
       "    <tr>\n",
       "      <th>4</th>\n",
       "      <td>Jan 1993</td>\n",
       "      <td>1.11</td>\n",
       "      <td>1.83%</td>\n",
       "      <td>2.69</td>\n",
       "      <td>-1.10%</td>\n",
       "      <td>59.14</td>\n",
       "      <td>11.23%</td>\n",
       "      <td>2.35</td>\n",
       "      <td>-7.48%</td>\n",
       "    </tr>\n",
       "  </tbody>\n",
       "</table>\n",
       "</div>"
      ],
      "text/plain": [
       "      Month  Chicken Price Chicken Price Change  Lamb Price Lamb Price Change  \\\n",
       "0  Sep 1992           1.08                    -        2.80                 -   \n",
       "1  Oct 1992           1.06               -1.85%        2.52           -10.00%   \n",
       "2  Nov 1992           1.09                2.83%        2.55             1.19%   \n",
       "3  Dec 1992           1.09                0.00%        2.72             6.67%   \n",
       "4  Jan 1993           1.11                1.83%        2.69            -1.10%   \n",
       "\n",
       "   Pork Price Pork Price Change  Beef Price Beef Price Change  \n",
       "0       53.85                 -        2.44                 -  \n",
       "1       53.76            -0.17%        2.50             2.46%  \n",
       "2       56.06             4.28%        2.54             1.60%  \n",
       "3       53.17            -5.16%        2.54             0.00%  \n",
       "4       59.14            11.23%        2.35            -7.48%  "
      ]
     },
     "execution_count": 2,
     "metadata": {},
     "output_type": "execute_result"
    }
   ],
   "source": [
    "# Read meat prices into dataframe\n",
    "csv_path = Path('../resources/historic_meat_prices.csv')\n",
    "\n",
    "historic_meat_prices_df = pd.read_csv(csv_path)\n",
    "historic_meat_prices_df.head()"
   ]
  },
  {
   "cell_type": "code",
   "execution_count": 4,
   "id": "f0025b92-2faa-44f9-a0f4-b49f7eca4bca",
   "metadata": {},
   "outputs": [
    {
     "data": {
      "text/html": [
       "<div>\n",
       "<style scoped>\n",
       "    .dataframe tbody tr th:only-of-type {\n",
       "        vertical-align: middle;\n",
       "    }\n",
       "\n",
       "    .dataframe tbody tr th {\n",
       "        vertical-align: top;\n",
       "    }\n",
       "\n",
       "    .dataframe thead th {\n",
       "        text-align: right;\n",
       "    }\n",
       "</style>\n",
       "<table border=\"1\" class=\"dataframe\">\n",
       "  <thead>\n",
       "    <tr style=\"text-align: right;\">\n",
       "      <th></th>\n",
       "      <th>Month</th>\n",
       "      <th>Chicken Price</th>\n",
       "    </tr>\n",
       "  </thead>\n",
       "  <tbody>\n",
       "    <tr>\n",
       "      <th>0</th>\n",
       "      <td>Sep 1992</td>\n",
       "      <td>1.08</td>\n",
       "    </tr>\n",
       "    <tr>\n",
       "      <th>1</th>\n",
       "      <td>Oct 1992</td>\n",
       "      <td>1.06</td>\n",
       "    </tr>\n",
       "    <tr>\n",
       "      <th>2</th>\n",
       "      <td>Nov 1992</td>\n",
       "      <td>1.09</td>\n",
       "    </tr>\n",
       "    <tr>\n",
       "      <th>3</th>\n",
       "      <td>Dec 1992</td>\n",
       "      <td>1.09</td>\n",
       "    </tr>\n",
       "    <tr>\n",
       "      <th>4</th>\n",
       "      <td>Jan 1993</td>\n",
       "      <td>1.11</td>\n",
       "    </tr>\n",
       "  </tbody>\n",
       "</table>\n",
       "</div>"
      ],
      "text/plain": [
       "      Month  Chicken Price\n",
       "0  Sep 1992           1.08\n",
       "1  Oct 1992           1.06\n",
       "2  Nov 1992           1.09\n",
       "3  Dec 1992           1.09\n",
       "4  Jan 1993           1.11"
      ]
     },
     "execution_count": 4,
     "metadata": {},
     "output_type": "execute_result"
    }
   ],
   "source": [
    "# slice DataFrame for only chicken prices\n",
    "chicken_df = historic_meat_prices_df.loc[:, ['Month', 'Chicken Price']]\n",
    "chicken_df.head()"
   ]
  },
  {
   "cell_type": "code",
   "execution_count": 5,
   "id": "09dc13d7-08cb-48f5-bece-a88b60f687c2",
   "metadata": {},
   "outputs": [
    {
     "data": {
      "text/plain": [
       "Month             object\n",
       "Chicken Price    float64\n",
       "dtype: object"
      ]
     },
     "execution_count": 5,
     "metadata": {},
     "output_type": "execute_result"
    }
   ],
   "source": [
    "# Get dytpes\n",
    "chicken_df.dtypes"
   ]
  },
  {
   "cell_type": "code",
   "execution_count": 11,
   "id": "db00a031-50ed-4671-adb6-50b54e6111fb",
   "metadata": {},
   "outputs": [
    {
     "data": {
      "text/html": [
       "<div>\n",
       "<style scoped>\n",
       "    .dataframe tbody tr th:only-of-type {\n",
       "        vertical-align: middle;\n",
       "    }\n",
       "\n",
       "    .dataframe tbody tr th {\n",
       "        vertical-align: top;\n",
       "    }\n",
       "\n",
       "    .dataframe thead th {\n",
       "        text-align: right;\n",
       "    }\n",
       "</style>\n",
       "<table border=\"1\" class=\"dataframe\">\n",
       "  <thead>\n",
       "    <tr style=\"text-align: right;\">\n",
       "      <th></th>\n",
       "      <th>Month</th>\n",
       "      <th>Chicken Price</th>\n",
       "    </tr>\n",
       "  </thead>\n",
       "  <tbody>\n",
       "    <tr>\n",
       "      <th>0</th>\n",
       "      <td>1992-09-01</td>\n",
       "      <td>1.08</td>\n",
       "    </tr>\n",
       "    <tr>\n",
       "      <th>1</th>\n",
       "      <td>1992-10-01</td>\n",
       "      <td>1.06</td>\n",
       "    </tr>\n",
       "    <tr>\n",
       "      <th>2</th>\n",
       "      <td>1992-11-01</td>\n",
       "      <td>1.09</td>\n",
       "    </tr>\n",
       "    <tr>\n",
       "      <th>3</th>\n",
       "      <td>1992-12-01</td>\n",
       "      <td>1.09</td>\n",
       "    </tr>\n",
       "    <tr>\n",
       "      <th>4</th>\n",
       "      <td>1993-01-01</td>\n",
       "      <td>1.11</td>\n",
       "    </tr>\n",
       "  </tbody>\n",
       "</table>\n",
       "</div>"
      ],
      "text/plain": [
       "       Month  Chicken Price\n",
       "0 1992-09-01           1.08\n",
       "1 1992-10-01           1.06\n",
       "2 1992-11-01           1.09\n",
       "3 1992-12-01           1.09\n",
       "4 1993-01-01           1.11"
      ]
     },
     "execution_count": 11,
     "metadata": {},
     "output_type": "execute_result"
    }
   ],
   "source": [
    "# change Month into datetime object\n",
    "chicken_df['Month'] = pd.to_datetime(chicken_df['Month'], format='%b %Y')\n",
    "chicken_df.head()"
   ]
  },
  {
   "cell_type": "code",
   "execution_count": 12,
   "id": "e6959c6a-e67e-463c-a498-88e009cd4440",
   "metadata": {},
   "outputs": [
    {
     "data": {
      "text/plain": [
       "Month            datetime64[ns]\n",
       "Chicken Price           float64\n",
       "dtype: object"
      ]
     },
     "execution_count": 12,
     "metadata": {},
     "output_type": "execute_result"
    }
   ],
   "source": [
    "# Check dtypes\n",
    "chicken_df.dtypes"
   ]
  },
  {
   "cell_type": "code",
   "execution_count": null,
   "id": "57c421ab-78d8-4636-9637-cc01c56a4758",
   "metadata": {},
   "outputs": [],
   "source": []
  }
 ],
 "metadata": {
  "kernelspec": {
   "display_name": "Python (dev)",
   "language": "python",
   "name": "dev"
  },
  "language_info": {
   "codemirror_mode": {
    "name": "ipython",
    "version": 3
   },
   "file_extension": ".py",
   "mimetype": "text/x-python",
   "name": "python",
   "nbconvert_exporter": "python",
   "pygments_lexer": "ipython3",
   "version": "3.7.13"
  }
 },
 "nbformat": 4,
 "nbformat_minor": 5
}
